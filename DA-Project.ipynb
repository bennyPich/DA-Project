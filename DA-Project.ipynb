{
 "cells": [
  {
   "cell_type": "markdown",
   "metadata": {},
   "source": [
    "# Research on online strore Ice"
   ]
  },
  {
   "cell_type": "markdown",
   "metadata": {},
   "source": [
    "Ice is an online store which sells video games all over the world. User and expert reviews, genres, platforms (e.g. Xbox or PlayStation), and historical data on game sales are available from open sources.  \n",
    "We need to identify patterns that determine whether a game succeeds or not.  \n",
    "This will allow us to spot potential big winners and plan advertising campaigns.\n",
    "\n",
    "<b>Our goal is to plan advertising campaigns according to successful games</b>\n"
   ]
  },
  {
   "cell_type": "markdown",
   "metadata": {},
   "source": [
    "##  Open the data file and study the general information"
   ]
  },
  {
   "cell_type": "code",
   "execution_count": 1,
   "metadata": {},
   "outputs": [],
   "source": [
    "import pandas as pd\n",
    "import re\n",
    "import numpy as np\n",
    "from IPython.core.display import display, HTML\n",
    "import seaborn as sns\n",
    "from matplotlib import pyplot as plt\n",
    "from scipy import stats as st"
   ]
  },
  {
   "cell_type": "code",
   "execution_count": 2,
   "metadata": {},
   "outputs": [],
   "source": [
    "#Resize notebook width\n",
    "#display(HTML(\"<style>.container { width:100% !important; }</style>\"))"
   ]
  },
  {
   "cell_type": "code",
   "execution_count": 3,
   "metadata": {},
   "outputs": [],
   "source": [
    "#Read data from CSV file\n",
    "try:\n",
    "    games_data = pd.read_csv('https://code.s3.yandex.net/datasets/games.csv')\n",
    "except:\n",
    "  print(\"An exception occurred will reading csv file\")"
   ]
  },
  {
   "cell_type": "code",
   "execution_count": 4,
   "metadata": {},
   "outputs": [
    {
     "data": {
      "text/html": [
       "<div>\n",
       "<style scoped>\n",
       "    .dataframe tbody tr th:only-of-type {\n",
       "        vertical-align: middle;\n",
       "    }\n",
       "\n",
       "    .dataframe tbody tr th {\n",
       "        vertical-align: top;\n",
       "    }\n",
       "\n",
       "    .dataframe thead th {\n",
       "        text-align: right;\n",
       "    }\n",
       "</style>\n",
       "<table border=\"1\" class=\"dataframe\">\n",
       "  <thead>\n",
       "    <tr style=\"text-align: right;\">\n",
       "      <th></th>\n",
       "      <th>Name</th>\n",
       "      <th>Platform</th>\n",
       "      <th>Year_of_Release</th>\n",
       "      <th>Genre</th>\n",
       "      <th>NA_sales</th>\n",
       "      <th>EU_sales</th>\n",
       "      <th>JP_sales</th>\n",
       "      <th>Other_sales</th>\n",
       "      <th>Critic_Score</th>\n",
       "      <th>User_Score</th>\n",
       "      <th>Rating</th>\n",
       "    </tr>\n",
       "  </thead>\n",
       "  <tbody>\n",
       "    <tr>\n",
       "      <th>0</th>\n",
       "      <td>Wii Sports</td>\n",
       "      <td>Wii</td>\n",
       "      <td>2006.0</td>\n",
       "      <td>Sports</td>\n",
       "      <td>41.36</td>\n",
       "      <td>28.96</td>\n",
       "      <td>3.77</td>\n",
       "      <td>8.45</td>\n",
       "      <td>76.0</td>\n",
       "      <td>8</td>\n",
       "      <td>E</td>\n",
       "    </tr>\n",
       "    <tr>\n",
       "      <th>1</th>\n",
       "      <td>Super Mario Bros.</td>\n",
       "      <td>NES</td>\n",
       "      <td>1985.0</td>\n",
       "      <td>Platform</td>\n",
       "      <td>29.08</td>\n",
       "      <td>3.58</td>\n",
       "      <td>6.81</td>\n",
       "      <td>0.77</td>\n",
       "      <td>NaN</td>\n",
       "      <td>NaN</td>\n",
       "      <td>NaN</td>\n",
       "    </tr>\n",
       "    <tr>\n",
       "      <th>2</th>\n",
       "      <td>Mario Kart Wii</td>\n",
       "      <td>Wii</td>\n",
       "      <td>2008.0</td>\n",
       "      <td>Racing</td>\n",
       "      <td>15.68</td>\n",
       "      <td>12.76</td>\n",
       "      <td>3.79</td>\n",
       "      <td>3.29</td>\n",
       "      <td>82.0</td>\n",
       "      <td>8.3</td>\n",
       "      <td>E</td>\n",
       "    </tr>\n",
       "    <tr>\n",
       "      <th>3</th>\n",
       "      <td>Wii Sports Resort</td>\n",
       "      <td>Wii</td>\n",
       "      <td>2009.0</td>\n",
       "      <td>Sports</td>\n",
       "      <td>15.61</td>\n",
       "      <td>10.93</td>\n",
       "      <td>3.28</td>\n",
       "      <td>2.95</td>\n",
       "      <td>80.0</td>\n",
       "      <td>8</td>\n",
       "      <td>E</td>\n",
       "    </tr>\n",
       "    <tr>\n",
       "      <th>4</th>\n",
       "      <td>Pokemon Red/Pokemon Blue</td>\n",
       "      <td>GB</td>\n",
       "      <td>1996.0</td>\n",
       "      <td>Role-Playing</td>\n",
       "      <td>11.27</td>\n",
       "      <td>8.89</td>\n",
       "      <td>10.22</td>\n",
       "      <td>1.00</td>\n",
       "      <td>NaN</td>\n",
       "      <td>NaN</td>\n",
       "      <td>NaN</td>\n",
       "    </tr>\n",
       "    <tr>\n",
       "      <th>...</th>\n",
       "      <td>...</td>\n",
       "      <td>...</td>\n",
       "      <td>...</td>\n",
       "      <td>...</td>\n",
       "      <td>...</td>\n",
       "      <td>...</td>\n",
       "      <td>...</td>\n",
       "      <td>...</td>\n",
       "      <td>...</td>\n",
       "      <td>...</td>\n",
       "      <td>...</td>\n",
       "    </tr>\n",
       "    <tr>\n",
       "      <th>16710</th>\n",
       "      <td>Samurai Warriors: Sanada Maru</td>\n",
       "      <td>PS3</td>\n",
       "      <td>2016.0</td>\n",
       "      <td>Action</td>\n",
       "      <td>0.00</td>\n",
       "      <td>0.00</td>\n",
       "      <td>0.01</td>\n",
       "      <td>0.00</td>\n",
       "      <td>NaN</td>\n",
       "      <td>NaN</td>\n",
       "      <td>NaN</td>\n",
       "    </tr>\n",
       "    <tr>\n",
       "      <th>16711</th>\n",
       "      <td>LMA Manager 2007</td>\n",
       "      <td>X360</td>\n",
       "      <td>2006.0</td>\n",
       "      <td>Sports</td>\n",
       "      <td>0.00</td>\n",
       "      <td>0.01</td>\n",
       "      <td>0.00</td>\n",
       "      <td>0.00</td>\n",
       "      <td>NaN</td>\n",
       "      <td>NaN</td>\n",
       "      <td>NaN</td>\n",
       "    </tr>\n",
       "    <tr>\n",
       "      <th>16712</th>\n",
       "      <td>Haitaka no Psychedelica</td>\n",
       "      <td>PSV</td>\n",
       "      <td>2016.0</td>\n",
       "      <td>Adventure</td>\n",
       "      <td>0.00</td>\n",
       "      <td>0.00</td>\n",
       "      <td>0.01</td>\n",
       "      <td>0.00</td>\n",
       "      <td>NaN</td>\n",
       "      <td>NaN</td>\n",
       "      <td>NaN</td>\n",
       "    </tr>\n",
       "    <tr>\n",
       "      <th>16713</th>\n",
       "      <td>Spirits &amp; Spells</td>\n",
       "      <td>GBA</td>\n",
       "      <td>2003.0</td>\n",
       "      <td>Platform</td>\n",
       "      <td>0.01</td>\n",
       "      <td>0.00</td>\n",
       "      <td>0.00</td>\n",
       "      <td>0.00</td>\n",
       "      <td>NaN</td>\n",
       "      <td>NaN</td>\n",
       "      <td>NaN</td>\n",
       "    </tr>\n",
       "    <tr>\n",
       "      <th>16714</th>\n",
       "      <td>Winning Post 8 2016</td>\n",
       "      <td>PSV</td>\n",
       "      <td>2016.0</td>\n",
       "      <td>Simulation</td>\n",
       "      <td>0.00</td>\n",
       "      <td>0.00</td>\n",
       "      <td>0.01</td>\n",
       "      <td>0.00</td>\n",
       "      <td>NaN</td>\n",
       "      <td>NaN</td>\n",
       "      <td>NaN</td>\n",
       "    </tr>\n",
       "  </tbody>\n",
       "</table>\n",
       "<p>16715 rows × 11 columns</p>\n",
       "</div>"
      ],
      "text/plain": [
       "                                Name Platform  Year_of_Release         Genre  \\\n",
       "0                         Wii Sports      Wii           2006.0        Sports   \n",
       "1                  Super Mario Bros.      NES           1985.0      Platform   \n",
       "2                     Mario Kart Wii      Wii           2008.0        Racing   \n",
       "3                  Wii Sports Resort      Wii           2009.0        Sports   \n",
       "4           Pokemon Red/Pokemon Blue       GB           1996.0  Role-Playing   \n",
       "...                              ...      ...              ...           ...   \n",
       "16710  Samurai Warriors: Sanada Maru      PS3           2016.0        Action   \n",
       "16711               LMA Manager 2007     X360           2006.0        Sports   \n",
       "16712        Haitaka no Psychedelica      PSV           2016.0     Adventure   \n",
       "16713               Spirits & Spells      GBA           2003.0      Platform   \n",
       "16714            Winning Post 8 2016      PSV           2016.0    Simulation   \n",
       "\n",
       "       NA_sales  EU_sales  JP_sales  Other_sales  Critic_Score User_Score  \\\n",
       "0         41.36     28.96      3.77         8.45          76.0          8   \n",
       "1         29.08      3.58      6.81         0.77           NaN        NaN   \n",
       "2         15.68     12.76      3.79         3.29          82.0        8.3   \n",
       "3         15.61     10.93      3.28         2.95          80.0          8   \n",
       "4         11.27      8.89     10.22         1.00           NaN        NaN   \n",
       "...         ...       ...       ...          ...           ...        ...   \n",
       "16710      0.00      0.00      0.01         0.00           NaN        NaN   \n",
       "16711      0.00      0.01      0.00         0.00           NaN        NaN   \n",
       "16712      0.00      0.00      0.01         0.00           NaN        NaN   \n",
       "16713      0.01      0.00      0.00         0.00           NaN        NaN   \n",
       "16714      0.00      0.00      0.01         0.00           NaN        NaN   \n",
       "\n",
       "      Rating  \n",
       "0          E  \n",
       "1        NaN  \n",
       "2          E  \n",
       "3          E  \n",
       "4        NaN  \n",
       "...      ...  \n",
       "16710    NaN  \n",
       "16711    NaN  \n",
       "16712    NaN  \n",
       "16713    NaN  \n",
       "16714    NaN  \n",
       "\n",
       "[16715 rows x 11 columns]"
      ]
     },
     "execution_count": 4,
     "metadata": {},
     "output_type": "execute_result"
    }
   ],
   "source": [
    "#Explorer the data\n",
    "games_data"
   ]
  },
  {
   "cell_type": "code",
   "execution_count": 5,
   "metadata": {},
   "outputs": [
    {
     "name": "stdout",
     "output_type": "stream",
     "text": [
      "<class 'pandas.core.frame.DataFrame'>\n",
      "RangeIndex: 16715 entries, 0 to 16714\n",
      "Data columns (total 11 columns):\n",
      " #   Column           Non-Null Count  Dtype  \n",
      "---  ------           --------------  -----  \n",
      " 0   Name             16713 non-null  object \n",
      " 1   Platform         16715 non-null  object \n",
      " 2   Year_of_Release  16446 non-null  float64\n",
      " 3   Genre            16713 non-null  object \n",
      " 4   NA_sales         16715 non-null  float64\n",
      " 5   EU_sales         16715 non-null  float64\n",
      " 6   JP_sales         16715 non-null  float64\n",
      " 7   Other_sales      16715 non-null  float64\n",
      " 8   Critic_Score     8137 non-null   float64\n",
      " 9   User_Score       10014 non-null  object \n",
      " 10  Rating           9949 non-null   object \n",
      "dtypes: float64(6), object(5)\n",
      "memory usage: 1.4+ MB\n"
     ]
    }
   ],
   "source": [
    "#General information\n",
    "games_data.info()"
   ]
  },
  {
   "cell_type": "code",
   "execution_count": 6,
   "metadata": {},
   "outputs": [
    {
     "data": {
      "text/plain": [
       "Name                  2\n",
       "Platform              0\n",
       "Year_of_Release     269\n",
       "Genre                 2\n",
       "NA_sales              0\n",
       "EU_sales              0\n",
       "JP_sales              0\n",
       "Other_sales           0\n",
       "Critic_Score       8578\n",
       "User_Score         6701\n",
       "Rating             6766\n",
       "dtype: int64"
      ]
     },
     "execution_count": 6,
     "metadata": {},
     "output_type": "execute_result"
    }
   ],
   "source": [
    "#Check for  missing values\n",
    "games_data.isnull().sum()"
   ]
  },
  {
   "cell_type": "code",
   "execution_count": 7,
   "metadata": {},
   "outputs": [
    {
     "data": {
      "text/html": [
       "<div>\n",
       "<style scoped>\n",
       "    .dataframe tbody tr th:only-of-type {\n",
       "        vertical-align: middle;\n",
       "    }\n",
       "\n",
       "    .dataframe tbody tr th {\n",
       "        vertical-align: top;\n",
       "    }\n",
       "\n",
       "    .dataframe thead th {\n",
       "        text-align: right;\n",
       "    }\n",
       "</style>\n",
       "<table border=\"1\" class=\"dataframe\">\n",
       "  <thead>\n",
       "    <tr style=\"text-align: right;\">\n",
       "      <th></th>\n",
       "      <th>missing_values</th>\n",
       "      <th>% of total</th>\n",
       "    </tr>\n",
       "  </thead>\n",
       "  <tbody>\n",
       "    <tr>\n",
       "      <th>Critic_Score</th>\n",
       "      <td>8578</td>\n",
       "      <td>0.51</td>\n",
       "    </tr>\n",
       "    <tr>\n",
       "      <th>Rating</th>\n",
       "      <td>6766</td>\n",
       "      <td>0.40</td>\n",
       "    </tr>\n",
       "    <tr>\n",
       "      <th>User_Score</th>\n",
       "      <td>6701</td>\n",
       "      <td>0.40</td>\n",
       "    </tr>\n",
       "    <tr>\n",
       "      <th>Year_of_Release</th>\n",
       "      <td>269</td>\n",
       "      <td>0.02</td>\n",
       "    </tr>\n",
       "    <tr>\n",
       "      <th>Name</th>\n",
       "      <td>2</td>\n",
       "      <td>0.00</td>\n",
       "    </tr>\n",
       "    <tr>\n",
       "      <th>Genre</th>\n",
       "      <td>2</td>\n",
       "      <td>0.00</td>\n",
       "    </tr>\n",
       "    <tr>\n",
       "      <th>Platform</th>\n",
       "      <td>0</td>\n",
       "      <td>0.00</td>\n",
       "    </tr>\n",
       "    <tr>\n",
       "      <th>NA_sales</th>\n",
       "      <td>0</td>\n",
       "      <td>0.00</td>\n",
       "    </tr>\n",
       "    <tr>\n",
       "      <th>EU_sales</th>\n",
       "      <td>0</td>\n",
       "      <td>0.00</td>\n",
       "    </tr>\n",
       "    <tr>\n",
       "      <th>JP_sales</th>\n",
       "      <td>0</td>\n",
       "      <td>0.00</td>\n",
       "    </tr>\n",
       "    <tr>\n",
       "      <th>Other_sales</th>\n",
       "      <td>0</td>\n",
       "      <td>0.00</td>\n",
       "    </tr>\n",
       "  </tbody>\n",
       "</table>\n",
       "</div>"
      ],
      "text/plain": [
       "                 missing_values  % of total\n",
       "Critic_Score               8578        0.51\n",
       "Rating                     6766        0.40\n",
       "User_Score                 6701        0.40\n",
       "Year_of_Release             269        0.02\n",
       "Name                          2        0.00\n",
       "Genre                         2        0.00\n",
       "Platform                      0        0.00\n",
       "NA_sales                      0        0.00\n",
       "EU_sales                      0        0.00\n",
       "JP_sales                      0        0.00\n",
       "Other_sales                   0        0.00"
      ]
     },
     "execution_count": 7,
     "metadata": {},
     "output_type": "execute_result"
    }
   ],
   "source": [
    "#Check for  missing values and calculate there percentage\n",
    "missing_values_report = games_data.isna().sum().to_frame()\n",
    "missing_values_report = missing_values_report.rename(columns = {0: 'missing_values'})\n",
    "missing_values_report['% of total'] = (missing_values_report['missing_values'] / games_data.shape[0]).round(2)\n",
    "missing_values_report.sort_values(by = 'missing_values', ascending = False)"
   ]
  },
  {
   "cell_type": "code",
   "execution_count": 8,
   "metadata": {},
   "outputs": [
    {
     "data": {
      "text/plain": [
       "0"
      ]
     },
     "execution_count": 8,
     "metadata": {},
     "output_type": "execute_result"
    }
   ],
   "source": [
    "#Check for duplicates\n",
    "games_data.duplicated().sum()"
   ]
  },
  {
   "cell_type": "markdown",
   "metadata": {},
   "source": [
    "####  Conclusion"
   ]
  },
  {
   "cell_type": "markdown",
   "metadata": {},
   "source": [
    "1. 'year_of_release' if of type float  and should be int\n",
    "2. 'User_Score' if of type object  and should be float according to documentation should be maximum of 10\n",
    "3. There are missing values that should be fix in the following fields: \n",
    "    - year_of_release - 269(2%)  missing values  \n",
    "    - genre - 2 missing values\n",
    "    - name - 2 missing values\n",
    "    - critic_score - 8578(51%) missing values\n",
    "    - user_score - 6701(40%) missing values\n",
    "    - rating - 6766(40%) missing values\n",
    "4. There are NO duplicate values"
   ]
  },
  {
   "cell_type": "markdown",
   "metadata": {},
   "source": [
    "##  Data preprocessing"
   ]
  },
  {
   "cell_type": "markdown",
   "metadata": {},
   "source": [
    "###  Processing missing values"
   ]
  },
  {
   "cell_type": "code",
   "execution_count": 9,
   "metadata": {},
   "outputs": [],
   "source": [
    "#Replace the columns name to lower case\n",
    "games_data.columns = games_data.columns.str.lower()"
   ]
  },
  {
   "cell_type": "code",
   "execution_count": 10,
   "metadata": {},
   "outputs": [
    {
     "data": {
      "text/html": [
       "<div>\n",
       "<style scoped>\n",
       "    .dataframe tbody tr th:only-of-type {\n",
       "        vertical-align: middle;\n",
       "    }\n",
       "\n",
       "    .dataframe tbody tr th {\n",
       "        vertical-align: top;\n",
       "    }\n",
       "\n",
       "    .dataframe thead th {\n",
       "        text-align: right;\n",
       "    }\n",
       "</style>\n",
       "<table border=\"1\" class=\"dataframe\">\n",
       "  <thead>\n",
       "    <tr style=\"text-align: right;\">\n",
       "      <th></th>\n",
       "      <th>name</th>\n",
       "      <th>platform</th>\n",
       "      <th>year_of_release</th>\n",
       "      <th>genre</th>\n",
       "      <th>na_sales</th>\n",
       "      <th>eu_sales</th>\n",
       "      <th>jp_sales</th>\n",
       "      <th>other_sales</th>\n",
       "      <th>critic_score</th>\n",
       "      <th>user_score</th>\n",
       "      <th>rating</th>\n",
       "    </tr>\n",
       "  </thead>\n",
       "  <tbody>\n",
       "    <tr>\n",
       "      <th>659</th>\n",
       "      <td>NaN</td>\n",
       "      <td>GEN</td>\n",
       "      <td>1993.0</td>\n",
       "      <td>NaN</td>\n",
       "      <td>1.78</td>\n",
       "      <td>0.53</td>\n",
       "      <td>0.00</td>\n",
       "      <td>0.08</td>\n",
       "      <td>NaN</td>\n",
       "      <td>NaN</td>\n",
       "      <td>NaN</td>\n",
       "    </tr>\n",
       "    <tr>\n",
       "      <th>14244</th>\n",
       "      <td>NaN</td>\n",
       "      <td>GEN</td>\n",
       "      <td>1993.0</td>\n",
       "      <td>NaN</td>\n",
       "      <td>0.00</td>\n",
       "      <td>0.00</td>\n",
       "      <td>0.03</td>\n",
       "      <td>0.00</td>\n",
       "      <td>NaN</td>\n",
       "      <td>NaN</td>\n",
       "      <td>NaN</td>\n",
       "    </tr>\n",
       "  </tbody>\n",
       "</table>\n",
       "</div>"
      ],
      "text/plain": [
       "      name platform  year_of_release genre  na_sales  eu_sales  jp_sales  \\\n",
       "659    NaN      GEN           1993.0   NaN      1.78      0.53      0.00   \n",
       "14244  NaN      GEN           1993.0   NaN      0.00      0.00      0.03   \n",
       "\n",
       "       other_sales  critic_score user_score rating  \n",
       "659           0.08           NaN        NaN    NaN  \n",
       "14244         0.00           NaN        NaN    NaN  "
      ]
     },
     "execution_count": 10,
     "metadata": {},
     "output_type": "execute_result"
    }
   ],
   "source": [
    "#'name' rows with null\n",
    "games_data[games_data['name'].isnull()]"
   ]
  },
  {
   "cell_type": "code",
   "execution_count": 11,
   "metadata": {},
   "outputs": [],
   "source": [
    "# Delete rows with name=NaN.there are only 2 rows and they are without score and have only few sales\n",
    "games_data.drop(games_data[games_data['name'].isnull()].index, inplace=True)"
   ]
  },
  {
   "cell_type": "code",
   "execution_count": 12,
   "metadata": {},
   "outputs": [],
   "source": [
    "#games_data.loc[games_data['critic_score'].isnull(),'critic_score'] = games_data.loc[games_data['critic_score'].isnull(),'critic_score'].fillna(0)\n",
    "\n",
    "#Fill missing values withmedian value grouped by 'platform' & 'genre'\n",
    "games_data['critic_score'] = games_data.critic_score.fillna(games_data.groupby(['platform','genre'])['critic_score'].transform('median'))\n",
    "\n",
    "#There are still 1132 rows with NaN value so we'll group it only by 'genre'\n",
    "games_data['critic_score'] = games_data.critic_score.fillna(games_data.groupby('genre')['critic_score'].transform('median'))"
   ]
  },
  {
   "cell_type": "code",
   "execution_count": 13,
   "metadata": {},
   "outputs": [],
   "source": [
    "#Fill missing values with 0\n",
    "#games_data.loc[games_data['user_score'].isnull(),'user_score'] = games_data.loc[games_data['user_score'].isnull(),'user_score'].fillna(0)\n",
    "\n",
    "#Replace 'user_score'  'tbd' value to NaN\n",
    "#tbd= to be determined - meaning that there is still no score\n",
    "games_data.user_score.replace('tbd',  np.NaN, inplace=True)\n",
    "\n",
    "#Replace data type to float\n",
    "#In order to execute the filling missing values step we'll change the type here.\n",
    "#we cant execute  transform('median')on object data type\n",
    "#value should be  maximum of 10\n",
    "games_data['user_score'] = games_data['user_score'].astype(float)\n",
    "\n",
    "#Fill missing values withmedian value grouped by 'platform' & 'genre'\n",
    "games_data['user_score'] = games_data.user_score.fillna(games_data.groupby(['platform','genre'])['user_score'].transform('median'))\n",
    "\n",
    "#There are still 1125 rows with NaN value so we'll group it only by 'genre'\n",
    "games_data['user_score'] = games_data.user_score.fillna(games_data.groupby('genre')['user_score'].transform('median'))"
   ]
  },
  {
   "cell_type": "code",
   "execution_count": 14,
   "metadata": {},
   "outputs": [],
   "source": [
    "#Fill missing values with 'rp' (rating pending)\n",
    "games_data.loc[games_data['rating'].isnull(),'rating'] = games_data.loc[games_data['rating'].isnull(),'rating'].fillna('unknown')"
   ]
  },
  {
   "cell_type": "code",
   "execution_count": 15,
   "metadata": {},
   "outputs": [],
   "source": [
    "#There is no such rating exist!! \n",
    "#Check how many rows exist with 'K-A'rating\n",
    "games_data[games_data['rating'] == 'K-A']['name'].count()\n",
    "#Change 'K-A' to 'RP'\n",
    "games_data.rating.replace('K-A','unknown',inplace=True)\n"
   ]
  },
  {
   "cell_type": "code",
   "execution_count": 16,
   "metadata": {},
   "outputs": [
    {
     "data": {
      "text/plain": [
       "array(['E', 'unknown', 'M', 'T', 'E10+', 'AO', 'RP'], dtype=object)"
      ]
     },
     "execution_count": 16,
     "metadata": {},
     "output_type": "execute_result"
    }
   ],
   "source": [
    "#There is no such rating exist!! \n",
    "#Check how many rows exist with 'EC'rating\n",
    "games_data[games_data['rating'] == 'EC']['name'].count()\n",
    "#Change 'K-A' to 'RP'\n",
    "games_data.rating.replace('EC','unknown',inplace=True)\n",
    "#Check rating values to varify that only legןt values exist\n",
    "games_data['rating'].unique()"
   ]
  },
  {
   "cell_type": "code",
   "execution_count": 17,
   "metadata": {},
   "outputs": [],
   "source": [
    "#games_data[games_data['year_of_release'].isnull()]['name'].transform(lambda name: re.search('\\d{4}', name))\n",
    "\n",
    "#Check if 'name' contains year in 4 digits pattern\n",
    "#if yes return the year and fill missing value in 'year_of_release' column\n",
    "def get_year_from_name(name):\n",
    "    \n",
    "    year = re.search('\\d{4}',name)\n",
    "    if year:\n",
    "        return year.group()\n",
    "\n",
    "games_data.loc[games_data['year_of_release'].isnull(),'year_of_release']  = games_data.loc[games_data['year_of_release'].isnull(),'name'].apply(get_year_from_name)\n",
    "#Drop rows were 'year_of_release' is null\n",
    "games_data.dropna(subset=['year_of_release'],inplace=True)"
   ]
  },
  {
   "cell_type": "markdown",
   "metadata": {},
   "source": [
    "There are still 252 rows with null values on 'year_of_release' column\n",
    "There total sales are very low\n",
    "the percentage of then is 1.5% , so we can delete them"
   ]
  },
  {
   "cell_type": "markdown",
   "metadata": {},
   "source": [
    "###  Data type replacement"
   ]
  },
  {
   "cell_type": "code",
   "execution_count": 18,
   "metadata": {},
   "outputs": [],
   "source": [
    "#Replace 'year_of_release' data type to int16 -it contains only 4 digits si int16 is enought\n",
    "games_data['year_of_release'] = games_data['year_of_release'].astype(np.int16)"
   ]
  },
  {
   "cell_type": "code",
   "execution_count": 19,
   "metadata": {},
   "outputs": [
    {
     "name": "stdout",
     "output_type": "stream",
     "text": [
      "<class 'pandas.core.frame.DataFrame'>\n",
      "Int64Index: 16461 entries, 0 to 16714\n",
      "Data columns (total 11 columns):\n",
      " #   Column           Non-Null Count  Dtype  \n",
      "---  ------           --------------  -----  \n",
      " 0   name             16461 non-null  object \n",
      " 1   platform         16461 non-null  object \n",
      " 2   year_of_release  16461 non-null  int16  \n",
      " 3   genre            16461 non-null  object \n",
      " 4   na_sales         16461 non-null  float64\n",
      " 5   eu_sales         16461 non-null  float64\n",
      " 6   jp_sales         16461 non-null  float64\n",
      " 7   other_sales      16461 non-null  float64\n",
      " 8   critic_score     16461 non-null  float64\n",
      " 9   user_score       16461 non-null  float64\n",
      " 10  rating           16461 non-null  object \n",
      "dtypes: float64(6), int16(1), object(4)\n",
      "memory usage: 1.4+ MB\n"
     ]
    }
   ],
   "source": [
    "#check changes\n",
    "games_data.info()"
   ]
  },
  {
   "cell_type": "code",
   "execution_count": 20,
   "metadata": {},
   "outputs": [
    {
     "data": {
      "text/html": [
       "<div>\n",
       "<style scoped>\n",
       "    .dataframe tbody tr th:only-of-type {\n",
       "        vertical-align: middle;\n",
       "    }\n",
       "\n",
       "    .dataframe tbody tr th {\n",
       "        vertical-align: top;\n",
       "    }\n",
       "\n",
       "    .dataframe thead th {\n",
       "        text-align: right;\n",
       "    }\n",
       "</style>\n",
       "<table border=\"1\" class=\"dataframe\">\n",
       "  <thead>\n",
       "    <tr style=\"text-align: right;\">\n",
       "      <th></th>\n",
       "      <th>name</th>\n",
       "      <th>platform</th>\n",
       "      <th>year_of_release</th>\n",
       "      <th>genre</th>\n",
       "      <th>na_sales</th>\n",
       "      <th>eu_sales</th>\n",
       "      <th>jp_sales</th>\n",
       "      <th>other_sales</th>\n",
       "      <th>critic_score</th>\n",
       "      <th>user_score</th>\n",
       "      <th>rating</th>\n",
       "      <th>total_sales</th>\n",
       "    </tr>\n",
       "  </thead>\n",
       "  <tbody>\n",
       "    <tr>\n",
       "      <th>0</th>\n",
       "      <td>Wii Sports</td>\n",
       "      <td>Wii</td>\n",
       "      <td>2006</td>\n",
       "      <td>Sports</td>\n",
       "      <td>41.36</td>\n",
       "      <td>28.96</td>\n",
       "      <td>3.77</td>\n",
       "      <td>8.45</td>\n",
       "      <td>76.0</td>\n",
       "      <td>8.00</td>\n",
       "      <td>E</td>\n",
       "      <td>82.54</td>\n",
       "    </tr>\n",
       "    <tr>\n",
       "      <th>1</th>\n",
       "      <td>Super Mario Bros.</td>\n",
       "      <td>NES</td>\n",
       "      <td>1985</td>\n",
       "      <td>Platform</td>\n",
       "      <td>29.08</td>\n",
       "      <td>3.58</td>\n",
       "      <td>6.81</td>\n",
       "      <td>0.77</td>\n",
       "      <td>70.0</td>\n",
       "      <td>7.80</td>\n",
       "      <td>unknown</td>\n",
       "      <td>40.24</td>\n",
       "    </tr>\n",
       "    <tr>\n",
       "      <th>2</th>\n",
       "      <td>Mario Kart Wii</td>\n",
       "      <td>Wii</td>\n",
       "      <td>2008</td>\n",
       "      <td>Racing</td>\n",
       "      <td>15.68</td>\n",
       "      <td>12.76</td>\n",
       "      <td>3.79</td>\n",
       "      <td>3.29</td>\n",
       "      <td>82.0</td>\n",
       "      <td>8.30</td>\n",
       "      <td>E</td>\n",
       "      <td>35.52</td>\n",
       "    </tr>\n",
       "    <tr>\n",
       "      <th>3</th>\n",
       "      <td>Wii Sports Resort</td>\n",
       "      <td>Wii</td>\n",
       "      <td>2009</td>\n",
       "      <td>Sports</td>\n",
       "      <td>15.61</td>\n",
       "      <td>10.93</td>\n",
       "      <td>3.28</td>\n",
       "      <td>2.95</td>\n",
       "      <td>80.0</td>\n",
       "      <td>8.00</td>\n",
       "      <td>E</td>\n",
       "      <td>32.77</td>\n",
       "    </tr>\n",
       "    <tr>\n",
       "      <th>4</th>\n",
       "      <td>Pokemon Red/Pokemon Blue</td>\n",
       "      <td>GB</td>\n",
       "      <td>1996</td>\n",
       "      <td>Role-Playing</td>\n",
       "      <td>11.27</td>\n",
       "      <td>8.89</td>\n",
       "      <td>10.22</td>\n",
       "      <td>1.00</td>\n",
       "      <td>72.0</td>\n",
       "      <td>7.80</td>\n",
       "      <td>unknown</td>\n",
       "      <td>31.38</td>\n",
       "    </tr>\n",
       "    <tr>\n",
       "      <th>...</th>\n",
       "      <td>...</td>\n",
       "      <td>...</td>\n",
       "      <td>...</td>\n",
       "      <td>...</td>\n",
       "      <td>...</td>\n",
       "      <td>...</td>\n",
       "      <td>...</td>\n",
       "      <td>...</td>\n",
       "      <td>...</td>\n",
       "      <td>...</td>\n",
       "      <td>...</td>\n",
       "      <td>...</td>\n",
       "    </tr>\n",
       "    <tr>\n",
       "      <th>16182</th>\n",
       "      <td>Rocksmith 2014 Edition Remastered</td>\n",
       "      <td>XOne</td>\n",
       "      <td>2016</td>\n",
       "      <td>Misc</td>\n",
       "      <td>0.01</td>\n",
       "      <td>0.00</td>\n",
       "      <td>0.00</td>\n",
       "      <td>0.00</td>\n",
       "      <td>73.5</td>\n",
       "      <td>7.00</td>\n",
       "      <td>T</td>\n",
       "      <td>0.01</td>\n",
       "    </tr>\n",
       "    <tr>\n",
       "      <th>16183</th>\n",
       "      <td>Uta no * Prince-Sama: Sweet Serenade</td>\n",
       "      <td>PSP</td>\n",
       "      <td>2011</td>\n",
       "      <td>Adventure</td>\n",
       "      <td>0.00</td>\n",
       "      <td>0.00</td>\n",
       "      <td>0.01</td>\n",
       "      <td>0.00</td>\n",
       "      <td>64.0</td>\n",
       "      <td>7.80</td>\n",
       "      <td>unknown</td>\n",
       "      <td>0.01</td>\n",
       "    </tr>\n",
       "    <tr>\n",
       "      <th>16714</th>\n",
       "      <td>Winning Post 8 2016</td>\n",
       "      <td>PSV</td>\n",
       "      <td>2016</td>\n",
       "      <td>Simulation</td>\n",
       "      <td>0.00</td>\n",
       "      <td>0.00</td>\n",
       "      <td>0.01</td>\n",
       "      <td>0.00</td>\n",
       "      <td>65.5</td>\n",
       "      <td>7.30</td>\n",
       "      <td>unknown</td>\n",
       "      <td>0.01</td>\n",
       "    </tr>\n",
       "    <tr>\n",
       "      <th>16676</th>\n",
       "      <td>G1 Jockey 4 2008</td>\n",
       "      <td>PS3</td>\n",
       "      <td>2008</td>\n",
       "      <td>Sports</td>\n",
       "      <td>0.00</td>\n",
       "      <td>0.00</td>\n",
       "      <td>0.00</td>\n",
       "      <td>0.00</td>\n",
       "      <td>76.5</td>\n",
       "      <td>6.70</td>\n",
       "      <td>unknown</td>\n",
       "      <td>0.00</td>\n",
       "    </tr>\n",
       "    <tr>\n",
       "      <th>16709</th>\n",
       "      <td>SCORE International Baja 1000: The Official Game</td>\n",
       "      <td>PS2</td>\n",
       "      <td>2008</td>\n",
       "      <td>Racing</td>\n",
       "      <td>0.00</td>\n",
       "      <td>0.00</td>\n",
       "      <td>0.00</td>\n",
       "      <td>0.00</td>\n",
       "      <td>68.0</td>\n",
       "      <td>7.85</td>\n",
       "      <td>unknown</td>\n",
       "      <td>0.00</td>\n",
       "    </tr>\n",
       "  </tbody>\n",
       "</table>\n",
       "<p>16461 rows × 12 columns</p>\n",
       "</div>"
      ],
      "text/plain": [
       "                                                   name platform  \\\n",
       "0                                            Wii Sports      Wii   \n",
       "1                                     Super Mario Bros.      NES   \n",
       "2                                        Mario Kart Wii      Wii   \n",
       "3                                     Wii Sports Resort      Wii   \n",
       "4                              Pokemon Red/Pokemon Blue       GB   \n",
       "...                                                 ...      ...   \n",
       "16182                 Rocksmith 2014 Edition Remastered     XOne   \n",
       "16183              Uta no * Prince-Sama: Sweet Serenade      PSP   \n",
       "16714                               Winning Post 8 2016      PSV   \n",
       "16676                                  G1 Jockey 4 2008      PS3   \n",
       "16709  SCORE International Baja 1000: The Official Game      PS2   \n",
       "\n",
       "       year_of_release         genre  na_sales  eu_sales  jp_sales  \\\n",
       "0                 2006        Sports     41.36     28.96      3.77   \n",
       "1                 1985      Platform     29.08      3.58      6.81   \n",
       "2                 2008        Racing     15.68     12.76      3.79   \n",
       "3                 2009        Sports     15.61     10.93      3.28   \n",
       "4                 1996  Role-Playing     11.27      8.89     10.22   \n",
       "...                ...           ...       ...       ...       ...   \n",
       "16182             2016          Misc      0.01      0.00      0.00   \n",
       "16183             2011     Adventure      0.00      0.00      0.01   \n",
       "16714             2016    Simulation      0.00      0.00      0.01   \n",
       "16676             2008        Sports      0.00      0.00      0.00   \n",
       "16709             2008        Racing      0.00      0.00      0.00   \n",
       "\n",
       "       other_sales  critic_score  user_score   rating  total_sales  \n",
       "0             8.45          76.0        8.00        E        82.54  \n",
       "1             0.77          70.0        7.80  unknown        40.24  \n",
       "2             3.29          82.0        8.30        E        35.52  \n",
       "3             2.95          80.0        8.00        E        32.77  \n",
       "4             1.00          72.0        7.80  unknown        31.38  \n",
       "...            ...           ...         ...      ...          ...  \n",
       "16182         0.00          73.5        7.00        T         0.01  \n",
       "16183         0.00          64.0        7.80  unknown         0.01  \n",
       "16714         0.00          65.5        7.30  unknown         0.01  \n",
       "16676         0.00          76.5        6.70  unknown         0.00  \n",
       "16709         0.00          68.0        7.85  unknown         0.00  \n",
       "\n",
       "[16461 rows x 12 columns]"
      ]
     },
     "execution_count": 20,
     "metadata": {},
     "output_type": "execute_result"
    }
   ],
   "source": [
    "#Calculate total sales for each game\n",
    "games_data['total_sales'] = games_data[['na_sales','eu_sales', 'jp_sales','other_sales']].sum(axis=1)\n",
    "games_data.sort_values('total_sales',ascending=False)"
   ]
  },
  {
   "cell_type": "markdown",
   "metadata": {},
   "source": [
    "###  Conclusion"
   ]
  },
  {
   "cell_type": "markdown",
   "metadata": {},
   "source": [
    "1. Delete rows were 'name' equal NaN - there are 2 rows. the rows without score and has only few sales\n",
    "2. 'critic_score' with NaN fiiled with median value that grouped by 'platform' & 'genre'\n",
    "3. 'user_score' with NaN fiiled with median value that grouped by 'platform' & 'genre'\n",
    "4. 'rating' with NaN value were replaced to 'unknown' (Rating pending).\n",
    "5. 'user_score', 'critic_score', 'rating' missing can be exist for those reasons:\n",
    "    - The data supplyed is not updated \n",
    "    - There are games that are not popular and has minimal sales, so they are not been scored and rated\n",
    "6. 'year_of_release' missing values can be exist for those reasons:\n",
    "    - The data supplyed is not updated \n",
    "    - There are games that are not popular and has minimal sales, so nobody care about then \n",
    "7. In order to get more accurate data about  'year_of_release', we differentiate that in some rows, the 'name' column contains the year of release.\n",
    "    so we took the value from there. for other rows (252 rows) we droped the rows\n",
    "8. There is no such ratings exist 'K-A' and 'EC' so we replaced it to 'RP'.\n",
    "   link to esrb rating Categories https://www.esrb.org/ratings-guide/"
   ]
  },
  {
   "cell_type": "markdown",
   "metadata": {},
   "source": [
    "##  Analyze the data "
   ]
  },
  {
   "cell_type": "markdown",
   "metadata": {},
   "source": [
    "###  How many games were released in different years"
   ]
  },
  {
   "cell_type": "code",
   "execution_count": 21,
   "metadata": {
    "scrolled": true
   },
   "outputs": [
    {
     "data": {
      "text/plain": [
       "Text(0, 0.5, 'number of games')"
      ]
     },
     "execution_count": 21,
     "metadata": {},
     "output_type": "execute_result"
    },
    {
     "data": {
      "image/png": "[encoded data removed]",
      "text/plain": [
       "<Figure size 936x360 with 1 Axes>"
      ]
     },
     "metadata": {
      "needs_background": "light"
     },
     "output_type": "display_data"
    }
   ],
   "source": [
    "#Number of games releases each year\n",
    "year_release = games_data.groupby('year_of_release')['name'].count().reset_index()\n",
    "#year_release.sort_values(ascending=False)\n",
    "year_release.plot(x='year_of_release',y='name',kind='bar', grid=True, figsize=(13,5),style='o', legend=None,title='Nuber of games released every year ');\n",
    "plt.xlabel('year of release')\n",
    "plt.ylabel('number of games')\n"
   ]
  },
  {
   "cell_type": "markdown",
   "metadata": {},
   "source": [
    "#### Conclusion"
   ]
  },
  {
   "cell_type": "markdown",
   "metadata": {},
   "source": [
    "The data for every period is not significant.\n",
    "The majority of data is since 2002"
   ]
  },
  {
   "cell_type": "markdown",
   "metadata": {},
   "source": [
    "### How sales varied from platform to platform"
   ]
  },
  {
   "cell_type": "code",
   "execution_count": 22,
   "metadata": {},
   "outputs": [
    {
     "data": {
      "text/html": [
       "<div>\n",
       "<style scoped>\n",
       "    .dataframe tbody tr th:only-of-type {\n",
       "        vertical-align: middle;\n",
       "    }\n",
       "\n",
       "    .dataframe tbody tr th {\n",
       "        vertical-align: top;\n",
       "    }\n",
       "\n",
       "    .dataframe thead th {\n",
       "        text-align: right;\n",
       "    }\n",
       "</style>\n",
       "<table border=\"1\" class=\"dataframe\">\n",
       "  <thead>\n",
       "    <tr style=\"text-align: right;\">\n",
       "      <th></th>\n",
       "      <th>eu_sales</th>\n",
       "      <th>jp_sales</th>\n",
       "      <th>na_sales</th>\n",
       "      <th>other_sales</th>\n",
       "      <th>total_sales</th>\n",
       "    </tr>\n",
       "    <tr>\n",
       "      <th>platform</th>\n",
       "      <th></th>\n",
       "      <th></th>\n",
       "      <th></th>\n",
       "      <th></th>\n",
       "      <th></th>\n",
       "    </tr>\n",
       "  </thead>\n",
       "  <tbody>\n",
       "    <tr>\n",
       "      <th>PS2</th>\n",
       "      <td>337.00</td>\n",
       "      <td>137.63</td>\n",
       "      <td>580.30</td>\n",
       "      <td>192.35</td>\n",
       "      <td>1247.28</td>\n",
       "    </tr>\n",
       "    <tr>\n",
       "      <th>X360</th>\n",
       "      <td>268.37</td>\n",
       "      <td>12.30</td>\n",
       "      <td>595.74</td>\n",
       "      <td>84.89</td>\n",
       "      <td>961.30</td>\n",
       "    </tr>\n",
       "    <tr>\n",
       "      <th>PS3</th>\n",
       "      <td>327.21</td>\n",
       "      <td>79.41</td>\n",
       "      <td>390.13</td>\n",
       "      <td>134.59</td>\n",
       "      <td>931.34</td>\n",
       "    </tr>\n",
       "    <tr>\n",
       "      <th>Wii</th>\n",
       "      <td>258.32</td>\n",
       "      <td>68.28</td>\n",
       "      <td>486.87</td>\n",
       "      <td>77.71</td>\n",
       "      <td>891.18</td>\n",
       "    </tr>\n",
       "    <tr>\n",
       "      <th>DS</th>\n",
       "      <td>188.41</td>\n",
       "      <td>175.02</td>\n",
       "      <td>380.32</td>\n",
       "      <td>59.04</td>\n",
       "      <td>802.79</td>\n",
       "    </tr>\n",
       "    <tr>\n",
       "      <th>PS</th>\n",
       "      <td>212.39</td>\n",
       "      <td>139.78</td>\n",
       "      <td>334.72</td>\n",
       "      <td>40.69</td>\n",
       "      <td>727.58</td>\n",
       "    </tr>\n",
       "    <tr>\n",
       "      <th>PS4</th>\n",
       "      <td>141.09</td>\n",
       "      <td>15.96</td>\n",
       "      <td>108.74</td>\n",
       "      <td>48.35</td>\n",
       "      <td>314.14</td>\n",
       "    </tr>\n",
       "    <tr>\n",
       "      <th>GBA</th>\n",
       "      <td>74.59</td>\n",
       "      <td>46.56</td>\n",
       "      <td>184.12</td>\n",
       "      <td>7.61</td>\n",
       "      <td>312.88</td>\n",
       "    </tr>\n",
       "    <tr>\n",
       "      <th>PSP</th>\n",
       "      <td>65.95</td>\n",
       "      <td>76.14</td>\n",
       "      <td>107.32</td>\n",
       "      <td>40.93</td>\n",
       "      <td>290.34</td>\n",
       "    </tr>\n",
       "    <tr>\n",
       "      <th>3DS</th>\n",
       "      <td>61.27</td>\n",
       "      <td>100.62</td>\n",
       "      <td>82.65</td>\n",
       "      <td>13.27</td>\n",
       "      <td>257.81</td>\n",
       "    </tr>\n",
       "    <tr>\n",
       "      <th>PC</th>\n",
       "      <td>140.62</td>\n",
       "      <td>0.17</td>\n",
       "      <td>93.40</td>\n",
       "      <td>21.92</td>\n",
       "      <td>256.11</td>\n",
       "    </tr>\n",
       "    <tr>\n",
       "      <th>GB</th>\n",
       "      <td>47.51</td>\n",
       "      <td>85.12</td>\n",
       "      <td>113.64</td>\n",
       "      <td>8.16</td>\n",
       "      <td>254.43</td>\n",
       "    </tr>\n",
       "    <tr>\n",
       "      <th>XB</th>\n",
       "      <td>59.74</td>\n",
       "      <td>1.38</td>\n",
       "      <td>183.01</td>\n",
       "      <td>8.53</td>\n",
       "      <td>252.66</td>\n",
       "    </tr>\n",
       "    <tr>\n",
       "      <th>NES</th>\n",
       "      <td>21.15</td>\n",
       "      <td>98.65</td>\n",
       "      <td>125.94</td>\n",
       "      <td>5.31</td>\n",
       "      <td>251.05</td>\n",
       "    </tr>\n",
       "    <tr>\n",
       "      <th>N64</th>\n",
       "      <td>41.03</td>\n",
       "      <td>33.76</td>\n",
       "      <td>138.91</td>\n",
       "      <td>4.31</td>\n",
       "      <td>218.01</td>\n",
       "    </tr>\n",
       "    <tr>\n",
       "      <th>SNES</th>\n",
       "      <td>19.04</td>\n",
       "      <td>116.55</td>\n",
       "      <td>61.23</td>\n",
       "      <td>3.22</td>\n",
       "      <td>200.04</td>\n",
       "    </tr>\n",
       "    <tr>\n",
       "      <th>GC</th>\n",
       "      <td>38.38</td>\n",
       "      <td>21.34</td>\n",
       "      <td>132.17</td>\n",
       "      <td>5.14</td>\n",
       "      <td>197.03</td>\n",
       "    </tr>\n",
       "    <tr>\n",
       "      <th>XOne</th>\n",
       "      <td>51.59</td>\n",
       "      <td>0.34</td>\n",
       "      <td>93.12</td>\n",
       "      <td>14.27</td>\n",
       "      <td>159.32</td>\n",
       "    </tr>\n",
       "    <tr>\n",
       "      <th>2600</th>\n",
       "      <td>4.86</td>\n",
       "      <td>0.00</td>\n",
       "      <td>80.78</td>\n",
       "      <td>0.84</td>\n",
       "      <td>86.48</td>\n",
       "    </tr>\n",
       "    <tr>\n",
       "      <th>WiiU</th>\n",
       "      <td>25.13</td>\n",
       "      <td>13.01</td>\n",
       "      <td>38.10</td>\n",
       "      <td>5.95</td>\n",
       "      <td>82.19</td>\n",
       "    </tr>\n",
       "    <tr>\n",
       "      <th>PSV</th>\n",
       "      <td>13.07</td>\n",
       "      <td>21.84</td>\n",
       "      <td>12.47</td>\n",
       "      <td>6.43</td>\n",
       "      <td>53.81</td>\n",
       "    </tr>\n",
       "    <tr>\n",
       "      <th>SAT</th>\n",
       "      <td>0.54</td>\n",
       "      <td>32.26</td>\n",
       "      <td>0.72</td>\n",
       "      <td>0.07</td>\n",
       "      <td>33.59</td>\n",
       "    </tr>\n",
       "    <tr>\n",
       "      <th>GEN</th>\n",
       "      <td>5.52</td>\n",
       "      <td>2.67</td>\n",
       "      <td>19.27</td>\n",
       "      <td>0.89</td>\n",
       "      <td>28.35</td>\n",
       "    </tr>\n",
       "    <tr>\n",
       "      <th>DC</th>\n",
       "      <td>1.69</td>\n",
       "      <td>8.56</td>\n",
       "      <td>5.43</td>\n",
       "      <td>0.27</td>\n",
       "      <td>15.95</td>\n",
       "    </tr>\n",
       "    <tr>\n",
       "      <th>SCD</th>\n",
       "      <td>0.36</td>\n",
       "      <td>0.45</td>\n",
       "      <td>1.00</td>\n",
       "      <td>0.05</td>\n",
       "      <td>1.86</td>\n",
       "    </tr>\n",
       "    <tr>\n",
       "      <th>NG</th>\n",
       "      <td>0.00</td>\n",
       "      <td>1.44</td>\n",
       "      <td>0.00</td>\n",
       "      <td>0.00</td>\n",
       "      <td>1.44</td>\n",
       "    </tr>\n",
       "    <tr>\n",
       "      <th>WS</th>\n",
       "      <td>0.00</td>\n",
       "      <td>1.42</td>\n",
       "      <td>0.00</td>\n",
       "      <td>0.00</td>\n",
       "      <td>1.42</td>\n",
       "    </tr>\n",
       "    <tr>\n",
       "      <th>TG16</th>\n",
       "      <td>0.00</td>\n",
       "      <td>0.16</td>\n",
       "      <td>0.00</td>\n",
       "      <td>0.00</td>\n",
       "      <td>0.16</td>\n",
       "    </tr>\n",
       "    <tr>\n",
       "      <th>3DO</th>\n",
       "      <td>0.00</td>\n",
       "      <td>0.10</td>\n",
       "      <td>0.00</td>\n",
       "      <td>0.00</td>\n",
       "      <td>0.10</td>\n",
       "    </tr>\n",
       "    <tr>\n",
       "      <th>GG</th>\n",
       "      <td>0.00</td>\n",
       "      <td>0.04</td>\n",
       "      <td>0.00</td>\n",
       "      <td>0.00</td>\n",
       "      <td>0.04</td>\n",
       "    </tr>\n",
       "    <tr>\n",
       "      <th>PCFX</th>\n",
       "      <td>0.00</td>\n",
       "      <td>0.03</td>\n",
       "      <td>0.00</td>\n",
       "      <td>0.00</td>\n",
       "      <td>0.03</td>\n",
       "    </tr>\n",
       "  </tbody>\n",
       "</table>\n",
       "</div>"
      ],
      "text/plain": [
       "          eu_sales  jp_sales  na_sales  other_sales  total_sales\n",
       "platform                                                        \n",
       "PS2         337.00    137.63    580.30       192.35      1247.28\n",
       "X360        268.37     12.30    595.74        84.89       961.30\n",
       "PS3         327.21     79.41    390.13       134.59       931.34\n",
       "Wii         258.32     68.28    486.87        77.71       891.18\n",
       "DS          188.41    175.02    380.32        59.04       802.79\n",
       "PS          212.39    139.78    334.72        40.69       727.58\n",
       "PS4         141.09     15.96    108.74        48.35       314.14\n",
       "GBA          74.59     46.56    184.12         7.61       312.88\n",
       "PSP          65.95     76.14    107.32        40.93       290.34\n",
       "3DS          61.27    100.62     82.65        13.27       257.81\n",
       "PC          140.62      0.17     93.40        21.92       256.11\n",
       "GB           47.51     85.12    113.64         8.16       254.43\n",
       "XB           59.74      1.38    183.01         8.53       252.66\n",
       "NES          21.15     98.65    125.94         5.31       251.05\n",
       "N64          41.03     33.76    138.91         4.31       218.01\n",
       "SNES         19.04    116.55     61.23         3.22       200.04\n",
       "GC           38.38     21.34    132.17         5.14       197.03\n",
       "XOne         51.59      0.34     93.12        14.27       159.32\n",
       "2600          4.86      0.00     80.78         0.84        86.48\n",
       "WiiU         25.13     13.01     38.10         5.95        82.19\n",
       "PSV          13.07     21.84     12.47         6.43        53.81\n",
       "SAT           0.54     32.26      0.72         0.07        33.59\n",
       "GEN           5.52      2.67     19.27         0.89        28.35\n",
       "DC            1.69      8.56      5.43         0.27        15.95\n",
       "SCD           0.36      0.45      1.00         0.05         1.86\n",
       "NG            0.00      1.44      0.00         0.00         1.44\n",
       "WS            0.00      1.42      0.00         0.00         1.42\n",
       "TG16          0.00      0.16      0.00         0.00         0.16\n",
       "3DO           0.00      0.10      0.00         0.00         0.10\n",
       "GG            0.00      0.04      0.00         0.00         0.04\n",
       "PCFX          0.00      0.03      0.00         0.00         0.03"
      ]
     },
     "execution_count": 22,
     "metadata": {},
     "output_type": "execute_result"
    }
   ],
   "source": [
    " #Show Sales for each platform\n",
    "platform_total_sales = games_data.pivot_table(\n",
    "    index='platform',\n",
    "    values=['na_sales','eu_sales','jp_sales','other_sales'], \n",
    "    aggfunc='sum')\n",
    "#Calculate total sales for each game\n",
    "platform_total_sales['total_sales'] = platform_total_sales[['na_sales','eu_sales', 'jp_sales','other_sales']].sum(axis=1)\n",
    "#Sort platformsby total_sales\n",
    "platform_total_sales.sort_values('total_sales',ascending=False,inplace=True)\n",
    "platform_total_sales"
   ]
  },
  {
   "cell_type": "code",
   "execution_count": 23,
   "metadata": {},
   "outputs": [
    {
     "data": {
      "image/png": "[encoded data removed]",
      "text/plain": [
       "<Figure size 864x432 with 1 Axes>"
      ]
     },
     "metadata": {
      "needs_background": "light"
     },
     "output_type": "display_data"
    }
   ],
   "source": [
    "#graph that shows for each platform the total sales\n",
    "platform_total_sales.plot(y='total_sales',kind='bar', grid=True, figsize=(12,6),style='o');"
   ]
  },
  {
   "cell_type": "code",
   "execution_count": 24,
   "metadata": {},
   "outputs": [
    {
     "data": {
      "text/html": [
       "<div>\n",
       "<style scoped>\n",
       "    .dataframe tbody tr th:only-of-type {\n",
       "        vertical-align: middle;\n",
       "    }\n",
       "\n",
       "    .dataframe tbody tr th {\n",
       "        vertical-align: top;\n",
       "    }\n",
       "\n",
       "    .dataframe thead th {\n",
       "        text-align: right;\n",
       "    }\n",
       "</style>\n",
       "<table border=\"1\" class=\"dataframe\">\n",
       "  <thead>\n",
       "    <tr style=\"text-align: right;\">\n",
       "      <th></th>\n",
       "      <th>eu_sales</th>\n",
       "      <th>jp_sales</th>\n",
       "      <th>na_sales</th>\n",
       "      <th>other_sales</th>\n",
       "      <th>total_sales</th>\n",
       "      <th>sales_z</th>\n",
       "    </tr>\n",
       "    <tr>\n",
       "      <th>platform</th>\n",
       "      <th></th>\n",
       "      <th></th>\n",
       "      <th></th>\n",
       "      <th></th>\n",
       "      <th></th>\n",
       "      <th></th>\n",
       "    </tr>\n",
       "  </thead>\n",
       "  <tbody>\n",
       "    <tr>\n",
       "      <th>PS2</th>\n",
       "      <td>337.00</td>\n",
       "      <td>137.63</td>\n",
       "      <td>580.30</td>\n",
       "      <td>192.35</td>\n",
       "      <td>1247.28</td>\n",
       "      <td>2.787836</td>\n",
       "    </tr>\n",
       "    <tr>\n",
       "      <th>X360</th>\n",
       "      <td>268.37</td>\n",
       "      <td>12.30</td>\n",
       "      <td>595.74</td>\n",
       "      <td>84.89</td>\n",
       "      <td>961.30</td>\n",
       "      <td>1.959438</td>\n",
       "    </tr>\n",
       "    <tr>\n",
       "      <th>PS3</th>\n",
       "      <td>327.21</td>\n",
       "      <td>79.41</td>\n",
       "      <td>390.13</td>\n",
       "      <td>134.59</td>\n",
       "      <td>931.34</td>\n",
       "      <td>1.872653</td>\n",
       "    </tr>\n",
       "    <tr>\n",
       "      <th>Wii</th>\n",
       "      <td>258.32</td>\n",
       "      <td>68.28</td>\n",
       "      <td>486.87</td>\n",
       "      <td>77.71</td>\n",
       "      <td>891.18</td>\n",
       "      <td>1.756322</td>\n",
       "    </tr>\n",
       "    <tr>\n",
       "      <th>DS</th>\n",
       "      <td>188.41</td>\n",
       "      <td>175.02</td>\n",
       "      <td>380.32</td>\n",
       "      <td>59.04</td>\n",
       "      <td>802.79</td>\n",
       "      <td>1.500282</td>\n",
       "    </tr>\n",
       "    <tr>\n",
       "      <th>PS</th>\n",
       "      <td>212.39</td>\n",
       "      <td>139.78</td>\n",
       "      <td>334.72</td>\n",
       "      <td>40.69</td>\n",
       "      <td>727.58</td>\n",
       "      <td>1.282422</td>\n",
       "    </tr>\n",
       "    <tr>\n",
       "      <th>PS4</th>\n",
       "      <td>141.09</td>\n",
       "      <td>15.96</td>\n",
       "      <td>108.74</td>\n",
       "      <td>48.35</td>\n",
       "      <td>314.14</td>\n",
       "      <td>0.084811</td>\n",
       "    </tr>\n",
       "    <tr>\n",
       "      <th>GBA</th>\n",
       "      <td>74.59</td>\n",
       "      <td>46.56</td>\n",
       "      <td>184.12</td>\n",
       "      <td>7.61</td>\n",
       "      <td>312.88</td>\n",
       "      <td>0.081161</td>\n",
       "    </tr>\n",
       "    <tr>\n",
       "      <th>PSP</th>\n",
       "      <td>65.95</td>\n",
       "      <td>76.14</td>\n",
       "      <td>107.32</td>\n",
       "      <td>40.93</td>\n",
       "      <td>290.34</td>\n",
       "      <td>0.015869</td>\n",
       "    </tr>\n",
       "    <tr>\n",
       "      <th>3DS</th>\n",
       "      <td>61.27</td>\n",
       "      <td>100.62</td>\n",
       "      <td>82.65</td>\n",
       "      <td>13.27</td>\n",
       "      <td>257.81</td>\n",
       "      <td>-0.078360</td>\n",
       "    </tr>\n",
       "    <tr>\n",
       "      <th>PC</th>\n",
       "      <td>140.62</td>\n",
       "      <td>0.17</td>\n",
       "      <td>93.40</td>\n",
       "      <td>21.92</td>\n",
       "      <td>256.11</td>\n",
       "      <td>-0.083285</td>\n",
       "    </tr>\n",
       "    <tr>\n",
       "      <th>GB</th>\n",
       "      <td>47.51</td>\n",
       "      <td>85.12</td>\n",
       "      <td>113.64</td>\n",
       "      <td>8.16</td>\n",
       "      <td>254.43</td>\n",
       "      <td>-0.088151</td>\n",
       "    </tr>\n",
       "    <tr>\n",
       "      <th>XB</th>\n",
       "      <td>59.74</td>\n",
       "      <td>1.38</td>\n",
       "      <td>183.01</td>\n",
       "      <td>8.53</td>\n",
       "      <td>252.66</td>\n",
       "      <td>-0.093278</td>\n",
       "    </tr>\n",
       "    <tr>\n",
       "      <th>NES</th>\n",
       "      <td>21.15</td>\n",
       "      <td>98.65</td>\n",
       "      <td>125.94</td>\n",
       "      <td>5.31</td>\n",
       "      <td>251.05</td>\n",
       "      <td>-0.097942</td>\n",
       "    </tr>\n",
       "    <tr>\n",
       "      <th>N64</th>\n",
       "      <td>41.03</td>\n",
       "      <td>33.76</td>\n",
       "      <td>138.91</td>\n",
       "      <td>4.31</td>\n",
       "      <td>218.01</td>\n",
       "      <td>-0.193649</td>\n",
       "    </tr>\n",
       "    <tr>\n",
       "      <th>SNES</th>\n",
       "      <td>19.04</td>\n",
       "      <td>116.55</td>\n",
       "      <td>61.23</td>\n",
       "      <td>3.22</td>\n",
       "      <td>200.04</td>\n",
       "      <td>-0.245703</td>\n",
       "    </tr>\n",
       "    <tr>\n",
       "      <th>GC</th>\n",
       "      <td>38.38</td>\n",
       "      <td>21.34</td>\n",
       "      <td>132.17</td>\n",
       "      <td>5.14</td>\n",
       "      <td>197.03</td>\n",
       "      <td>-0.254422</td>\n",
       "    </tr>\n",
       "    <tr>\n",
       "      <th>XOne</th>\n",
       "      <td>51.59</td>\n",
       "      <td>0.34</td>\n",
       "      <td>93.12</td>\n",
       "      <td>14.27</td>\n",
       "      <td>159.32</td>\n",
       "      <td>-0.363656</td>\n",
       "    </tr>\n",
       "    <tr>\n",
       "      <th>2600</th>\n",
       "      <td>4.86</td>\n",
       "      <td>0.00</td>\n",
       "      <td>80.78</td>\n",
       "      <td>0.84</td>\n",
       "      <td>86.48</td>\n",
       "      <td>-0.574652</td>\n",
       "    </tr>\n",
       "    <tr>\n",
       "      <th>WiiU</th>\n",
       "      <td>25.13</td>\n",
       "      <td>13.01</td>\n",
       "      <td>38.10</td>\n",
       "      <td>5.95</td>\n",
       "      <td>82.19</td>\n",
       "      <td>-0.587079</td>\n",
       "    </tr>\n",
       "    <tr>\n",
       "      <th>PSV</th>\n",
       "      <td>13.07</td>\n",
       "      <td>21.84</td>\n",
       "      <td>12.47</td>\n",
       "      <td>6.43</td>\n",
       "      <td>53.81</td>\n",
       "      <td>-0.669287</td>\n",
       "    </tr>\n",
       "    <tr>\n",
       "      <th>SAT</th>\n",
       "      <td>0.54</td>\n",
       "      <td>32.26</td>\n",
       "      <td>0.72</td>\n",
       "      <td>0.07</td>\n",
       "      <td>33.59</td>\n",
       "      <td>-0.727858</td>\n",
       "    </tr>\n",
       "    <tr>\n",
       "      <th>GEN</th>\n",
       "      <td>5.52</td>\n",
       "      <td>2.67</td>\n",
       "      <td>19.27</td>\n",
       "      <td>0.89</td>\n",
       "      <td>28.35</td>\n",
       "      <td>-0.743037</td>\n",
       "    </tr>\n",
       "    <tr>\n",
       "      <th>DC</th>\n",
       "      <td>1.69</td>\n",
       "      <td>8.56</td>\n",
       "      <td>5.43</td>\n",
       "      <td>0.27</td>\n",
       "      <td>15.95</td>\n",
       "      <td>-0.778956</td>\n",
       "    </tr>\n",
       "    <tr>\n",
       "      <th>SCD</th>\n",
       "      <td>0.36</td>\n",
       "      <td>0.45</td>\n",
       "      <td>1.00</td>\n",
       "      <td>0.05</td>\n",
       "      <td>1.86</td>\n",
       "      <td>-0.819770</td>\n",
       "    </tr>\n",
       "    <tr>\n",
       "      <th>NG</th>\n",
       "      <td>0.00</td>\n",
       "      <td>1.44</td>\n",
       "      <td>0.00</td>\n",
       "      <td>0.00</td>\n",
       "      <td>1.44</td>\n",
       "      <td>-0.820987</td>\n",
       "    </tr>\n",
       "    <tr>\n",
       "      <th>WS</th>\n",
       "      <td>0.00</td>\n",
       "      <td>1.42</td>\n",
       "      <td>0.00</td>\n",
       "      <td>0.00</td>\n",
       "      <td>1.42</td>\n",
       "      <td>-0.821045</td>\n",
       "    </tr>\n",
       "    <tr>\n",
       "      <th>TG16</th>\n",
       "      <td>0.00</td>\n",
       "      <td>0.16</td>\n",
       "      <td>0.00</td>\n",
       "      <td>0.00</td>\n",
       "      <td>0.16</td>\n",
       "      <td>-0.824695</td>\n",
       "    </tr>\n",
       "    <tr>\n",
       "      <th>3DO</th>\n",
       "      <td>0.00</td>\n",
       "      <td>0.10</td>\n",
       "      <td>0.00</td>\n",
       "      <td>0.00</td>\n",
       "      <td>0.10</td>\n",
       "      <td>-0.824869</td>\n",
       "    </tr>\n",
       "    <tr>\n",
       "      <th>GG</th>\n",
       "      <td>0.00</td>\n",
       "      <td>0.04</td>\n",
       "      <td>0.00</td>\n",
       "      <td>0.00</td>\n",
       "      <td>0.04</td>\n",
       "      <td>-0.825042</td>\n",
       "    </tr>\n",
       "    <tr>\n",
       "      <th>PCFX</th>\n",
       "      <td>0.00</td>\n",
       "      <td>0.03</td>\n",
       "      <td>0.00</td>\n",
       "      <td>0.00</td>\n",
       "      <td>0.03</td>\n",
       "      <td>-0.825071</td>\n",
       "    </tr>\n",
       "  </tbody>\n",
       "</table>\n",
       "</div>"
      ],
      "text/plain": [
       "          eu_sales  jp_sales  na_sales  other_sales  total_sales   sales_z\n",
       "platform                                                                  \n",
       "PS2         337.00    137.63    580.30       192.35      1247.28  2.787836\n",
       "X360        268.37     12.30    595.74        84.89       961.30  1.959438\n",
       "PS3         327.21     79.41    390.13       134.59       931.34  1.872653\n",
       "Wii         258.32     68.28    486.87        77.71       891.18  1.756322\n",
       "DS          188.41    175.02    380.32        59.04       802.79  1.500282\n",
       "PS          212.39    139.78    334.72        40.69       727.58  1.282422\n",
       "PS4         141.09     15.96    108.74        48.35       314.14  0.084811\n",
       "GBA          74.59     46.56    184.12         7.61       312.88  0.081161\n",
       "PSP          65.95     76.14    107.32        40.93       290.34  0.015869\n",
       "3DS          61.27    100.62     82.65        13.27       257.81 -0.078360\n",
       "PC          140.62      0.17     93.40        21.92       256.11 -0.083285\n",
       "GB           47.51     85.12    113.64         8.16       254.43 -0.088151\n",
       "XB           59.74      1.38    183.01         8.53       252.66 -0.093278\n",
       "NES          21.15     98.65    125.94         5.31       251.05 -0.097942\n",
       "N64          41.03     33.76    138.91         4.31       218.01 -0.193649\n",
       "SNES         19.04    116.55     61.23         3.22       200.04 -0.245703\n",
       "GC           38.38     21.34    132.17         5.14       197.03 -0.254422\n",
       "XOne         51.59      0.34     93.12        14.27       159.32 -0.363656\n",
       "2600          4.86      0.00     80.78         0.84        86.48 -0.574652\n",
       "WiiU         25.13     13.01     38.10         5.95        82.19 -0.587079\n",
       "PSV          13.07     21.84     12.47         6.43        53.81 -0.669287\n",
       "SAT           0.54     32.26      0.72         0.07        33.59 -0.727858\n",
       "GEN           5.52      2.67     19.27         0.89        28.35 -0.743037\n",
       "DC            1.69      8.56      5.43         0.27        15.95 -0.778956\n",
       "SCD           0.36      0.45      1.00         0.05         1.86 -0.819770\n",
       "NG            0.00      1.44      0.00         0.00         1.44 -0.820987\n",
       "WS            0.00      1.42      0.00         0.00         1.42 -0.821045\n",
       "TG16          0.00      0.16      0.00         0.00         0.16 -0.824695\n",
       "3DO           0.00      0.10      0.00         0.00         0.10 -0.824869\n",
       "GG            0.00      0.04      0.00         0.00         0.04 -0.825042\n",
       "PCFX          0.00      0.03      0.00         0.00         0.03 -0.825071"
      ]
     },
     "execution_count": 24,
     "metadata": {},
     "output_type": "execute_result"
    }
   ],
   "source": [
    "platform_total_sales['sales_z'] = (platform_total_sales['total_sales'] - platform_total_sales['total_sales'].mean() ) / platform_total_sales['total_sales'].std()\n",
    "platform_total_sales"
   ]
  },
  {
   "cell_type": "markdown",
   "metadata": {},
   "source": [
    "The first 6 games have the greatest total sales,and thay are above the std value so we are going to analyze them.   \n",
    "The games are:PS2, X360, PS3, Wii, DS, PS"
   ]
  },
  {
   "cell_type": "code",
   "execution_count": 25,
   "metadata": {},
   "outputs": [
    {
     "data": {
      "text/plain": [
       "Text(0, 0.5, 'total sales')"
      ]
     },
     "execution_count": 25,
     "metadata": {},
     "output_type": "execute_result"
    },
    {
     "data": {
      "image/png": "[encoded data removed]",
      "text/plain": [
       "<Figure size 864x432 with 1 Axes>"
      ]
     },
     "metadata": {
      "needs_background": "light"
     },
     "output_type": "display_data"
    }
   ],
   "source": [
    "#Get only PS2 platform games\n",
    "PS2_platform = games_data.query(\"platform == 'PS2' \")\n",
    "PS2_sales_by_year = PS2_platform.pivot_table(\n",
    "        index='year_of_release',\n",
    "        values=['na_sales','eu_sales','jp_sales','other_sales'], \n",
    "        aggfunc='sum'\n",
    "        )\n",
    "PS2_sales_by_year['total_sales'] = PS2_sales_by_year[['na_sales','eu_sales', 'jp_sales','other_sales']].sum(axis=1)\n",
    "PS2_sales_by_year.plot(y='total_sales',kind='bar', grid=True, figsize=(12,6),style='o',legend=None);\n",
    "plt.xlabel('year of release')\n",
    "plt.ylabel('total sales')"
   ]
  },
  {
   "cell_type": "markdown",
   "metadata": {},
   "source": [
    "For PS2 platform It took 1 years to appear and 6 years to fade"
   ]
  },
  {
   "cell_type": "code",
   "execution_count": 26,
   "metadata": {},
   "outputs": [
    {
     "data": {
      "text/plain": [
       "Text(0, 0.5, 'total sales')"
      ]
     },
     "execution_count": 26,
     "metadata": {},
     "output_type": "execute_result"
    },
    {
     "data": {
      "image/png": "[encoded data removed]",
      "text/plain": [
       "<Figure size 864x432 with 1 Axes>"
      ]
     },
     "metadata": {
      "needs_background": "light"
     },
     "output_type": "display_data"
    }
   ],
   "source": [
    "#Get only X360 platform games\n",
    "X360_platform = games_data.query(\"platform == 'X360' \")\n",
    "X360_sales_by_year = X360_platform.pivot_table(\n",
    "        index='year_of_release',\n",
    "        values='total_sales', \n",
    "        aggfunc='sum'\n",
    "        )\n",
    "X360_sales_by_year.plot(y='total_sales',kind='bar', grid=True, figsize=(12,6),style='o',legend=None);\n",
    "plt.xlabel('year of release')\n",
    "plt.ylabel('total sales')"
   ]
  },
  {
   "cell_type": "markdown",
   "metadata": {},
   "source": [
    "For X360 platform It took 2 years to appear and 7 years to fade"
   ]
  },
  {
   "cell_type": "code",
   "execution_count": 27,
   "metadata": {},
   "outputs": [
    {
     "data": {
      "text/plain": [
       "Text(0, 0.5, 'total sales')"
      ]
     },
     "execution_count": 27,
     "metadata": {},
     "output_type": "execute_result"
    },
    {
     "data": {
      "image/png": "[encoded data removed]",
      "text/plain": [
       "<Figure size 864x432 with 1 Axes>"
      ]
     },
     "metadata": {
      "needs_background": "light"
     },
     "output_type": "display_data"
    }
   ],
   "source": [
    "#Get only PS3 platform games\n",
    "PS3_platform = games_data.query(\"platform == 'PS3' \")\n",
    "PS3_sales_by_year = PS3_platform.pivot_table(\n",
    "        index='year_of_release',\n",
    "        values='total_sales', \n",
    "        aggfunc='sum'\n",
    "        )\n",
    "PS3_sales_by_year.plot(y='total_sales',kind='bar', grid=True, figsize=(12,6),style='o',legend=None);\n",
    "plt.xlabel('year of release')\n",
    "plt.ylabel('total sales')"
   ]
  },
  {
   "cell_type": "markdown",
   "metadata": {},
   "source": [
    "For PS3 platform It took 1 years to appear and 7 years to fade"
   ]
  },
  {
   "cell_type": "code",
   "execution_count": 28,
   "metadata": {},
   "outputs": [
    {
     "data": {
      "text/plain": [
       "Text(0, 0.5, 'total sales')"
      ]
     },
     "execution_count": 28,
     "metadata": {},
     "output_type": "execute_result"
    },
    {
     "data": {
      "image/png": "[encoded data removed]",
      "text/plain": [
       "<Figure size 864x432 with 1 Axes>"
      ]
     },
     "metadata": {
      "needs_background": "light"
     },
     "output_type": "display_data"
    }
   ],
   "source": [
    "#Get only Wii platform games\n",
    "Wii_platform = games_data.query(\"platform == 'Wii' \")\n",
    "Wii_sales_by_year = Wii_platform.pivot_table(\n",
    "        index='year_of_release',\n",
    "        values='total_sales', \n",
    "        aggfunc='sum'\n",
    "        )\n",
    "\n",
    "Wii_sales_by_year.plot(y='total_sales',kind='bar', grid=True, figsize=(12,6),style='o',legend=None);\n",
    "plt.xlabel('year of release')\n",
    "plt.ylabel('total sales')"
   ]
  },
  {
   "cell_type": "markdown",
   "metadata": {},
   "source": [
    "For Wii platform It took 0 years to appear and 5 years to fade"
   ]
  },
  {
   "cell_type": "code",
   "execution_count": 29,
   "metadata": {},
   "outputs": [
    {
     "data": {
      "text/plain": [
       "Text(0, 0.5, 'total sales')"
      ]
     },
     "execution_count": 29,
     "metadata": {},
     "output_type": "execute_result"
    },
    {
     "data": {
      "image/png": "[encoded data removed]",
      "text/plain": [
       "<Figure size 864x432 with 1 Axes>"
      ]
     },
     "metadata": {
      "needs_background": "light"
     },
     "output_type": "display_data"
    }
   ],
   "source": [
    "#Get only DS platform games\n",
    "DS_platform = games_data.query(\"platform == 'DS' \")\n",
    "DS_sales_by_year = DS_platform.pivot_table(\n",
    "        index='year_of_release',\n",
    "        values='total_sales', \n",
    "        aggfunc='sum'\n",
    "        )\n",
    "DS_sales_by_year.plot(y='total_sales',kind='bar', grid=True, figsize=(12,6),style='o', legend=None);\n",
    "plt.xlabel('year of release')\n",
    "plt.ylabel('total sales')"
   ]
  },
  {
   "cell_type": "markdown",
   "metadata": {},
   "source": [
    "For DS platform It took 2 years to appear and 6 years to fade"
   ]
  },
  {
   "cell_type": "code",
   "execution_count": 30,
   "metadata": {},
   "outputs": [
    {
     "data": {
      "text/plain": [
       "Text(0, 0.5, 'total sales')"
      ]
     },
     "execution_count": 30,
     "metadata": {},
     "output_type": "execute_result"
    },
    {
     "data": {
      "image/png": "[encoded data removed]",
      "text/plain": [
       "<Figure size 864x432 with 1 Axes>"
      ]
     },
     "metadata": {
      "needs_background": "light"
     },
     "output_type": "display_data"
    }
   ],
   "source": [
    "#Get only PS platform games\n",
    "PS_platform = games_data.query(\"platform == 'PS' \")\n",
    "PS_sales_by_year = PS_platform.pivot_table(\n",
    "        index='year_of_release',\n",
    "        values='total_sales', \n",
    "        aggfunc='sum'\n",
    "        )\n",
    "PS_sales_by_year.plot(y='total_sales',kind='bar', grid=True, figsize=(12,6),style='o',legend=None);\n",
    "plt.xlabel('year of release')\n",
    "plt.ylabel('total sales')"
   ]
  },
  {
   "cell_type": "markdown",
   "metadata": {},
   "source": [
    "For PS platform It took 2 years to appear and 5 years to fade"
   ]
  },
  {
   "cell_type": "markdown",
   "metadata": {},
   "source": [
    "###  Determine what period to  take data for"
   ]
  },
  {
   "cell_type": "code",
   "execution_count": 31,
   "metadata": {},
   "outputs": [
    {
     "data": {
      "text/plain": [
       "Text(0, 0.5, 'Number of games released every year')"
      ]
     },
     "execution_count": 31,
     "metadata": {},
     "output_type": "execute_result"
    },
    {
     "data": {
      "image/png": "[encoded data removed]",
      "text/plain": [
       "<Figure size 936x360 with 1 Axes>"
      ]
     },
     "metadata": {
      "needs_background": "light"
     },
     "output_type": "display_data"
    }
   ],
   "source": [
    "#Number of games releases each year\n",
    "year_release = games_data.groupby('year_of_release')['name'].count().reset_index()\n",
    "#year_release.sort_values(ascending=False)\n",
    "year_release.plot(x='year_of_release',y='name',kind='bar', grid=True, figsize=(13,5),style='o',legend=None);\n",
    "plt.xlabel('year of release')\n",
    "plt.ylabel('Number of games released every year')"
   ]
  },
  {
   "cell_type": "code",
   "execution_count": 32,
   "metadata": {},
   "outputs": [
    {
     "data": {
      "text/html": [
       "<div>\n",
       "<style scoped>\n",
       "    .dataframe tbody tr th:only-of-type {\n",
       "        vertical-align: middle;\n",
       "    }\n",
       "\n",
       "    .dataframe tbody tr th {\n",
       "        vertical-align: top;\n",
       "    }\n",
       "\n",
       "    .dataframe thead th {\n",
       "        text-align: right;\n",
       "    }\n",
       "</style>\n",
       "<table border=\"1\" class=\"dataframe\">\n",
       "  <thead>\n",
       "    <tr style=\"text-align: right;\">\n",
       "      <th></th>\n",
       "      <th>name</th>\n",
       "      <th>platform</th>\n",
       "      <th>year_of_release</th>\n",
       "      <th>genre</th>\n",
       "      <th>na_sales</th>\n",
       "      <th>eu_sales</th>\n",
       "      <th>jp_sales</th>\n",
       "      <th>other_sales</th>\n",
       "      <th>critic_score</th>\n",
       "      <th>user_score</th>\n",
       "      <th>rating</th>\n",
       "      <th>total_sales</th>\n",
       "    </tr>\n",
       "  </thead>\n",
       "  <tbody>\n",
       "    <tr>\n",
       "      <th>16</th>\n",
       "      <td>Grand Theft Auto V</td>\n",
       "      <td>PS3</td>\n",
       "      <td>2013</td>\n",
       "      <td>Action</td>\n",
       "      <td>7.02</td>\n",
       "      <td>9.09</td>\n",
       "      <td>0.98</td>\n",
       "      <td>3.96</td>\n",
       "      <td>97.0</td>\n",
       "      <td>8.20</td>\n",
       "      <td>M</td>\n",
       "      <td>21.05</td>\n",
       "    </tr>\n",
       "    <tr>\n",
       "      <th>23</th>\n",
       "      <td>Grand Theft Auto V</td>\n",
       "      <td>X360</td>\n",
       "      <td>2013</td>\n",
       "      <td>Action</td>\n",
       "      <td>9.66</td>\n",
       "      <td>5.14</td>\n",
       "      <td>0.06</td>\n",
       "      <td>1.41</td>\n",
       "      <td>97.0</td>\n",
       "      <td>8.10</td>\n",
       "      <td>M</td>\n",
       "      <td>16.27</td>\n",
       "    </tr>\n",
       "    <tr>\n",
       "      <th>31</th>\n",
       "      <td>Call of Duty: Black Ops 3</td>\n",
       "      <td>PS4</td>\n",
       "      <td>2015</td>\n",
       "      <td>Shooter</td>\n",
       "      <td>6.03</td>\n",
       "      <td>5.86</td>\n",
       "      <td>0.36</td>\n",
       "      <td>2.38</td>\n",
       "      <td>76.0</td>\n",
       "      <td>6.90</td>\n",
       "      <td>unknown</td>\n",
       "      <td>14.63</td>\n",
       "    </tr>\n",
       "    <tr>\n",
       "      <th>33</th>\n",
       "      <td>Pokemon X/Pokemon Y</td>\n",
       "      <td>3DS</td>\n",
       "      <td>2013</td>\n",
       "      <td>Role-Playing</td>\n",
       "      <td>5.28</td>\n",
       "      <td>4.19</td>\n",
       "      <td>4.35</td>\n",
       "      <td>0.78</td>\n",
       "      <td>74.0</td>\n",
       "      <td>7.80</td>\n",
       "      <td>unknown</td>\n",
       "      <td>14.60</td>\n",
       "    </tr>\n",
       "    <tr>\n",
       "      <th>34</th>\n",
       "      <td>Call of Duty: Black Ops II</td>\n",
       "      <td>PS3</td>\n",
       "      <td>2012</td>\n",
       "      <td>Shooter</td>\n",
       "      <td>4.99</td>\n",
       "      <td>5.73</td>\n",
       "      <td>0.65</td>\n",
       "      <td>2.42</td>\n",
       "      <td>83.0</td>\n",
       "      <td>5.30</td>\n",
       "      <td>M</td>\n",
       "      <td>13.79</td>\n",
       "    </tr>\n",
       "    <tr>\n",
       "      <th>...</th>\n",
       "      <td>...</td>\n",
       "      <td>...</td>\n",
       "      <td>...</td>\n",
       "      <td>...</td>\n",
       "      <td>...</td>\n",
       "      <td>...</td>\n",
       "      <td>...</td>\n",
       "      <td>...</td>\n",
       "      <td>...</td>\n",
       "      <td>...</td>\n",
       "      <td>...</td>\n",
       "      <td>...</td>\n",
       "    </tr>\n",
       "    <tr>\n",
       "      <th>16703</th>\n",
       "      <td>Strawberry Nauts</td>\n",
       "      <td>PSV</td>\n",
       "      <td>2016</td>\n",
       "      <td>Adventure</td>\n",
       "      <td>0.00</td>\n",
       "      <td>0.00</td>\n",
       "      <td>0.01</td>\n",
       "      <td>0.00</td>\n",
       "      <td>72.0</td>\n",
       "      <td>7.60</td>\n",
       "      <td>unknown</td>\n",
       "      <td>0.01</td>\n",
       "    </tr>\n",
       "    <tr>\n",
       "      <th>16707</th>\n",
       "      <td>Aiyoku no Eustia</td>\n",
       "      <td>PSV</td>\n",
       "      <td>2014</td>\n",
       "      <td>Misc</td>\n",
       "      <td>0.00</td>\n",
       "      <td>0.00</td>\n",
       "      <td>0.01</td>\n",
       "      <td>0.00</td>\n",
       "      <td>81.0</td>\n",
       "      <td>8.05</td>\n",
       "      <td>unknown</td>\n",
       "      <td>0.01</td>\n",
       "    </tr>\n",
       "    <tr>\n",
       "      <th>16710</th>\n",
       "      <td>Samurai Warriors: Sanada Maru</td>\n",
       "      <td>PS3</td>\n",
       "      <td>2016</td>\n",
       "      <td>Action</td>\n",
       "      <td>0.00</td>\n",
       "      <td>0.00</td>\n",
       "      <td>0.01</td>\n",
       "      <td>0.00</td>\n",
       "      <td>71.0</td>\n",
       "      <td>7.20</td>\n",
       "      <td>unknown</td>\n",
       "      <td>0.01</td>\n",
       "    </tr>\n",
       "    <tr>\n",
       "      <th>16712</th>\n",
       "      <td>Haitaka no Psychedelica</td>\n",
       "      <td>PSV</td>\n",
       "      <td>2016</td>\n",
       "      <td>Adventure</td>\n",
       "      <td>0.00</td>\n",
       "      <td>0.00</td>\n",
       "      <td>0.01</td>\n",
       "      <td>0.00</td>\n",
       "      <td>72.0</td>\n",
       "      <td>7.60</td>\n",
       "      <td>unknown</td>\n",
       "      <td>0.01</td>\n",
       "    </tr>\n",
       "    <tr>\n",
       "      <th>16714</th>\n",
       "      <td>Winning Post 8 2016</td>\n",
       "      <td>PSV</td>\n",
       "      <td>2016</td>\n",
       "      <td>Simulation</td>\n",
       "      <td>0.00</td>\n",
       "      <td>0.00</td>\n",
       "      <td>0.01</td>\n",
       "      <td>0.00</td>\n",
       "      <td>65.5</td>\n",
       "      <td>7.30</td>\n",
       "      <td>unknown</td>\n",
       "      <td>0.01</td>\n",
       "    </tr>\n",
       "  </tbody>\n",
       "</table>\n",
       "<p>2887 rows × 12 columns</p>\n",
       "</div>"
      ],
      "text/plain": [
       "                                name platform  year_of_release         genre  \\\n",
       "16                Grand Theft Auto V      PS3             2013        Action   \n",
       "23                Grand Theft Auto V     X360             2013        Action   \n",
       "31         Call of Duty: Black Ops 3      PS4             2015       Shooter   \n",
       "33               Pokemon X/Pokemon Y      3DS             2013  Role-Playing   \n",
       "34        Call of Duty: Black Ops II      PS3             2012       Shooter   \n",
       "...                              ...      ...              ...           ...   \n",
       "16703               Strawberry Nauts      PSV             2016     Adventure   \n",
       "16707               Aiyoku no Eustia      PSV             2014          Misc   \n",
       "16710  Samurai Warriors: Sanada Maru      PS3             2016        Action   \n",
       "16712        Haitaka no Psychedelica      PSV             2016     Adventure   \n",
       "16714            Winning Post 8 2016      PSV             2016    Simulation   \n",
       "\n",
       "       na_sales  eu_sales  jp_sales  other_sales  critic_score  user_score  \\\n",
       "16         7.02      9.09      0.98         3.96          97.0        8.20   \n",
       "23         9.66      5.14      0.06         1.41          97.0        8.10   \n",
       "31         6.03      5.86      0.36         2.38          76.0        6.90   \n",
       "33         5.28      4.19      4.35         0.78          74.0        7.80   \n",
       "34         4.99      5.73      0.65         2.42          83.0        5.30   \n",
       "...         ...       ...       ...          ...           ...         ...   \n",
       "16703      0.00      0.00      0.01         0.00          72.0        7.60   \n",
       "16707      0.00      0.00      0.01         0.00          81.0        8.05   \n",
       "16710      0.00      0.00      0.01         0.00          71.0        7.20   \n",
       "16712      0.00      0.00      0.01         0.00          72.0        7.60   \n",
       "16714      0.00      0.00      0.01         0.00          65.5        7.30   \n",
       "\n",
       "        rating  total_sales  \n",
       "16           M        21.05  \n",
       "23           M        16.27  \n",
       "31     unknown        14.63  \n",
       "33     unknown        14.60  \n",
       "34           M        13.79  \n",
       "...        ...          ...  \n",
       "16703  unknown         0.01  \n",
       "16707  unknown         0.01  \n",
       "16710  unknown         0.01  \n",
       "16712  unknown         0.01  \n",
       "16714  unknown         0.01  \n",
       "\n",
       "[2887 rows x 12 columns]"
      ]
     },
     "execution_count": 32,
     "metadata": {},
     "output_type": "execute_result"
    }
   ],
   "source": [
    "#Filter data from 2012 only\n",
    "games_data_filtered = games_data.query('year_of_release >= 2012')\n",
    "games_data_filtered"
   ]
  },
  {
   "cell_type": "markdown",
   "metadata": {},
   "source": [
    "#### Conclusion"
   ]
  },
  {
   "cell_type": "markdown",
   "metadata": {},
   "source": [
    "According to this graph's that it take around 5 years for a patform to fade\n",
    "So we will work only with data from 2012"
   ]
  },
  {
   "cell_type": "markdown",
   "metadata": {},
   "source": [
    "###  Which platforms are leading in sales? Which ones are growing or shrinking? Select several potentially profitable platforms."
   ]
  },
  {
   "cell_type": "code",
   "execution_count": 33,
   "metadata": {},
   "outputs": [
    {
     "data": {
      "text/html": [
       "<div>\n",
       "<style scoped>\n",
       "    .dataframe tbody tr th:only-of-type {\n",
       "        vertical-align: middle;\n",
       "    }\n",
       "\n",
       "    .dataframe tbody tr th {\n",
       "        vertical-align: top;\n",
       "    }\n",
       "\n",
       "    .dataframe thead th {\n",
       "        text-align: right;\n",
       "    }\n",
       "</style>\n",
       "<table border=\"1\" class=\"dataframe\">\n",
       "  <thead>\n",
       "    <tr style=\"text-align: right;\">\n",
       "      <th></th>\n",
       "      <th>total_sales</th>\n",
       "    </tr>\n",
       "    <tr>\n",
       "      <th>platform</th>\n",
       "      <th></th>\n",
       "    </tr>\n",
       "  </thead>\n",
       "  <tbody>\n",
       "    <tr>\n",
       "      <th>PS4</th>\n",
       "      <td>314.14</td>\n",
       "    </tr>\n",
       "    <tr>\n",
       "      <th>PS3</th>\n",
       "      <td>288.79</td>\n",
       "    </tr>\n",
       "    <tr>\n",
       "      <th>X360</th>\n",
       "      <td>236.54</td>\n",
       "    </tr>\n",
       "    <tr>\n",
       "      <th>3DS</th>\n",
       "      <td>194.61</td>\n",
       "    </tr>\n",
       "    <tr>\n",
       "      <th>XOne</th>\n",
       "      <td>159.32</td>\n",
       "    </tr>\n",
       "    <tr>\n",
       "      <th>WiiU</th>\n",
       "      <td>82.19</td>\n",
       "    </tr>\n",
       "    <tr>\n",
       "      <th>PC</th>\n",
       "      <td>63.00</td>\n",
       "    </tr>\n",
       "    <tr>\n",
       "      <th>PSV</th>\n",
       "      <td>49.18</td>\n",
       "    </tr>\n",
       "    <tr>\n",
       "      <th>Wii</th>\n",
       "      <td>35.37</td>\n",
       "    </tr>\n",
       "    <tr>\n",
       "      <th>DS</th>\n",
       "      <td>12.55</td>\n",
       "    </tr>\n",
       "    <tr>\n",
       "      <th>PSP</th>\n",
       "      <td>11.19</td>\n",
       "    </tr>\n",
       "  </tbody>\n",
       "</table>\n",
       "</div>"
      ],
      "text/plain": [
       "          total_sales\n",
       "platform             \n",
       "PS4            314.14\n",
       "PS3            288.79\n",
       "X360           236.54\n",
       "3DS            194.61\n",
       "XOne           159.32\n",
       "WiiU            82.19\n",
       "PC              63.00\n",
       "PSV             49.18\n",
       "Wii             35.37\n",
       "DS              12.55\n",
       "PSP             11.19"
      ]
     },
     "execution_count": 33,
     "metadata": {},
     "output_type": "execute_result"
    }
   ],
   "source": [
    "games_data_filtered_pivot = games_data_filtered.pivot_table(\n",
    "                    index='platform',                    \n",
    "                    values='total_sales',\n",
    "                    aggfunc='sum'\n",
    "                        )\n",
    "games_data_filtered_pivot.sort_values('total_sales',ascending=False,inplace=True)\n",
    "games_data_filtered_pivot\n"
   ]
  },
  {
   "cell_type": "code",
   "execution_count": 34,
   "metadata": {},
   "outputs": [
    {
     "data": {
      "text/plain": [
       "Text(0, 0.5, 'total sales')"
      ]
     },
     "execution_count": 34,
     "metadata": {},
     "output_type": "execute_result"
    },
    {
     "data": {
      "image/png": "[encoded data removed]",
      "text/plain": [
       "<Figure size 936x360 with 1 Axes>"
      ]
     },
     "metadata": {
      "needs_background": "light"
     },
     "output_type": "display_data"
    }
   ],
   "source": [
    "games_data_filtered_pivot.plot(y='total_sales',kind='bar', grid=True, figsize=(13,5),style='o',rot=0, legend=None);\n",
    "plt.xlabel('platform')\n",
    "plt.ylabel('total sales')"
   ]
  },
  {
   "cell_type": "markdown",
   "metadata": {},
   "source": [
    "Since 2012 the platforms that are leading in sales are: PS4,PS3, X360, 3DS, Xone"
   ]
  },
  {
   "cell_type": "code",
   "execution_count": 35,
   "metadata": {},
   "outputs": [
    {
     "data": {
      "text/html": [
       "<div>\n",
       "<style scoped>\n",
       "    .dataframe tbody tr th:only-of-type {\n",
       "        vertical-align: middle;\n",
       "    }\n",
       "\n",
       "    .dataframe tbody tr th {\n",
       "        vertical-align: top;\n",
       "    }\n",
       "\n",
       "    .dataframe thead th {\n",
       "        text-align: right;\n",
       "    }\n",
       "</style>\n",
       "<table border=\"1\" class=\"dataframe\">\n",
       "  <thead>\n",
       "    <tr style=\"text-align: right;\">\n",
       "      <th>year_of_release</th>\n",
       "      <th>2012</th>\n",
       "      <th>2013</th>\n",
       "      <th>2014</th>\n",
       "      <th>2015</th>\n",
       "      <th>2016</th>\n",
       "    </tr>\n",
       "    <tr>\n",
       "      <th>platform</th>\n",
       "      <th></th>\n",
       "      <th></th>\n",
       "      <th></th>\n",
       "      <th></th>\n",
       "      <th></th>\n",
       "    </tr>\n",
       "  </thead>\n",
       "  <tbody>\n",
       "    <tr>\n",
       "      <th>3DS</th>\n",
       "      <td>NaN</td>\n",
       "      <td>5.21</td>\n",
       "      <td>-12.81</td>\n",
       "      <td>-15.98</td>\n",
       "      <td>-12.64</td>\n",
       "    </tr>\n",
       "    <tr>\n",
       "      <th>DS</th>\n",
       "      <td>NaN</td>\n",
       "      <td>-9.47</td>\n",
       "      <td>-1.54</td>\n",
       "      <td>0.00</td>\n",
       "      <td>0.00</td>\n",
       "    </tr>\n",
       "    <tr>\n",
       "      <th>PC</th>\n",
       "      <td>NaN</td>\n",
       "      <td>-10.49</td>\n",
       "      <td>0.55</td>\n",
       "      <td>-4.76</td>\n",
       "      <td>-3.27</td>\n",
       "    </tr>\n",
       "    <tr>\n",
       "      <th>PS3</th>\n",
       "      <td>NaN</td>\n",
       "      <td>5.89</td>\n",
       "      <td>-65.49</td>\n",
       "      <td>-30.94</td>\n",
       "      <td>-13.22</td>\n",
       "    </tr>\n",
       "    <tr>\n",
       "      <th>PS4</th>\n",
       "      <td>NaN</td>\n",
       "      <td>25.99</td>\n",
       "      <td>74.01</td>\n",
       "      <td>18.90</td>\n",
       "      <td>-49.65</td>\n",
       "    </tr>\n",
       "    <tr>\n",
       "      <th>PSP</th>\n",
       "      <td>NaN</td>\n",
       "      <td>-4.55</td>\n",
       "      <td>-2.90</td>\n",
       "      <td>-0.12</td>\n",
       "      <td>-0.12</td>\n",
       "    </tr>\n",
       "    <tr>\n",
       "      <th>PSV</th>\n",
       "      <td>NaN</td>\n",
       "      <td>-5.60</td>\n",
       "      <td>1.31</td>\n",
       "      <td>-5.65</td>\n",
       "      <td>-2.00</td>\n",
       "    </tr>\n",
       "    <tr>\n",
       "      <th>Wii</th>\n",
       "      <td>NaN</td>\n",
       "      <td>-13.12</td>\n",
       "      <td>-4.84</td>\n",
       "      <td>-2.61</td>\n",
       "      <td>-0.96</td>\n",
       "    </tr>\n",
       "    <tr>\n",
       "      <th>WiiU</th>\n",
       "      <td>NaN</td>\n",
       "      <td>4.09</td>\n",
       "      <td>0.38</td>\n",
       "      <td>-5.68</td>\n",
       "      <td>-11.75</td>\n",
       "    </tr>\n",
       "    <tr>\n",
       "      <th>X360</th>\n",
       "      <td>NaN</td>\n",
       "      <td>-11.16</td>\n",
       "      <td>-53.84</td>\n",
       "      <td>-22.78</td>\n",
       "      <td>-10.44</td>\n",
       "    </tr>\n",
       "    <tr>\n",
       "      <th>XOne</th>\n",
       "      <td>NaN</td>\n",
       "      <td>18.96</td>\n",
       "      <td>35.11</td>\n",
       "      <td>6.07</td>\n",
       "      <td>-33.99</td>\n",
       "    </tr>\n",
       "  </tbody>\n",
       "</table>\n",
       "</div>"
      ],
      "text/plain": [
       "year_of_release  2012   2013   2014   2015   2016\n",
       "platform                                         \n",
       "3DS               NaN   5.21 -12.81 -15.98 -12.64\n",
       "DS                NaN  -9.47  -1.54   0.00   0.00\n",
       "PC                NaN -10.49   0.55  -4.76  -3.27\n",
       "PS3               NaN   5.89 -65.49 -30.94 -13.22\n",
       "PS4               NaN  25.99  74.01  18.90 -49.65\n",
       "PSP               NaN  -4.55  -2.90  -0.12  -0.12\n",
       "PSV               NaN  -5.60   1.31  -5.65  -2.00\n",
       "Wii               NaN -13.12  -4.84  -2.61  -0.96\n",
       "WiiU              NaN   4.09   0.38  -5.68 -11.75\n",
       "X360              NaN -11.16 -53.84 -22.78 -10.44\n",
       "XOne              NaN  18.96  35.11   6.07 -33.99"
      ]
     },
     "execution_count": 35,
     "metadata": {},
     "output_type": "execute_result"
    }
   ],
   "source": [
    "#\n",
    "filtered_total_sales_by_year = games_data_filtered.pivot_table(\n",
    "                    index='platform', \n",
    "                    columns='year_of_release',\n",
    "                    values='total_sales',\n",
    "                    aggfunc='sum',\n",
    "                    fill_value=0\n",
    "                        )\n",
    "#Check diffences between years\n",
    "difference_between_years = filtered_total_sales_by_year - filtered_total_sales_by_year.shift(+1, axis=1)\n",
    "difference_between_years"
   ]
  },
  {
   "cell_type": "code",
   "execution_count": 36,
   "metadata": {},
   "outputs": [
    {
     "data": {
      "image/png": "[encoded data removed]",
      "text/plain": [
       "<Figure size 1368x504 with 2 Axes>"
      ]
     },
     "metadata": {
      "needs_background": "light"
     },
     "output_type": "display_data"
    }
   ],
   "source": [
    "#heatmap shows the total sales in years\n",
    "plt.figure(figsize=(19,7))\n",
    "sns.heatmap(difference_between_years, cmap='RdBu_r');\n"
   ]
  },
  {
   "cell_type": "code",
   "execution_count": 37,
   "metadata": {},
   "outputs": [
    {
     "data": {
      "text/html": [
       "<div>\n",
       "<style scoped>\n",
       "    .dataframe tbody tr th:only-of-type {\n",
       "        vertical-align: middle;\n",
       "    }\n",
       "\n",
       "    .dataframe tbody tr th {\n",
       "        vertical-align: top;\n",
       "    }\n",
       "\n",
       "    .dataframe thead th {\n",
       "        text-align: right;\n",
       "    }\n",
       "</style>\n",
       "<table border=\"1\" class=\"dataframe\">\n",
       "  <thead>\n",
       "    <tr style=\"text-align: right;\">\n",
       "      <th></th>\n",
       "      <th>platform</th>\n",
       "      <th>total_sales</th>\n",
       "    </tr>\n",
       "  </thead>\n",
       "  <tbody>\n",
       "    <tr>\n",
       "      <th>0</th>\n",
       "      <td>PS4</td>\n",
       "      <td>314.14</td>\n",
       "    </tr>\n",
       "    <tr>\n",
       "      <th>1</th>\n",
       "      <td>PS3</td>\n",
       "      <td>288.79</td>\n",
       "    </tr>\n",
       "    <tr>\n",
       "      <th>2</th>\n",
       "      <td>X360</td>\n",
       "      <td>236.54</td>\n",
       "    </tr>\n",
       "    <tr>\n",
       "      <th>3</th>\n",
       "      <td>3DS</td>\n",
       "      <td>194.61</td>\n",
       "    </tr>\n",
       "    <tr>\n",
       "      <th>4</th>\n",
       "      <td>XOne</td>\n",
       "      <td>159.32</td>\n",
       "    </tr>\n",
       "  </tbody>\n",
       "</table>\n",
       "</div>"
      ],
      "text/plain": [
       "  platform  total_sales\n",
       "0      PS4       314.14\n",
       "1      PS3       288.79\n",
       "2     X360       236.54\n",
       "3      3DS       194.61\n",
       "4     XOne       159.32"
      ]
     },
     "execution_count": 37,
     "metadata": {},
     "output_type": "execute_result"
    }
   ],
   "source": [
    "#Get top profitable platforms\n",
    "top_profitable_platforms = games_data_filtered_pivot.query('total_sales > 150').reset_index()\n",
    "top_profitable_platforms"
   ]
  },
  {
   "cell_type": "markdown",
   "metadata": {},
   "source": [
    "#### Conclusion"
   ]
  },
  {
   "cell_type": "markdown",
   "metadata": {},
   "source": [
    "Platforms that shrinked during the years are:PS4, Xone    \n",
    "Platform that grow during the years are: X360, PS3  \n",
    "profitable platforms: PS4, PS3, X360, 3DS, XOne"
   ]
  },
  {
   "cell_type": "markdown",
   "metadata": {},
   "source": [
    "###   Build a box plot for the global sales of all games, broken down by platform"
   ]
  },
  {
   "cell_type": "code",
   "execution_count": 38,
   "metadata": {},
   "outputs": [
    {
     "data": {
      "text/html": [
       "<div>\n",
       "<style scoped>\n",
       "    .dataframe tbody tr th:only-of-type {\n",
       "        vertical-align: middle;\n",
       "    }\n",
       "\n",
       "    .dataframe tbody tr th {\n",
       "        vertical-align: top;\n",
       "    }\n",
       "\n",
       "    .dataframe thead th {\n",
       "        text-align: right;\n",
       "    }\n",
       "</style>\n",
       "<table border=\"1\" class=\"dataframe\">\n",
       "  <thead>\n",
       "    <tr style=\"text-align: right;\">\n",
       "      <th>year_of_release</th>\n",
       "      <th>2012</th>\n",
       "      <th>2013</th>\n",
       "      <th>2014</th>\n",
       "      <th>2015</th>\n",
       "      <th>2016</th>\n",
       "    </tr>\n",
       "    <tr>\n",
       "      <th>platform</th>\n",
       "      <th></th>\n",
       "      <th></th>\n",
       "      <th></th>\n",
       "      <th></th>\n",
       "      <th></th>\n",
       "    </tr>\n",
       "  </thead>\n",
       "  <tbody>\n",
       "    <tr>\n",
       "      <th>3DS</th>\n",
       "      <td>51.36</td>\n",
       "      <td>56.57</td>\n",
       "      <td>43.76</td>\n",
       "      <td>27.78</td>\n",
       "      <td>15.14</td>\n",
       "    </tr>\n",
       "    <tr>\n",
       "      <th>DS</th>\n",
       "      <td>11.01</td>\n",
       "      <td>1.54</td>\n",
       "      <td>0.00</td>\n",
       "      <td>0.00</td>\n",
       "      <td>0.00</td>\n",
       "    </tr>\n",
       "    <tr>\n",
       "      <th>PC</th>\n",
       "      <td>23.22</td>\n",
       "      <td>12.73</td>\n",
       "      <td>13.28</td>\n",
       "      <td>8.52</td>\n",
       "      <td>5.25</td>\n",
       "    </tr>\n",
       "    <tr>\n",
       "      <th>PS3</th>\n",
       "      <td>107.36</td>\n",
       "      <td>113.25</td>\n",
       "      <td>47.76</td>\n",
       "      <td>16.82</td>\n",
       "      <td>3.60</td>\n",
       "    </tr>\n",
       "    <tr>\n",
       "      <th>PS4</th>\n",
       "      <td>0.00</td>\n",
       "      <td>25.99</td>\n",
       "      <td>100.00</td>\n",
       "      <td>118.90</td>\n",
       "      <td>69.25</td>\n",
       "    </tr>\n",
       "    <tr>\n",
       "      <th>PSP</th>\n",
       "      <td>7.69</td>\n",
       "      <td>3.14</td>\n",
       "      <td>0.24</td>\n",
       "      <td>0.12</td>\n",
       "      <td>0.00</td>\n",
       "    </tr>\n",
       "    <tr>\n",
       "      <th>PSV</th>\n",
       "      <td>16.19</td>\n",
       "      <td>10.59</td>\n",
       "      <td>11.90</td>\n",
       "      <td>6.25</td>\n",
       "      <td>4.25</td>\n",
       "    </tr>\n",
       "    <tr>\n",
       "      <th>Wii</th>\n",
       "      <td>21.71</td>\n",
       "      <td>8.59</td>\n",
       "      <td>3.75</td>\n",
       "      <td>1.14</td>\n",
       "      <td>0.18</td>\n",
       "    </tr>\n",
       "    <tr>\n",
       "      <th>WiiU</th>\n",
       "      <td>17.56</td>\n",
       "      <td>21.65</td>\n",
       "      <td>22.03</td>\n",
       "      <td>16.35</td>\n",
       "      <td>4.60</td>\n",
       "    </tr>\n",
       "    <tr>\n",
       "      <th>X360</th>\n",
       "      <td>99.74</td>\n",
       "      <td>88.58</td>\n",
       "      <td>34.74</td>\n",
       "      <td>11.96</td>\n",
       "      <td>1.52</td>\n",
       "    </tr>\n",
       "    <tr>\n",
       "      <th>XOne</th>\n",
       "      <td>0.00</td>\n",
       "      <td>18.96</td>\n",
       "      <td>54.07</td>\n",
       "      <td>60.14</td>\n",
       "      <td>26.15</td>\n",
       "    </tr>\n",
       "  </tbody>\n",
       "</table>\n",
       "</div>"
      ],
      "text/plain": [
       "year_of_release    2012    2013    2014    2015   2016\n",
       "platform                                              \n",
       "3DS               51.36   56.57   43.76   27.78  15.14\n",
       "DS                11.01    1.54    0.00    0.00   0.00\n",
       "PC                23.22   12.73   13.28    8.52   5.25\n",
       "PS3              107.36  113.25   47.76   16.82   3.60\n",
       "PS4                0.00   25.99  100.00  118.90  69.25\n",
       "PSP                7.69    3.14    0.24    0.12   0.00\n",
       "PSV               16.19   10.59   11.90    6.25   4.25\n",
       "Wii               21.71    8.59    3.75    1.14   0.18\n",
       "WiiU              17.56   21.65   22.03   16.35   4.60\n",
       "X360              99.74   88.58   34.74   11.96   1.52\n",
       "XOne               0.00   18.96   54.07   60.14  26.15"
      ]
     },
     "execution_count": 38,
     "metadata": {},
     "output_type": "execute_result"
    }
   ],
   "source": [
    "#Explorer the data\n",
    "filtered_total_sales_by_year"
   ]
  },
  {
   "cell_type": "code",
   "execution_count": 39,
   "metadata": {},
   "outputs": [
    {
     "data": {
      "text/plain": [
       "Text(0, 0.5, 'Total sales')"
      ]
     },
     "execution_count": 39,
     "metadata": {},
     "output_type": "execute_result"
    },
    {
     "data": {
      "image/png": "[encoded data removed]",
      "text/plain": [
       "<Figure size 432x288 with 1 Axes>"
      ]
     },
     "metadata": {
      "needs_background": "light"
     },
     "output_type": "display_data"
    }
   ],
   "source": [
    "#filter the data to the most profitble platforms\n",
    "filtered_total_sales_by_year = filtered_total_sales_by_year.query(\"platform in ('PS4', 'PS3', 'X360', '3DS', 'XOne')\")\n",
    "filtered_total_sales_by_year.T.boxplot();\n",
    "plt.xlabel('platform')\n",
    "plt.ylabel('Total sales')"
   ]
  },
  {
   "cell_type": "code",
   "execution_count": 40,
   "metadata": {},
   "outputs": [
    {
     "data": {
      "text/html": [
       "<div>\n",
       "<style scoped>\n",
       "    .dataframe tbody tr th:only-of-type {\n",
       "        vertical-align: middle;\n",
       "    }\n",
       "\n",
       "    .dataframe tbody tr th {\n",
       "        vertical-align: top;\n",
       "    }\n",
       "\n",
       "    .dataframe thead th {\n",
       "        text-align: right;\n",
       "    }\n",
       "</style>\n",
       "<table border=\"1\" class=\"dataframe\">\n",
       "  <thead>\n",
       "    <tr style=\"text-align: right;\">\n",
       "      <th></th>\n",
       "      <th>platform</th>\n",
       "      <th>total_sales</th>\n",
       "      <th>distance_from_mean</th>\n",
       "    </tr>\n",
       "  </thead>\n",
       "  <tbody>\n",
       "    <tr>\n",
       "      <th>0</th>\n",
       "      <td>PS4</td>\n",
       "      <td>314.14</td>\n",
       "      <td>75.46</td>\n",
       "    </tr>\n",
       "    <tr>\n",
       "      <th>1</th>\n",
       "      <td>PS3</td>\n",
       "      <td>288.79</td>\n",
       "      <td>50.11</td>\n",
       "    </tr>\n",
       "    <tr>\n",
       "      <th>2</th>\n",
       "      <td>X360</td>\n",
       "      <td>236.54</td>\n",
       "      <td>-2.14</td>\n",
       "    </tr>\n",
       "    <tr>\n",
       "      <th>3</th>\n",
       "      <td>3DS</td>\n",
       "      <td>194.61</td>\n",
       "      <td>-44.07</td>\n",
       "    </tr>\n",
       "    <tr>\n",
       "      <th>4</th>\n",
       "      <td>XOne</td>\n",
       "      <td>159.32</td>\n",
       "      <td>-79.36</td>\n",
       "    </tr>\n",
       "  </tbody>\n",
       "</table>\n",
       "</div>"
      ],
      "text/plain": [
       "  platform  total_sales  distance_from_mean\n",
       "0      PS4       314.14               75.46\n",
       "1      PS3       288.79               50.11\n",
       "2     X360       236.54               -2.14\n",
       "3      3DS       194.61              -44.07\n",
       "4     XOne       159.32              -79.36"
      ]
     },
     "execution_count": 40,
     "metadata": {},
     "output_type": "execute_result"
    }
   ],
   "source": [
    "#Calculate the mean\n",
    "top_profitable_platforms_mean = top_profitable_platforms['total_sales'].mean()\n",
    "#Add column 'distance_from_mean' for each platform sales\n",
    "top_profitable_platforms['distance_from_mean'] = top_profitable_platforms['total_sales'] - top_profitable_platforms_mean\n",
    "top_profitable_platforms"
   ]
  },
  {
   "cell_type": "markdown",
   "metadata": {},
   "source": [
    "#### Conclusion"
   ]
  },
  {
   "cell_type": "markdown",
   "metadata": {},
   "source": [
    "The differences in sales are not  significant.\n",
    "There are no outlires  \n",
    "The distance_from_mean is almost the same "
   ]
  },
  {
   "cell_type": "markdown",
   "metadata": {},
   "source": [
    "###  How user and professional reviews affect sales"
   ]
  },
  {
   "cell_type": "code",
   "execution_count": 41,
   "metadata": {},
   "outputs": [],
   "source": [
    "#Check correlation between sales and critic_score and user_score\n",
    "def score_effect_sales(platform):\n",
    "    platform_data = games_data_filtered.query('platform == @platform')\n",
    "    \n",
    "    #plot graph  sales and critic_score\n",
    "    platform_data.plot(y='total_sales', x='critic_score', kind='scatter', label=platform);\n",
    "    plt.xlabel('critic score')\n",
    "    plt.ylabel('Total sales')\n",
    "    #plot graph  sales and critic_score\n",
    "    platform_data.plot(y='total_sales', x='user_score', kind='scatter',label=platform);\n",
    "    plt.xlabel('User score')\n",
    "    plt.ylabel('Total sales')\n",
    "    #Check correlation between sales and critic_score\n",
    "    sales_critic_score_corr = platform_data['total_sales'].corr(platform_data['critic_score'])\n",
    "    \n",
    "    #Check correlation between sales and user_score\n",
    "    sales_user_score_corr = platform_data['total_sales'].corr(platform_data['user_score'])\n",
    "    \n",
    "    print(platform,'platform')\n",
    "    if sales_critic_score_corr >= 0.5:\n",
    "        print('correlation value is {} - There is a correlation between sales and critic score'.format(sales_critic_score_corr))\n",
    "    else:\n",
    "        print('correlation value is {} - There is NOT a correlation between sales and critic score'.format(sales_critic_score_corr))\n",
    "        \n",
    "    if sales_user_score_corr >= 0.5:\n",
    "        print('correlation value is {} - There is a correlation between sales and user score'.format(sales_user_score_corr))\n",
    "    else:\n",
    "        print('correlation value is {} - There is NOT a correlation between sales and user score'.format(sales_user_score_corr))\n",
    "    \n"
   ]
  },
  {
   "cell_type": "code",
   "execution_count": 42,
   "metadata": {},
   "outputs": [
    {
     "name": "stdout",
     "output_type": "stream",
     "text": [
      "PS4 platform\n",
      "correlation value is 0.3347689328109688 - There is NOT a correlation between sales and critic score\n",
      "correlation value is -0.07203316554802212 - There is NOT a correlation between sales and user score\n",
      "PS3 platform\n",
      "correlation value is 0.2978991626143336 - There is NOT a correlation between sales and critic score\n",
      "correlation value is -0.0570408039276526 - There is NOT a correlation between sales and user score\n",
      "X360 platform\n",
      "correlation value is 0.33851809516010767 - There is NOT a correlation between sales and critic score\n",
      "correlation value is -0.021501277231634853 - There is NOT a correlation between sales and user score\n",
      "3DS platform\n",
      "correlation value is 0.245918307421983 - There is NOT a correlation between sales and critic score\n",
      "correlation value is 0.17434389027483982 - There is NOT a correlation between sales and user score\n",
      "XOne platform\n",
      "correlation value is 0.33155145507232087 - There is NOT a correlation between sales and critic score\n",
      "correlation value is -0.0740239889448327 - There is NOT a correlation between sales and user score\n"
     ]
    },
    {
     "data": {
      "text/plain": [
       "0    None\n",
       "1    None\n",
       "2    None\n",
       "3    None\n",
       "4    None\n",
       "Name: platform, dtype: object"
      ]
     },
     "execution_count": 42,
     "metadata": {},
     "output_type": "execute_result"
    },
    {
     "data": {
      "image/png": "[encoded data removed]",
      "text/plain": [
       "<Figure size 432x288 with 1 Axes>"
      ]
     },
     "metadata": {
      "needs_background": "light"
     },
     "output_type": "display_data"
    },
    {
     "data": {
      "image/png": "[encoded data removed]",
      "text/plain": [
       "<Figure size 432x288 with 1 Axes>"
      ]
     },
     "metadata": {
      "needs_background": "light"
     },
     "output_type": "display_data"
    },
    {
     "data": {
      "image/png": "[encoded data removed]",
      "text/plain": [
       "<Figure size 432x288 with 1 Axes>"
      ]
     },
     "metadata": {
      "needs_background": "light"
     },
     "output_type": "display_data"
    },
    {
     "data": {
      "image/png": "[encoded data removed]",
      "text/plain": [
       "<Figure size 432x288 with 1 Axes>"
      ]
     },
     "metadata": {
      "needs_background": "light"
     },
     "output_type": "display_data"
    },
    {
     "data": {
      "image/png": "[encoded data removed]",
      "text/plain": [
       "<Figure size 432x288 with 1 Axes>"
      ]
     },
     "metadata": {
      "needs_background": "light"
     },
     "output_type": "display_data"
    },
    {
     "data": {
      "image/png": "[encoded data removed]",
      "text/plain": [
       "<Figure size 432x288 with 1 Axes>"
      ]
     },
     "metadata": {
      "needs_background": "light"
     },
     "output_type": "display_data"
    },
    {
     "data": {
      "image/png": "[encoded data removed]",
      "text/plain": [
       "<Figure size 432x288 with 1 Axes>"
      ]
     },
     "metadata": {
      "needs_background": "light"
     },
     "output_type": "display_data"
    },
    {
     "data": {
      "image/png": "[encoded data removed]",
      "text/plain": [
       "<Figure size 432x288 with 1 Axes>"
      ]
     },
     "metadata": {
      "needs_background": "light"
     },
     "output_type": "display_data"
    },
    {
     "data": {
      "image/png": "[encoded data removed]",
      "text/plain": [
       "<Figure size 432x288 with 1 Axes>"
      ]
     },
     "metadata": {
      "needs_background": "light"
     },
     "output_type": "display_data"
    },
    {
     "data": {
      "image/png": "[encoded data removed]",
      "text/plain": [
       "<Figure size 432x288 with 1 Axes>"
      ]
     },
     "metadata": {
      "needs_background": "light"
     },
     "output_type": "display_data"
    }
   ],
   "source": [
    "#Check sales and reviews  correlation on platforms\n",
    "\n",
    "top_profitable_platforms['platform'].apply(score_effect_sales)"
   ]
  },
  {
   "cell_type": "markdown",
   "metadata": {},
   "source": [
    "#### Conclusion"
   ]
  },
  {
   "cell_type": "markdown",
   "metadata": {},
   "source": [
    "There is'nt correlation between user and professional reviews and sales"
   ]
  },
  {
   "cell_type": "markdown",
   "metadata": {},
   "source": [
    "###  general distribution of games by genre"
   ]
  },
  {
   "cell_type": "code",
   "execution_count": 43,
   "metadata": {},
   "outputs": [
    {
     "data": {
      "text/plain": [
       "Text(0, 0.5, 'Total sales')"
      ]
     },
     "execution_count": 43,
     "metadata": {},
     "output_type": "execute_result"
    },
    {
     "data": {
      "image/png": "[encoded data removed]",
      "text/plain": [
       "<Figure size 432x288 with 1 Axes>"
      ]
     },
     "metadata": {
      "needs_background": "light"
     },
     "output_type": "display_data"
    }
   ],
   "source": [
    "total_sales_by_genre = games_data_filtered.pivot_table(index='genre', values='total_sales', aggfunc='sum')\n",
    "total_sales_by_genre.sort_values('total_sales',ascending=False)\n",
    "total_sales_by_genre.plot(kind='bar',rot=40, legend=None);\n",
    "plt.xlabel('Genre')\n",
    "plt.ylabel('Total sales')"
   ]
  },
  {
   "cell_type": "markdown",
   "metadata": {},
   "source": [
    "The most popular genres are:Action, Shooter, Role-Playing , Sports"
   ]
  },
  {
   "cell_type": "code",
   "execution_count": 44,
   "metadata": {},
   "outputs": [
    {
     "data": {
      "image/png": "[encoded data removed]",
      "text/plain": [
       "<Figure size 1368x504 with 2 Axes>"
      ]
     },
     "metadata": {
      "needs_background": "light"
     },
     "output_type": "display_data"
    }
   ],
   "source": [
    "genre_total_sales_by_platform = games_data_filtered.pivot_table(\n",
    "    index='genre',\n",
    "    columns='platform',\n",
    "    values='total_sales',\n",
    "    aggfunc='sum',\n",
    "    fill_value=0)\n",
    "\n",
    "#heatmap shows the distribution by genre\n",
    "plt.figure(figsize=(19,7))\n",
    "sns.heatmap(genre_total_sales_by_platform, cmap='RdBu_r');"
   ]
  },
  {
   "cell_type": "code",
   "execution_count": 45,
   "metadata": {},
   "outputs": [
    {
     "data": {
      "text/html": [
       "<div>\n",
       "<style scoped>\n",
       "    .dataframe tbody tr th:only-of-type {\n",
       "        vertical-align: middle;\n",
       "    }\n",
       "\n",
       "    .dataframe tbody tr th {\n",
       "        vertical-align: top;\n",
       "    }\n",
       "\n",
       "    .dataframe thead th {\n",
       "        text-align: right;\n",
       "    }\n",
       "</style>\n",
       "<table border=\"1\" class=\"dataframe\">\n",
       "  <thead>\n",
       "    <tr style=\"text-align: right;\">\n",
       "      <th>platform</th>\n",
       "      <th>3DS</th>\n",
       "      <th>DS</th>\n",
       "      <th>PC</th>\n",
       "      <th>PS3</th>\n",
       "      <th>PS4</th>\n",
       "      <th>PSP</th>\n",
       "      <th>PSV</th>\n",
       "      <th>Wii</th>\n",
       "      <th>WiiU</th>\n",
       "      <th>X360</th>\n",
       "      <th>XOne</th>\n",
       "      <th>total sales</th>\n",
       "      <th>distance_from_mean</th>\n",
       "    </tr>\n",
       "    <tr>\n",
       "      <th>genre</th>\n",
       "      <th></th>\n",
       "      <th></th>\n",
       "      <th></th>\n",
       "      <th></th>\n",
       "      <th></th>\n",
       "      <th></th>\n",
       "      <th></th>\n",
       "      <th></th>\n",
       "      <th></th>\n",
       "      <th></th>\n",
       "      <th></th>\n",
       "      <th></th>\n",
       "      <th></th>\n",
       "    </tr>\n",
       "  </thead>\n",
       "  <tbody>\n",
       "    <tr>\n",
       "      <th>Action</th>\n",
       "      <td>45.49</td>\n",
       "      <td>1.82</td>\n",
       "      <td>13.49</td>\n",
       "      <td>115.75</td>\n",
       "      <td>96.10</td>\n",
       "      <td>3.76</td>\n",
       "      <td>16.33</td>\n",
       "      <td>10.75</td>\n",
       "      <td>19.07</td>\n",
       "      <td>81.60</td>\n",
       "      <td>37.31</td>\n",
       "      <td>441.47</td>\n",
       "      <td>320.896667</td>\n",
       "    </tr>\n",
       "    <tr>\n",
       "      <th>Shooter</th>\n",
       "      <td>0.13</td>\n",
       "      <td>0.00</td>\n",
       "      <td>14.27</td>\n",
       "      <td>60.39</td>\n",
       "      <td>88.56</td>\n",
       "      <td>0.00</td>\n",
       "      <td>2.34</td>\n",
       "      <td>0.00</td>\n",
       "      <td>6.01</td>\n",
       "      <td>72.70</td>\n",
       "      <td>60.33</td>\n",
       "      <td>304.73</td>\n",
       "      <td>184.156667</td>\n",
       "    </tr>\n",
       "    <tr>\n",
       "      <th>Role-Playing</th>\n",
       "      <td>79.30</td>\n",
       "      <td>9.08</td>\n",
       "      <td>13.65</td>\n",
       "      <td>22.62</td>\n",
       "      <td>28.99</td>\n",
       "      <td>2.81</td>\n",
       "      <td>12.05</td>\n",
       "      <td>1.06</td>\n",
       "      <td>2.89</td>\n",
       "      <td>9.80</td>\n",
       "      <td>10.55</td>\n",
       "      <td>192.80</td>\n",
       "      <td>72.226667</td>\n",
       "    </tr>\n",
       "    <tr>\n",
       "      <th>Sports</th>\n",
       "      <td>4.23</td>\n",
       "      <td>0.11</td>\n",
       "      <td>3.26</td>\n",
       "      <td>44.84</td>\n",
       "      <td>55.61</td>\n",
       "      <td>1.41</td>\n",
       "      <td>3.21</td>\n",
       "      <td>2.11</td>\n",
       "      <td>3.16</td>\n",
       "      <td>36.39</td>\n",
       "      <td>26.74</td>\n",
       "      <td>181.07</td>\n",
       "      <td>60.496667</td>\n",
       "    </tr>\n",
       "    <tr>\n",
       "      <th>Misc</th>\n",
       "      <td>9.45</td>\n",
       "      <td>0.48</td>\n",
       "      <td>0.73</td>\n",
       "      <td>8.88</td>\n",
       "      <td>8.19</td>\n",
       "      <td>0.41</td>\n",
       "      <td>4.32</td>\n",
       "      <td>17.86</td>\n",
       "      <td>12.46</td>\n",
       "      <td>14.83</td>\n",
       "      <td>7.43</td>\n",
       "      <td>85.04</td>\n",
       "      <td>-35.533333</td>\n",
       "    </tr>\n",
       "    <tr>\n",
       "      <th>Platform</th>\n",
       "      <td>19.11</td>\n",
       "      <td>0.69</td>\n",
       "      <td>0.14</td>\n",
       "      <td>4.26</td>\n",
       "      <td>7.69</td>\n",
       "      <td>0.00</td>\n",
       "      <td>2.26</td>\n",
       "      <td>2.25</td>\n",
       "      <td>21.53</td>\n",
       "      <td>2.14</td>\n",
       "      <td>0.93</td>\n",
       "      <td>61.00</td>\n",
       "      <td>-59.573333</td>\n",
       "    </tr>\n",
       "    <tr>\n",
       "      <th>Racing</th>\n",
       "      <td>0.28</td>\n",
       "      <td>0.00</td>\n",
       "      <td>1.23</td>\n",
       "      <td>11.56</td>\n",
       "      <td>12.14</td>\n",
       "      <td>0.00</td>\n",
       "      <td>2.21</td>\n",
       "      <td>0.01</td>\n",
       "      <td>7.87</td>\n",
       "      <td>8.41</td>\n",
       "      <td>9.79</td>\n",
       "      <td>53.50</td>\n",
       "      <td>-67.073333</td>\n",
       "    </tr>\n",
       "    <tr>\n",
       "      <th>Fighting</th>\n",
       "      <td>8.46</td>\n",
       "      <td>0.00</td>\n",
       "      <td>0.12</td>\n",
       "      <td>11.00</td>\n",
       "      <td>8.65</td>\n",
       "      <td>0.36</td>\n",
       "      <td>2.21</td>\n",
       "      <td>0.00</td>\n",
       "      <td>6.27</td>\n",
       "      <td>4.97</td>\n",
       "      <td>2.45</td>\n",
       "      <td>44.49</td>\n",
       "      <td>-76.083333</td>\n",
       "    </tr>\n",
       "    <tr>\n",
       "      <th>Simulation</th>\n",
       "      <td>19.93</td>\n",
       "      <td>0.21</td>\n",
       "      <td>9.22</td>\n",
       "      <td>1.78</td>\n",
       "      <td>1.23</td>\n",
       "      <td>0.06</td>\n",
       "      <td>0.05</td>\n",
       "      <td>0.22</td>\n",
       "      <td>0.20</td>\n",
       "      <td>1.53</td>\n",
       "      <td>0.69</td>\n",
       "      <td>35.12</td>\n",
       "      <td>-85.453333</td>\n",
       "    </tr>\n",
       "    <tr>\n",
       "      <th>Adventure</th>\n",
       "      <td>4.30</td>\n",
       "      <td>0.06</td>\n",
       "      <td>0.87</td>\n",
       "      <td>6.09</td>\n",
       "      <td>6.34</td>\n",
       "      <td>1.67</td>\n",
       "      <td>3.79</td>\n",
       "      <td>0.19</td>\n",
       "      <td>0.17</td>\n",
       "      <td>3.27</td>\n",
       "      <td>2.68</td>\n",
       "      <td>29.43</td>\n",
       "      <td>-91.143333</td>\n",
       "    </tr>\n",
       "    <tr>\n",
       "      <th>Strategy</th>\n",
       "      <td>1.27</td>\n",
       "      <td>0.00</td>\n",
       "      <td>5.99</td>\n",
       "      <td>1.58</td>\n",
       "      <td>0.62</td>\n",
       "      <td>0.71</td>\n",
       "      <td>0.35</td>\n",
       "      <td>0.26</td>\n",
       "      <td>1.24</td>\n",
       "      <td>0.90</td>\n",
       "      <td>0.42</td>\n",
       "      <td>13.34</td>\n",
       "      <td>-107.233333</td>\n",
       "    </tr>\n",
       "    <tr>\n",
       "      <th>Puzzle</th>\n",
       "      <td>2.66</td>\n",
       "      <td>0.10</td>\n",
       "      <td>0.03</td>\n",
       "      <td>0.04</td>\n",
       "      <td>0.02</td>\n",
       "      <td>0.00</td>\n",
       "      <td>0.06</td>\n",
       "      <td>0.66</td>\n",
       "      <td>1.32</td>\n",
       "      <td>0.00</td>\n",
       "      <td>0.00</td>\n",
       "      <td>4.89</td>\n",
       "      <td>-115.683333</td>\n",
       "    </tr>\n",
       "  </tbody>\n",
       "</table>\n",
       "</div>"
      ],
      "text/plain": [
       "platform        3DS    DS     PC     PS3    PS4   PSP    PSV    Wii   WiiU  \\\n",
       "genre                                                                        \n",
       "Action        45.49  1.82  13.49  115.75  96.10  3.76  16.33  10.75  19.07   \n",
       "Shooter        0.13  0.00  14.27   60.39  88.56  0.00   2.34   0.00   6.01   \n",
       "Role-Playing  79.30  9.08  13.65   22.62  28.99  2.81  12.05   1.06   2.89   \n",
       "Sports         4.23  0.11   3.26   44.84  55.61  1.41   3.21   2.11   3.16   \n",
       "Misc           9.45  0.48   0.73    8.88   8.19  0.41   4.32  17.86  12.46   \n",
       "Platform      19.11  0.69   0.14    4.26   7.69  0.00   2.26   2.25  21.53   \n",
       "Racing         0.28  0.00   1.23   11.56  12.14  0.00   2.21   0.01   7.87   \n",
       "Fighting       8.46  0.00   0.12   11.00   8.65  0.36   2.21   0.00   6.27   \n",
       "Simulation    19.93  0.21   9.22    1.78   1.23  0.06   0.05   0.22   0.20   \n",
       "Adventure      4.30  0.06   0.87    6.09   6.34  1.67   3.79   0.19   0.17   \n",
       "Strategy       1.27  0.00   5.99    1.58   0.62  0.71   0.35   0.26   1.24   \n",
       "Puzzle         2.66  0.10   0.03    0.04   0.02  0.00   0.06   0.66   1.32   \n",
       "\n",
       "platform       X360   XOne  total sales  distance_from_mean  \n",
       "genre                                                        \n",
       "Action        81.60  37.31       441.47          320.896667  \n",
       "Shooter       72.70  60.33       304.73          184.156667  \n",
       "Role-Playing   9.80  10.55       192.80           72.226667  \n",
       "Sports        36.39  26.74       181.07           60.496667  \n",
       "Misc          14.83   7.43        85.04          -35.533333  \n",
       "Platform       2.14   0.93        61.00          -59.573333  \n",
       "Racing         8.41   9.79        53.50          -67.073333  \n",
       "Fighting       4.97   2.45        44.49          -76.083333  \n",
       "Simulation     1.53   0.69        35.12          -85.453333  \n",
       "Adventure      3.27   2.68        29.43          -91.143333  \n",
       "Strategy       0.90   0.42        13.34         -107.233333  \n",
       "Puzzle         0.00   0.00         4.89         -115.683333  "
      ]
     },
     "execution_count": 45,
     "metadata": {},
     "output_type": "execute_result"
    }
   ],
   "source": [
    "#Calculate total sale for genre\n",
    "genre_total_sales_by_platform['total sales'] = genre_total_sales_by_platform.sum(axis=1)\n",
    "#Calculate mean\n",
    "genre_total_sales_mean = genre_total_sales_by_platform['total sales'].mean()\n",
    "#Calculate distance from mean \n",
    "genre_total_sales_by_platform['distance_from_mean'] = genre_total_sales_by_platform['total sales'] - genre_total_sales_mean\n",
    "genre_total_sales_by_platform.sort_values('distance_from_mean', ascending=False)"
   ]
  },
  {
   "cell_type": "markdown",
   "metadata": {},
   "source": [
    "The most profitable genres have high sales on the following platforms: PS3, PS4, X360,XOne,3DS which are the most popular platforms"
   ]
  },
  {
   "cell_type": "code",
   "execution_count": 46,
   "metadata": {},
   "outputs": [
    {
     "data": {
      "text/html": [
       "<div>\n",
       "<style scoped>\n",
       "    .dataframe tbody tr th:only-of-type {\n",
       "        vertical-align: middle;\n",
       "    }\n",
       "\n",
       "    .dataframe tbody tr th {\n",
       "        vertical-align: top;\n",
       "    }\n",
       "\n",
       "    .dataframe thead th {\n",
       "        text-align: right;\n",
       "    }\n",
       "</style>\n",
       "<table border=\"1\" class=\"dataframe\">\n",
       "  <thead>\n",
       "    <tr style=\"text-align: right;\">\n",
       "      <th></th>\n",
       "      <th>name</th>\n",
       "    </tr>\n",
       "    <tr>\n",
       "      <th>genre</th>\n",
       "      <th></th>\n",
       "    </tr>\n",
       "  </thead>\n",
       "  <tbody>\n",
       "    <tr>\n",
       "      <th>Action</th>\n",
       "      <td>1032</td>\n",
       "    </tr>\n",
       "    <tr>\n",
       "      <th>Role-Playing</th>\n",
       "      <td>370</td>\n",
       "    </tr>\n",
       "    <tr>\n",
       "      <th>Adventure</th>\n",
       "      <td>302</td>\n",
       "    </tr>\n",
       "    <tr>\n",
       "      <th>Sports</th>\n",
       "      <td>268</td>\n",
       "    </tr>\n",
       "    <tr>\n",
       "      <th>Shooter</th>\n",
       "      <td>235</td>\n",
       "    </tr>\n",
       "    <tr>\n",
       "      <th>Misc</th>\n",
       "      <td>192</td>\n",
       "    </tr>\n",
       "    <tr>\n",
       "      <th>Racing</th>\n",
       "      <td>115</td>\n",
       "    </tr>\n",
       "    <tr>\n",
       "      <th>Fighting</th>\n",
       "      <td>109</td>\n",
       "    </tr>\n",
       "    <tr>\n",
       "      <th>Platform</th>\n",
       "      <td>85</td>\n",
       "    </tr>\n",
       "    <tr>\n",
       "      <th>Simulation</th>\n",
       "      <td>80</td>\n",
       "    </tr>\n",
       "    <tr>\n",
       "      <th>Strategy</th>\n",
       "      <td>71</td>\n",
       "    </tr>\n",
       "    <tr>\n",
       "      <th>Puzzle</th>\n",
       "      <td>28</td>\n",
       "    </tr>\n",
       "  </tbody>\n",
       "</table>\n",
       "</div>"
      ],
      "text/plain": [
       "              name\n",
       "genre             \n",
       "Action        1032\n",
       "Role-Playing   370\n",
       "Adventure      302\n",
       "Sports         268\n",
       "Shooter        235\n",
       "Misc           192\n",
       "Racing         115\n",
       "Fighting       109\n",
       "Platform        85\n",
       "Simulation      80\n",
       "Strategy        71\n",
       "Puzzle          28"
      ]
     },
     "execution_count": 46,
     "metadata": {},
     "output_type": "execute_result"
    }
   ],
   "source": [
    "genre_num_of_games = games_data_filtered.pivot_table(index='genre', values='name', aggfunc='count')\n",
    "genre_num_of_games.sort_values('name',ascending=False)"
   ]
  },
  {
   "cell_type": "markdown",
   "metadata": {},
   "source": [
    "The most profitable genres have high number of games"
   ]
  },
  {
   "cell_type": "markdown",
   "metadata": {},
   "source": [
    "### Conclusion"
   ]
  },
  {
   "cell_type": "markdown",
   "metadata": {},
   "source": [
    "The most popular genres are:Action, Shooter, Role-Playing , Sports   \n",
    "The most profitable genres have high sales on the following platforms: PS3, PS4, X360,XOne,3DS which are the most popular platforms  \n",
    "The most profitable genres have high number of games and there sales are higher than the mean "
   ]
  },
  {
   "cell_type": "markdown",
   "metadata": {},
   "source": [
    "##  Create a user profile for each region"
   ]
  },
  {
   "cell_type": "markdown",
   "metadata": {},
   "source": [
    "###   top five platforms"
   ]
  },
  {
   "cell_type": "code",
   "execution_count": 47,
   "metadata": {},
   "outputs": [
    {
     "data": {
      "text/html": [
       "<div>\n",
       "<style scoped>\n",
       "    .dataframe tbody tr th:only-of-type {\n",
       "        vertical-align: middle;\n",
       "    }\n",
       "\n",
       "    .dataframe tbody tr th {\n",
       "        vertical-align: top;\n",
       "    }\n",
       "\n",
       "    .dataframe thead th {\n",
       "        text-align: right;\n",
       "    }\n",
       "</style>\n",
       "<table border=\"1\" class=\"dataframe\">\n",
       "  <thead>\n",
       "    <tr style=\"text-align: right;\">\n",
       "      <th>platform</th>\n",
       "      <th>3DS</th>\n",
       "      <th>DS</th>\n",
       "      <th>PC</th>\n",
       "      <th>PS3</th>\n",
       "      <th>PS4</th>\n",
       "      <th>PSP</th>\n",
       "      <th>PSV</th>\n",
       "      <th>Wii</th>\n",
       "      <th>WiiU</th>\n",
       "      <th>X360</th>\n",
       "      <th>XOne</th>\n",
       "    </tr>\n",
       "  </thead>\n",
       "  <tbody>\n",
       "    <tr>\n",
       "      <th>eu_sales</th>\n",
       "      <td>42.64</td>\n",
       "      <td>3.53</td>\n",
       "      <td>38.01</td>\n",
       "      <td>106.86</td>\n",
       "      <td>141.09</td>\n",
       "      <td>0.42</td>\n",
       "      <td>11.36</td>\n",
       "      <td>11.92</td>\n",
       "      <td>25.13</td>\n",
       "      <td>74.52</td>\n",
       "      <td>51.59</td>\n",
       "    </tr>\n",
       "    <tr>\n",
       "      <th>jp_sales</th>\n",
       "      <td>87.79</td>\n",
       "      <td>3.72</td>\n",
       "      <td>0.00</td>\n",
       "      <td>35.29</td>\n",
       "      <td>15.96</td>\n",
       "      <td>10.47</td>\n",
       "      <td>21.04</td>\n",
       "      <td>3.39</td>\n",
       "      <td>13.01</td>\n",
       "      <td>1.57</td>\n",
       "      <td>0.34</td>\n",
       "    </tr>\n",
       "    <tr>\n",
       "      <th>na_sales</th>\n",
       "      <td>55.31</td>\n",
       "      <td>4.59</td>\n",
       "      <td>19.18</td>\n",
       "      <td>103.38</td>\n",
       "      <td>108.74</td>\n",
       "      <td>0.13</td>\n",
       "      <td>10.98</td>\n",
       "      <td>17.45</td>\n",
       "      <td>38.10</td>\n",
       "      <td>140.05</td>\n",
       "      <td>93.12</td>\n",
       "    </tr>\n",
       "  </tbody>\n",
       "</table>\n",
       "</div>"
      ],
      "text/plain": [
       "platform    3DS    DS     PC     PS3     PS4    PSP    PSV    Wii   WiiU  \\\n",
       "eu_sales  42.64  3.53  38.01  106.86  141.09   0.42  11.36  11.92  25.13   \n",
       "jp_sales  87.79  3.72   0.00   35.29   15.96  10.47  21.04   3.39  13.01   \n",
       "na_sales  55.31  4.59  19.18  103.38  108.74   0.13  10.98  17.45  38.10   \n",
       "\n",
       "platform    X360   XOne  \n",
       "eu_sales   74.52  51.59  \n",
       "jp_sales    1.57   0.34  \n",
       "na_sales  140.05  93.12  "
      ]
     },
     "execution_count": 47,
     "metadata": {},
     "output_type": "execute_result"
    }
   ],
   "source": [
    "region_profile = games_data_filtered.pivot_table(index='platform', values=['na_sales','eu_sales','jp_sales'], aggfunc='sum')\n",
    "region_profile.T"
   ]
  },
  {
   "cell_type": "code",
   "execution_count": 48,
   "metadata": {},
   "outputs": [
    {
     "data": {
      "text/plain": [
       "Text(0.5, 0, 'Total sales')"
      ]
     },
     "execution_count": 48,
     "metadata": {},
     "output_type": "execute_result"
    },
    {
     "data": {
      "image/png": "[encoded data removed]",
      "text/plain": [
       "<Figure size 432x288 with 1 Axes>"
      ]
     },
     "metadata": {
      "needs_background": "light"
     },
     "output_type": "display_data"
    }
   ],
   "source": [
    "# plot a Stacked Bar Chart using matplotlib\n",
    "region_profile.T.plot(\n",
    "    kind = 'barh',\n",
    "    stacked = True,\n",
    "    title = 'Stacked Bar Graph',\n",
    "    mark_right = True);\n",
    "\n",
    "plt.xlabel('Total sales')"
   ]
  },
  {
   "cell_type": "markdown",
   "metadata": {},
   "source": [
    "### Conclusion"
   ]
  },
  {
   "cell_type": "markdown",
   "metadata": {},
   "source": [
    "Top 5 platform in eu: PS4, PS3, X360, XOne, 3DS  \n",
    "Top 5 platform in jp: 3DS,PS3,PSV,PS4, PSP  \n",
    "Top 5 platform in na:X360,PS4, PS3, XOne, 3DS  \n",
    "3DS is the most popular in Japan while its less popular in other regions\n",
    "XOne and X360 are popular in North america and europe but not popular in Japan \n",
    "platforms that are popular in all regions- 3DS,PS3,PS4"
   ]
  },
  {
   "cell_type": "markdown",
   "metadata": {},
   "source": [
    "###  The top five genres"
   ]
  },
  {
   "cell_type": "code",
   "execution_count": 49,
   "metadata": {},
   "outputs": [
    {
     "data": {
      "text/html": [
       "<div>\n",
       "<style scoped>\n",
       "    .dataframe tbody tr th:only-of-type {\n",
       "        vertical-align: middle;\n",
       "    }\n",
       "\n",
       "    .dataframe tbody tr th {\n",
       "        vertical-align: top;\n",
       "    }\n",
       "\n",
       "    .dataframe thead th {\n",
       "        text-align: right;\n",
       "    }\n",
       "</style>\n",
       "<table border=\"1\" class=\"dataframe\">\n",
       "  <thead>\n",
       "    <tr style=\"text-align: right;\">\n",
       "      <th>genre</th>\n",
       "      <th>Action</th>\n",
       "      <th>Adventure</th>\n",
       "      <th>Fighting</th>\n",
       "      <th>Misc</th>\n",
       "      <th>Platform</th>\n",
       "      <th>Puzzle</th>\n",
       "      <th>Racing</th>\n",
       "      <th>Role-Playing</th>\n",
       "      <th>Shooter</th>\n",
       "      <th>Simulation</th>\n",
       "      <th>Sports</th>\n",
       "      <th>Strategy</th>\n",
       "    </tr>\n",
       "  </thead>\n",
       "  <tbody>\n",
       "    <tr>\n",
       "      <th>eu_sales</th>\n",
       "      <td>159.59</td>\n",
       "      <td>9.46</td>\n",
       "      <td>10.79</td>\n",
       "      <td>26.32</td>\n",
       "      <td>21.41</td>\n",
       "      <td>1.40</td>\n",
       "      <td>27.29</td>\n",
       "      <td>48.53</td>\n",
       "      <td>113.47</td>\n",
       "      <td>14.55</td>\n",
       "      <td>69.09</td>\n",
       "      <td>5.17</td>\n",
       "    </tr>\n",
       "    <tr>\n",
       "      <th>jp_sales</th>\n",
       "      <td>52.80</td>\n",
       "      <td>8.24</td>\n",
       "      <td>9.44</td>\n",
       "      <td>12.86</td>\n",
       "      <td>8.63</td>\n",
       "      <td>2.14</td>\n",
       "      <td>2.50</td>\n",
       "      <td>65.44</td>\n",
       "      <td>9.23</td>\n",
       "      <td>10.41</td>\n",
       "      <td>8.01</td>\n",
       "      <td>2.88</td>\n",
       "    </tr>\n",
       "    <tr>\n",
       "      <th>na_sales</th>\n",
       "      <td>177.90</td>\n",
       "      <td>8.92</td>\n",
       "      <td>19.79</td>\n",
       "      <td>38.19</td>\n",
       "      <td>25.38</td>\n",
       "      <td>1.13</td>\n",
       "      <td>17.22</td>\n",
       "      <td>64.00</td>\n",
       "      <td>144.77</td>\n",
       "      <td>7.97</td>\n",
       "      <td>81.53</td>\n",
       "      <td>4.23</td>\n",
       "    </tr>\n",
       "  </tbody>\n",
       "</table>\n",
       "</div>"
      ],
      "text/plain": [
       "genre     Action  Adventure  Fighting   Misc  Platform  Puzzle  Racing  \\\n",
       "eu_sales  159.59       9.46     10.79  26.32     21.41    1.40   27.29   \n",
       "jp_sales   52.80       8.24      9.44  12.86      8.63    2.14    2.50   \n",
       "na_sales  177.90       8.92     19.79  38.19     25.38    1.13   17.22   \n",
       "\n",
       "genre     Role-Playing  Shooter  Simulation  Sports  Strategy  \n",
       "eu_sales         48.53   113.47       14.55   69.09      5.17  \n",
       "jp_sales         65.44     9.23       10.41    8.01      2.88  \n",
       "na_sales         64.00   144.77        7.97   81.53      4.23  "
      ]
     },
     "execution_count": 49,
     "metadata": {},
     "output_type": "execute_result"
    }
   ],
   "source": [
    "genre_profile = games_data_filtered.pivot_table(index='genre', values=['na_sales','eu_sales','jp_sales'], aggfunc='sum')\n",
    "genre_profile.T"
   ]
  },
  {
   "cell_type": "code",
   "execution_count": 50,
   "metadata": {},
   "outputs": [
    {
     "data": {
      "text/plain": [
       "Text(0.5, 0, 'Total sales')"
      ]
     },
     "execution_count": 50,
     "metadata": {},
     "output_type": "execute_result"
    },
    {
     "data": {
      "image/png": "[encoded data removed]",
      "text/plain": [
       "<Figure size 432x288 with 1 Axes>"
      ]
     },
     "metadata": {
      "needs_background": "light"
     },
     "output_type": "display_data"
    }
   ],
   "source": [
    "# plot a Stacked Bar Chart using matplotlib\n",
    "genre_profile.T.plot(\n",
    "  \n",
    "    kind = 'barh',\n",
    "    stacked = True,\n",
    "    title = 'Stacked Bar Graph',\n",
    "    mark_right = True);\n",
    "\n",
    "plt.xlabel('Total sales')"
   ]
  },
  {
   "cell_type": "markdown",
   "metadata": {},
   "source": [
    "#### Conclusion"
   ]
  },
  {
   "cell_type": "markdown",
   "metadata": {},
   "source": [
    "Top 5 geners in eu: Action, Sports, Shooter, Misc, Racing  \n",
    "Top 5 geners in jp: Role-Playing, Action, Misc, Sport, Fighting  \n",
    "Top 5 geners in na: Action, Sport, Shooter, Misc, Role-Playing  \n",
    "In North-Ameriva and europe the most popular ganere is Action while in Japan is Role-Playing. The change is due to cultural differences"
   ]
  },
  {
   "cell_type": "markdown",
   "metadata": {},
   "source": [
    "###  Do ESRB ratings affect sales in individual regions? "
   ]
  },
  {
   "cell_type": "code",
   "execution_count": 51,
   "metadata": {},
   "outputs": [
    {
     "data": {
      "text/html": [
       "<div>\n",
       "<style scoped>\n",
       "    .dataframe tbody tr th:only-of-type {\n",
       "        vertical-align: middle;\n",
       "    }\n",
       "\n",
       "    .dataframe tbody tr th {\n",
       "        vertical-align: top;\n",
       "    }\n",
       "\n",
       "    .dataframe thead th {\n",
       "        text-align: right;\n",
       "    }\n",
       "</style>\n",
       "<table border=\"1\" class=\"dataframe\">\n",
       "  <thead>\n",
       "    <tr style=\"text-align: right;\">\n",
       "      <th>rating</th>\n",
       "      <th>E</th>\n",
       "      <th>E10+</th>\n",
       "      <th>M</th>\n",
       "      <th>T</th>\n",
       "      <th>unknown</th>\n",
       "    </tr>\n",
       "  </thead>\n",
       "  <tbody>\n",
       "    <tr>\n",
       "      <th>eu_sales</th>\n",
       "      <td>113.03</td>\n",
       "      <td>55.37</td>\n",
       "      <td>194.21</td>\n",
       "      <td>52.96</td>\n",
       "      <td>91.50</td>\n",
       "    </tr>\n",
       "    <tr>\n",
       "      <th>jp_sales</th>\n",
       "      <td>28.33</td>\n",
       "      <td>8.19</td>\n",
       "      <td>21.20</td>\n",
       "      <td>26.02</td>\n",
       "      <td>108.84</td>\n",
       "    </tr>\n",
       "    <tr>\n",
       "      <th>na_sales</th>\n",
       "      <td>114.37</td>\n",
       "      <td>75.70</td>\n",
       "      <td>231.63</td>\n",
       "      <td>66.02</td>\n",
       "      <td>103.31</td>\n",
       "    </tr>\n",
       "  </tbody>\n",
       "</table>\n",
       "</div>"
      ],
      "text/plain": [
       "rating         E   E10+       M      T  unknown\n",
       "eu_sales  113.03  55.37  194.21  52.96    91.50\n",
       "jp_sales   28.33   8.19   21.20  26.02   108.84\n",
       "na_sales  114.37  75.70  231.63  66.02   103.31"
      ]
     },
     "execution_count": 51,
     "metadata": {},
     "output_type": "execute_result"
    }
   ],
   "source": [
    "ESRB_profile = games_data_filtered.pivot_table(index='rating', values=['na_sales','eu_sales','jp_sales'], aggfunc='sum')\n",
    "ESRB_profile.T"
   ]
  },
  {
   "cell_type": "code",
   "execution_count": 52,
   "metadata": {},
   "outputs": [
    {
     "data": {
      "text/plain": [
       "Text(0.5, 0, 'Total sales')"
      ]
     },
     "execution_count": 52,
     "metadata": {},
     "output_type": "execute_result"
    },
    {
     "data": {
      "image/png": "[encoded data removed]",
      "text/plain": [
       "<Figure size 432x288 with 1 Axes>"
      ]
     },
     "metadata": {
      "needs_background": "light"
     },
     "output_type": "display_data"
    }
   ],
   "source": [
    "# plot a Stacked Bar Chart using matplotlib\n",
    "ESRB_profile.T.plot(\n",
    "    kind = 'barh',\n",
    "    stacked = True,\n",
    "    title = 'Stacked Bar Graph',\n",
    "    mark_right = True);\n",
    "\n",
    "plt.xlabel('Total sales')"
   ]
  },
  {
   "cell_type": "markdown",
   "metadata": {},
   "source": [
    "#### Conclusion"
   ]
  },
  {
   "cell_type": "markdown",
   "metadata": {},
   "source": [
    "1. AO(Adults only) doesnt have sales in all regions\n",
    "2. Games without rating have a lot of sales in all regions\n",
    "3. rating does'nt affect sales"
   ]
  },
  {
   "cell_type": "markdown",
   "metadata": {},
   "source": [
    "##  Test  hypotheses"
   ]
  },
  {
   "cell_type": "markdown",
   "metadata": {},
   "source": [
    "###  Average user ratings of the Xbox One and PC platforms are the same."
   ]
  },
  {
   "cell_type": "markdown",
   "metadata": {},
   "source": [
    "1. null hypothesis H₀ - \"Average user ratings of the Xbox One and PC platforms are the same.\"\n",
    "2. alternative hypothesis H₁ - \"Average user ratings of the Xbox One and PC platforms are different.\""
   ]
  },
  {
   "cell_type": "code",
   "execution_count": 53,
   "metadata": {},
   "outputs": [],
   "source": [
    "Xbox_rating = games_data_filtered.query(\"platform == 'XB'\")['user_score']\n",
    "PC_rating = games_data_filtered.query(\"platform == 'PC'\")['user_score']\n"
   ]
  },
  {
   "cell_type": "code",
   "execution_count": 54,
   "metadata": {},
   "outputs": [
    {
     "name": "stdout",
     "output_type": "stream",
     "text": [
      "p-value: nan\n",
      "We can't reject the null hypothesis - Average user ratings of the Xbox One and PC platforms are the same.\n"
     ]
    }
   ],
   "source": [
    "#Check hypothesis\n",
    "hypothesis_results = st.ttest_ind(Xbox_rating, PC_rating,equal_var= False)\n",
    "alpha = 0.01\n",
    "\n",
    "print('p-value:',hypothesis_results.pvalue)\n",
    "if (hypothesis_results.pvalue < alpha):\n",
    "    print(\"We reject the null hypothesis H₀ - Average user ratings of the Xbox One and PC platforms are NOT the same. \")\n",
    "else:\n",
    "    print(\"We can't reject the null hypothesis - Average user ratings of the Xbox One and PC platforms are the same.\")"
   ]
  },
  {
   "cell_type": "markdown",
   "metadata": {},
   "source": [
    " I chose to use alpha = 0.01 because p-value is closer to 0.01 so i want to be more accurate"
   ]
  },
  {
   "cell_type": "markdown",
   "metadata": {},
   "source": [
    "###  Average user ratings for the Action and Sports genres are different."
   ]
  },
  {
   "cell_type": "markdown",
   "metadata": {},
   "source": [
    "1. null hypothesis H₀ - \"Average user ratings for the Action and Sports genres are the same.\"\n",
    "2. alternative hypothesis H₁ - \"Average user ratings for the Action and Sports genres are different.\""
   ]
  },
  {
   "cell_type": "code",
   "execution_count": 55,
   "metadata": {},
   "outputs": [],
   "source": [
    "action_rating = games_data_filtered.query(\"genre == 'Action'\")['user_score']\n",
    "sports_rating = games_data_filtered.query(\"genre == 'Sports'\")['user_score']"
   ]
  },
  {
   "cell_type": "code",
   "execution_count": 56,
   "metadata": {},
   "outputs": [
    {
     "name": "stdout",
     "output_type": "stream",
     "text": [
      "p-value: 3.1737369793982354e-25\n",
      "We reject the null hypothesis H₀ - Average user ratings for the Action and Sports genres are different same. \n"
     ]
    }
   ],
   "source": [
    "#Check hypothesis\n",
    "hypothesis_results = st.ttest_ind(action_rating, sports_rating,equal_var= False)\n",
    "alpha = 0.01\n",
    "\n",
    "print('p-value:',hypothesis_results.pvalue)\n",
    "if (hypothesis_results.pvalue < alpha):\n",
    "    print(\"We reject the null hypothesis H₀ - Average user ratings for the Action and Sports genres are different same. \")\n",
    "else:\n",
    "    print(\"We can't reject the null hypothesis - Average user ratings for the Action and Sports genres are the same.\")"
   ]
  },
  {
   "cell_type": "markdown",
   "metadata": {},
   "source": [
    "I chose to use alpha = 0.01 because p-value is closer to 0.01 so i want to be more accurate"
   ]
  },
  {
   "cell_type": "markdown",
   "metadata": {},
   "source": [
    "##  General conclusion "
   ]
  },
  {
   "cell_type": "markdown",
   "metadata": {},
   "source": [
    "1. It takes around 5 years for a patform to fade, because of that we worked only with data from 2012\n",
    "2. Since 2012 the platforms that are leading in sales are: PS4,PS3, X360, 3DS, Xone\n",
    "3. profitable platforms: PS4, PS3, X360, 3DS, XOne\n",
    "4. There is'nt correlation between user and professional reviews and sales\n",
    "5. The most popular genres are:Action, Shooter, Role-Playing , Sports\n",
    "6. The most profitable genres have high sales on the following platforms: PS3, PS4, X360,XOne,3DS which are the most          popular platforms\n",
    "7. The most profitable genres have high number of games and there sales are higher than the mean\n",
    "8. Top 5 geners in eu: Action, Sports, Shooter, Misc, Racing\n",
    "9. Top 5 geners in jp: Role-Playing, Action, Misc, Sport, Fighting\n",
    "10. Top 5 geners in na: Action, Sport, Shooter, Misc, Role-Playing\n",
    "11. In North-Ameriva and europe the most popular ganere is Action while in Japan is Role-Playing. The change is due to         cultural differences\n",
    "12. rating does'nt affect sales\n",
    "<br/>\n",
    "\n",
    "<b>\n",
    "\n",
    "A game will succeed if it is in the folowwing platforms:PS4,PS3, X360, 3DS, Xone.    \n",
    "and in the following genres Action, Shooter, Role-Playing , Sports.\n",
    "<br/>\n",
    "advertising campaigns should focus on those games.\n",
    " <b/>"
   ]
  },
  {
   "cell_type": "code",
   "execution_count": null,
   "metadata": {},
   "outputs": [],
   "source": []
  }
 ],
 "metadata": {
  "ExecuteTimeLog": [
   {
    "duration": 1512,
    "start_time": "2021-07-12T09:34:54.524Z"
   },
   {
    "duration": 87,
    "start_time": "2021-07-12T09:34:56.039Z"
   },
   {
    "duration": 49,
    "start_time": "2021-07-12T09:34:56.129Z"
   },
   {
    "duration": 30,
    "start_time": "2021-07-12T09:34:56.181Z"
   },
   {
    "duration": 14,
    "start_time": "2021-07-12T09:34:56.214Z"
   },
   {
    "duration": 11,
    "start_time": "2021-07-12T09:34:56.255Z"
   },
   {
    "duration": 22,
    "start_time": "2021-07-12T09:34:56.269Z"
   },
   {
    "duration": 3,
    "start_time": "2021-07-12T09:34:56.294Z"
   },
   {
    "duration": 53,
    "start_time": "2021-07-12T09:34:56.302Z"
   },
   {
    "duration": 11,
    "start_time": "2021-07-12T09:34:56.358Z"
   },
   {
    "duration": 18,
    "start_time": "2021-07-12T09:34:56.371Z"
   },
   {
    "duration": 24,
    "start_time": "2021-07-12T09:34:56.391Z"
   },
   {
    "duration": 40,
    "start_time": "2021-07-12T09:34:56.417Z"
   },
   {
    "duration": 9,
    "start_time": "2021-07-12T09:34:56.459Z"
   },
   {
    "duration": 15,
    "start_time": "2021-07-12T09:34:56.470Z"
   },
   {
    "duration": 20,
    "start_time": "2021-07-12T09:34:56.488Z"
   },
   {
    "duration": 6,
    "start_time": "2021-07-12T09:34:56.510Z"
   },
   {
    "duration": 13,
    "start_time": "2021-07-12T09:34:56.554Z"
   },
   {
    "duration": 37,
    "start_time": "2021-07-12T09:34:56.570Z"
   },
   {
    "duration": 664,
    "start_time": "2021-07-12T09:34:56.611Z"
   },
   {
    "duration": 35,
    "start_time": "2021-07-12T09:34:57.277Z"
   },
   {
    "duration": 588,
    "start_time": "2021-07-12T09:34:57.315Z"
   },
   {
    "duration": 27,
    "start_time": "2021-07-12T09:34:57.905Z"
   },
   {
    "duration": 20,
    "start_time": "2021-07-12T09:34:57.934Z"
   },
   {
    "duration": 404,
    "start_time": "2021-07-12T09:34:57.956Z"
   },
   {
    "duration": 437,
    "start_time": "2021-07-12T09:34:58.362Z"
   },
   {
    "duration": 420,
    "start_time": "2021-07-12T09:34:58.805Z"
   },
   {
    "duration": 494,
    "start_time": "2021-07-12T09:34:59.229Z"
   },
   {
    "duration": 417,
    "start_time": "2021-07-12T09:34:59.726Z"
   },
   {
    "duration": 412,
    "start_time": "2021-07-12T09:35:00.145Z"
   },
   {
    "duration": 657,
    "start_time": "2021-07-12T09:35:00.559Z"
   },
   {
    "duration": 49,
    "start_time": "2021-07-12T09:35:01.219Z"
   },
   {
    "duration": 21,
    "start_time": "2021-07-12T09:35:01.271Z"
   },
   {
    "duration": 452,
    "start_time": "2021-07-12T09:35:01.295Z"
   },
   {
    "duration": 56,
    "start_time": "2021-07-12T09:35:01.754Z"
   },
   {
    "duration": 746,
    "start_time": "2021-07-12T09:35:01.812Z"
   },
   {
    "duration": 15,
    "start_time": "2021-07-12T09:35:02.561Z"
   },
   {
    "duration": 226,
    "start_time": "2021-07-12T09:35:02.578Z"
   },
   {
    "duration": 13,
    "start_time": "2021-07-12T09:35:02.806Z"
   },
   {
    "duration": 15,
    "start_time": "2021-07-12T09:35:02.821Z"
   },
   {
    "duration": 4218,
    "start_time": "2021-07-12T09:35:02.838Z"
   },
   {
    "duration": 332,
    "start_time": "2021-07-12T09:35:07.059Z"
   },
   {
    "duration": 760,
    "start_time": "2021-07-12T09:35:07.393Z"
   },
   {
    "duration": 21,
    "start_time": "2021-07-12T09:35:08.155Z"
   },
   {
    "duration": 35,
    "start_time": "2021-07-12T09:35:08.178Z"
   },
   {
    "duration": 520,
    "start_time": "2021-07-12T09:35:08.215Z"
   },
   {
    "duration": 40,
    "start_time": "2021-07-12T09:35:08.738Z"
   },
   {
    "duration": 438,
    "start_time": "2021-07-12T09:35:08.781Z"
   },
   {
    "duration": 37,
    "start_time": "2021-07-12T09:35:09.221Z"
   },
   {
    "duration": 340,
    "start_time": "2021-07-12T09:35:09.260Z"
   },
   {
    "duration": 11,
    "start_time": "2021-07-12T09:35:09.603Z"
   },
   {
    "duration": 12,
    "start_time": "2021-07-12T09:35:09.617Z"
   },
   {
    "duration": 30,
    "start_time": "2021-07-12T09:35:09.632Z"
   },
   {
    "duration": 8,
    "start_time": "2021-07-12T09:35:09.664Z"
   },
   {
    "duration": 4,
    "start_time": "2021-07-12T09:39:18.019Z"
   },
   {
    "duration": 100,
    "start_time": "2021-07-12T09:39:18.026Z"
   },
   {
    "duration": 49,
    "start_time": "2021-07-12T09:39:18.129Z"
   },
   {
    "duration": 28,
    "start_time": "2021-07-12T09:39:18.181Z"
   },
   {
    "duration": 44,
    "start_time": "2021-07-12T09:39:18.212Z"
   },
   {
    "duration": 14,
    "start_time": "2021-07-12T09:39:18.258Z"
   },
   {
    "duration": 42,
    "start_time": "2021-07-12T09:39:18.274Z"
   },
   {
    "duration": 14,
    "start_time": "2021-07-12T09:39:18.320Z"
   },
   {
    "duration": 44,
    "start_time": "2021-07-12T09:39:18.337Z"
   },
   {
    "duration": 27,
    "start_time": "2021-07-12T09:39:18.384Z"
   },
   {
    "duration": 35,
    "start_time": "2021-07-12T09:39:18.413Z"
   },
   {
    "duration": 30,
    "start_time": "2021-07-12T09:39:18.451Z"
   },
   {
    "duration": 26,
    "start_time": "2021-07-12T09:39:18.483Z"
   },
   {
    "duration": 28,
    "start_time": "2021-07-12T09:39:18.512Z"
   },
   {
    "duration": 40,
    "start_time": "2021-07-12T09:39:18.543Z"
   },
   {
    "duration": 46,
    "start_time": "2021-07-12T09:39:18.585Z"
   },
   {
    "duration": 33,
    "start_time": "2021-07-12T09:39:18.634Z"
   },
   {
    "duration": 29,
    "start_time": "2021-07-12T09:39:18.670Z"
   },
   {
    "duration": 50,
    "start_time": "2021-07-12T09:39:18.702Z"
   },
   {
    "duration": 625,
    "start_time": "2021-07-12T09:39:18.755Z"
   },
   {
    "duration": 44,
    "start_time": "2021-07-12T09:39:19.382Z"
   },
   {
    "duration": 647,
    "start_time": "2021-07-12T09:39:19.430Z"
   },
   {
    "duration": 23,
    "start_time": "2021-07-12T09:39:20.082Z"
   },
   {
    "duration": 36,
    "start_time": "2021-07-12T09:39:20.108Z"
   },
   {
    "duration": 517,
    "start_time": "2021-07-12T09:39:20.146Z"
   },
   {
    "duration": 433,
    "start_time": "2021-07-12T09:39:20.665Z"
   },
   {
    "duration": 414,
    "start_time": "2021-07-12T09:39:21.100Z"
   },
   {
    "duration": 423,
    "start_time": "2021-07-12T09:39:21.516Z"
   },
   {
    "duration": 397,
    "start_time": "2021-07-12T09:39:21.942Z"
   },
   {
    "duration": 405,
    "start_time": "2021-07-12T09:39:22.342Z"
   },
   {
    "duration": 636,
    "start_time": "2021-07-12T09:39:22.753Z"
   },
   {
    "duration": 31,
    "start_time": "2021-07-12T09:39:23.391Z"
   },
   {
    "duration": 38,
    "start_time": "2021-07-12T09:39:23.425Z"
   },
   {
    "duration": 435,
    "start_time": "2021-07-12T09:39:23.466Z"
   },
   {
    "duration": 71,
    "start_time": "2021-07-12T09:39:23.904Z"
   },
   {
    "duration": 782,
    "start_time": "2021-07-12T09:39:23.977Z"
   },
   {
    "duration": 13,
    "start_time": "2021-07-12T09:39:24.762Z"
   },
   {
    "duration": 221,
    "start_time": "2021-07-12T09:39:24.777Z"
   },
   {
    "duration": 12,
    "start_time": "2021-07-12T09:39:25.000Z"
   },
   {
    "duration": 31,
    "start_time": "2021-07-12T09:39:25.014Z"
   },
   {
    "duration": 4279,
    "start_time": "2021-07-12T09:39:25.048Z"
   },
   {
    "duration": 351,
    "start_time": "2021-07-12T09:39:29.330Z"
   },
   {
    "duration": 758,
    "start_time": "2021-07-12T09:39:29.683Z"
   },
   {
    "duration": 26,
    "start_time": "2021-07-12T09:39:30.443Z"
   },
   {
    "duration": 37,
    "start_time": "2021-07-12T09:39:30.471Z"
   },
   {
    "duration": 521,
    "start_time": "2021-07-12T09:39:30.510Z"
   },
   {
    "duration": 44,
    "start_time": "2021-07-12T09:39:31.033Z"
   },
   {
    "duration": 408,
    "start_time": "2021-07-12T09:39:31.079Z"
   },
   {
    "duration": 26,
    "start_time": "2021-07-12T09:39:31.489Z"
   },
   {
    "duration": 341,
    "start_time": "2021-07-12T09:39:31.518Z"
   },
   {
    "duration": 12,
    "start_time": "2021-07-12T09:39:31.861Z"
   },
   {
    "duration": 8,
    "start_time": "2021-07-12T09:39:31.876Z"
   },
   {
    "duration": 16,
    "start_time": "2021-07-12T09:39:31.886Z"
   },
   {
    "duration": 7,
    "start_time": "2021-07-12T09:39:31.904Z"
   },
   {
    "duration": 4,
    "start_time": "2021-07-12T09:40:17.277Z"
   },
   {
    "duration": 100,
    "start_time": "2021-07-12T09:40:17.285Z"
   },
   {
    "duration": 47,
    "start_time": "2021-07-12T09:40:17.388Z"
   },
   {
    "duration": 28,
    "start_time": "2021-07-12T09:40:17.438Z"
   },
   {
    "duration": 28,
    "start_time": "2021-07-12T09:40:17.468Z"
   },
   {
    "duration": 22,
    "start_time": "2021-07-12T09:40:17.499Z"
   },
   {
    "duration": 29,
    "start_time": "2021-07-12T09:40:17.524Z"
   },
   {
    "duration": 11,
    "start_time": "2021-07-12T09:40:17.557Z"
   },
   {
    "duration": 43,
    "start_time": "2021-07-12T09:40:17.571Z"
   },
   {
    "duration": 28,
    "start_time": "2021-07-12T09:40:17.617Z"
   },
   {
    "duration": 123,
    "start_time": "2021-07-12T09:40:17.648Z"
   },
   {
    "duration": 37,
    "start_time": "2021-07-12T09:40:17.774Z"
   },
   {
    "duration": 20,
    "start_time": "2021-07-12T09:40:17.814Z"
   },
   {
    "duration": 24,
    "start_time": "2021-07-12T09:40:17.837Z"
   },
   {
    "duration": 36,
    "start_time": "2021-07-12T09:40:17.863Z"
   },
   {
    "duration": 54,
    "start_time": "2021-07-12T09:40:17.902Z"
   },
   {
    "duration": 8,
    "start_time": "2021-07-12T09:40:17.959Z"
   },
   {
    "duration": 32,
    "start_time": "2021-07-12T09:40:17.970Z"
   },
   {
    "duration": 51,
    "start_time": "2021-07-12T09:40:18.004Z"
   },
   {
    "duration": 632,
    "start_time": "2021-07-12T09:40:18.058Z"
   },
   {
    "duration": 34,
    "start_time": "2021-07-12T09:40:18.693Z"
   },
   {
    "duration": 593,
    "start_time": "2021-07-12T09:40:18.729Z"
   },
   {
    "duration": 31,
    "start_time": "2021-07-12T09:40:19.327Z"
   },
   {
    "duration": 10,
    "start_time": "2021-07-12T09:40:19.361Z"
   },
   {
    "duration": 426,
    "start_time": "2021-07-12T09:40:19.373Z"
   },
   {
    "duration": 435,
    "start_time": "2021-07-12T09:40:19.802Z"
   },
   {
    "duration": 426,
    "start_time": "2021-07-12T09:40:20.240Z"
   },
   {
    "duration": 420,
    "start_time": "2021-07-12T09:40:20.669Z"
   },
   {
    "duration": 423,
    "start_time": "2021-07-12T09:40:21.092Z"
   },
   {
    "duration": 409,
    "start_time": "2021-07-12T09:40:21.517Z"
   },
   {
    "duration": 729,
    "start_time": "2021-07-12T09:40:21.929Z"
   },
   {
    "duration": 35,
    "start_time": "2021-07-12T09:40:22.660Z"
   },
   {
    "duration": 20,
    "start_time": "2021-07-12T09:40:22.698Z"
   },
   {
    "duration": 462,
    "start_time": "2021-07-12T09:40:22.720Z"
   },
   {
    "duration": 70,
    "start_time": "2021-07-12T09:40:23.184Z"
   },
   {
    "duration": 714,
    "start_time": "2021-07-12T09:40:23.257Z"
   },
   {
    "duration": 14,
    "start_time": "2021-07-12T09:40:23.973Z"
   },
   {
    "duration": 234,
    "start_time": "2021-07-12T09:40:23.989Z"
   },
   {
    "duration": 29,
    "start_time": "2021-07-12T09:40:24.226Z"
   },
   {
    "duration": 7,
    "start_time": "2021-07-12T09:40:24.258Z"
   },
   {
    "duration": 4191,
    "start_time": "2021-07-12T09:40:24.267Z"
   },
   {
    "duration": 340,
    "start_time": "2021-07-12T09:40:28.460Z"
   },
   {
    "duration": 734,
    "start_time": "2021-07-12T09:40:28.802Z"
   },
   {
    "duration": 30,
    "start_time": "2021-07-12T09:40:29.538Z"
   },
   {
    "duration": 43,
    "start_time": "2021-07-12T09:40:29.571Z"
   },
   {
    "duration": 626,
    "start_time": "2021-07-12T09:40:29.617Z"
   },
   {
    "duration": 36,
    "start_time": "2021-07-12T09:40:30.245Z"
   },
   {
    "duration": 433,
    "start_time": "2021-07-12T09:40:30.284Z"
   },
   {
    "duration": 37,
    "start_time": "2021-07-12T09:40:30.720Z"
   },
   {
    "duration": 353,
    "start_time": "2021-07-12T09:40:30.759Z"
   },
   {
    "duration": 12,
    "start_time": "2021-07-12T09:40:31.114Z"
   },
   {
    "duration": 29,
    "start_time": "2021-07-12T09:40:31.129Z"
   },
   {
    "duration": 28,
    "start_time": "2021-07-12T09:40:31.161Z"
   },
   {
    "duration": 35,
    "start_time": "2021-07-12T09:40:31.192Z"
   },
   {
    "duration": 5,
    "start_time": "2021-07-12T09:42:35.607Z"
   },
   {
    "duration": 94,
    "start_time": "2021-07-12T09:42:35.615Z"
   },
   {
    "duration": 47,
    "start_time": "2021-07-12T09:42:35.713Z"
   },
   {
    "duration": 29,
    "start_time": "2021-07-12T09:42:35.763Z"
   },
   {
    "duration": 22,
    "start_time": "2021-07-12T09:42:35.795Z"
   },
   {
    "duration": 38,
    "start_time": "2021-07-12T09:42:35.820Z"
   },
   {
    "duration": 26,
    "start_time": "2021-07-12T09:42:35.861Z"
   },
   {
    "duration": 7,
    "start_time": "2021-07-12T09:42:35.890Z"
   },
   {
    "duration": 53,
    "start_time": "2021-07-12T09:42:35.903Z"
   },
   {
    "duration": 19,
    "start_time": "2021-07-12T09:42:35.961Z"
   },
   {
    "duration": 24,
    "start_time": "2021-07-12T09:42:35.982Z"
   },
   {
    "duration": 46,
    "start_time": "2021-07-12T09:42:36.008Z"
   },
   {
    "duration": 11,
    "start_time": "2021-07-12T09:42:36.057Z"
   },
   {
    "duration": 24,
    "start_time": "2021-07-12T09:42:36.071Z"
   },
   {
    "duration": 29,
    "start_time": "2021-07-12T09:42:36.097Z"
   },
   {
    "duration": 28,
    "start_time": "2021-07-12T09:42:36.129Z"
   },
   {
    "duration": 11,
    "start_time": "2021-07-12T09:42:36.160Z"
   },
   {
    "duration": 31,
    "start_time": "2021-07-12T09:42:36.173Z"
   },
   {
    "duration": 50,
    "start_time": "2021-07-12T09:42:36.206Z"
   },
   {
    "duration": 639,
    "start_time": "2021-07-12T09:42:36.258Z"
   },
   {
    "duration": 34,
    "start_time": "2021-07-12T09:42:36.900Z"
   },
   {
    "duration": 573,
    "start_time": "2021-07-12T09:42:36.954Z"
   },
   {
    "duration": 31,
    "start_time": "2021-07-12T09:42:37.530Z"
   },
   {
    "duration": 416,
    "start_time": "2021-07-12T09:42:37.563Z"
   },
   {
    "duration": 445,
    "start_time": "2021-07-12T09:42:37.981Z"
   },
   {
    "duration": 423,
    "start_time": "2021-07-12T09:42:38.428Z"
   },
   {
    "duration": 552,
    "start_time": "2021-07-12T09:42:38.858Z"
   },
   {
    "duration": 489,
    "start_time": "2021-07-12T09:42:39.415Z"
   },
   {
    "duration": 414,
    "start_time": "2021-07-12T09:42:39.906Z"
   },
   {
    "duration": 638,
    "start_time": "2021-07-12T09:42:40.322Z"
   },
   {
    "duration": 36,
    "start_time": "2021-07-12T09:42:40.964Z"
   },
   {
    "duration": 21,
    "start_time": "2021-07-12T09:42:41.002Z"
   },
   {
    "duration": 464,
    "start_time": "2021-07-12T09:42:41.025Z"
   },
   {
    "duration": 72,
    "start_time": "2021-07-12T09:42:41.491Z"
   },
   {
    "duration": 724,
    "start_time": "2021-07-12T09:42:41.565Z"
   },
   {
    "duration": 14,
    "start_time": "2021-07-12T09:42:42.292Z"
   },
   {
    "duration": 226,
    "start_time": "2021-07-12T09:42:42.309Z"
   },
   {
    "duration": 18,
    "start_time": "2021-07-12T09:42:42.538Z"
   },
   {
    "duration": 11,
    "start_time": "2021-07-12T09:42:42.558Z"
   },
   {
    "duration": 4275,
    "start_time": "2021-07-12T09:42:42.571Z"
   },
   {
    "duration": 348,
    "start_time": "2021-07-12T09:42:46.849Z"
   },
   {
    "duration": 728,
    "start_time": "2021-07-12T09:42:47.199Z"
   },
   {
    "duration": 37,
    "start_time": "2021-07-12T09:42:47.929Z"
   },
   {
    "duration": 35,
    "start_time": "2021-07-12T09:42:47.968Z"
   },
   {
    "duration": 521,
    "start_time": "2021-07-12T09:42:48.005Z"
   },
   {
    "duration": 47,
    "start_time": "2021-07-12T09:42:48.529Z"
   },
   {
    "duration": 422,
    "start_time": "2021-07-12T09:42:48.579Z"
   },
   {
    "duration": 25,
    "start_time": "2021-07-12T09:42:49.003Z"
   },
   {
    "duration": 349,
    "start_time": "2021-07-12T09:42:49.031Z"
   },
   {
    "duration": 13,
    "start_time": "2021-07-12T09:42:49.382Z"
   },
   {
    "duration": 6,
    "start_time": "2021-07-12T09:42:49.398Z"
   },
   {
    "duration": 16,
    "start_time": "2021-07-12T09:42:49.407Z"
   },
   {
    "duration": 37,
    "start_time": "2021-07-12T09:42:49.426Z"
   },
   {
    "duration": 1468,
    "start_time": "2021-07-12T21:25:22.534Z"
   },
   {
    "duration": 101,
    "start_time": "2021-07-12T21:25:24.005Z"
   },
   {
    "duration": 47,
    "start_time": "2021-07-12T21:25:24.109Z"
   },
   {
    "duration": 32,
    "start_time": "2021-07-12T21:25:24.159Z"
   },
   {
    "duration": 27,
    "start_time": "2021-07-12T21:25:24.194Z"
   },
   {
    "duration": 12,
    "start_time": "2021-07-12T21:25:24.223Z"
   },
   {
    "duration": 23,
    "start_time": "2021-07-12T21:25:24.238Z"
   },
   {
    "duration": 4,
    "start_time": "2021-07-12T21:25:24.265Z"
   },
   {
    "duration": 21,
    "start_time": "2021-07-12T21:25:24.309Z"
   },
   {
    "duration": 9,
    "start_time": "2021-07-12T21:25:24.333Z"
   },
   {
    "duration": 19,
    "start_time": "2021-07-12T21:25:24.345Z"
   },
   {
    "duration": 59,
    "start_time": "2021-07-12T21:25:24.367Z"
   },
   {
    "duration": 11,
    "start_time": "2021-07-12T21:25:24.428Z"
   },
   {
    "duration": 12,
    "start_time": "2021-07-12T21:25:24.441Z"
   },
   {
    "duration": 13,
    "start_time": "2021-07-12T21:25:24.455Z"
   },
   {
    "duration": 49,
    "start_time": "2021-07-12T21:25:24.470Z"
   },
   {
    "duration": 6,
    "start_time": "2021-07-12T21:25:24.522Z"
   },
   {
    "duration": 16,
    "start_time": "2021-07-12T21:25:24.530Z"
   },
   {
    "duration": 66,
    "start_time": "2021-07-12T21:25:24.548Z"
   },
   {
    "duration": 651,
    "start_time": "2021-07-12T21:25:24.617Z"
   },
   {
    "duration": 48,
    "start_time": "2021-07-12T21:25:25.270Z"
   },
   {
    "duration": 592,
    "start_time": "2021-07-12T21:25:25.320Z"
   },
   {
    "duration": 29,
    "start_time": "2021-07-12T21:25:25.917Z"
   },
   {
    "duration": 428,
    "start_time": "2021-07-12T21:25:25.949Z"
   },
   {
    "duration": 543,
    "start_time": "2021-07-12T21:25:26.381Z"
   },
   {
    "duration": 434,
    "start_time": "2021-07-12T21:25:26.928Z"
   },
   {
    "duration": 525,
    "start_time": "2021-07-12T21:25:27.366Z"
   },
   {
    "duration": 420,
    "start_time": "2021-07-12T21:25:27.893Z"
   },
   {
    "duration": 418,
    "start_time": "2021-07-12T21:25:28.315Z"
   },
   {
    "duration": 747,
    "start_time": "2021-07-12T21:25:28.736Z"
   },
   {
    "duration": 46,
    "start_time": "2021-07-12T21:25:29.486Z"
   },
   {
    "duration": 22,
    "start_time": "2021-07-12T21:25:29.535Z"
   },
   {
    "duration": 459,
    "start_time": "2021-07-12T21:25:29.561Z"
   },
   {
    "duration": 57,
    "start_time": "2021-07-12T21:25:30.023Z"
   },
   {
    "duration": 770,
    "start_time": "2021-07-12T21:25:30.082Z"
   },
   {
    "duration": 14,
    "start_time": "2021-07-12T21:25:30.854Z"
   },
   {
    "duration": 228,
    "start_time": "2021-07-12T21:25:30.871Z"
   },
   {
    "duration": 13,
    "start_time": "2021-07-12T21:25:31.101Z"
   },
   {
    "duration": 21,
    "start_time": "2021-07-12T21:25:31.117Z"
   },
   {
    "duration": 4484,
    "start_time": "2021-07-12T21:25:31.140Z"
   },
   {
    "duration": 347,
    "start_time": "2021-07-12T21:25:35.627Z"
   },
   {
    "duration": 750,
    "start_time": "2021-07-12T21:25:35.976Z"
   },
   {
    "duration": 20,
    "start_time": "2021-07-12T21:25:36.729Z"
   },
   {
    "duration": 59,
    "start_time": "2021-07-12T21:25:36.751Z"
   },
   {
    "duration": 512,
    "start_time": "2021-07-12T21:25:36.812Z"
   },
   {
    "duration": 30,
    "start_time": "2021-07-12T21:25:37.326Z"
   },
   {
    "duration": 443,
    "start_time": "2021-07-12T21:25:37.359Z"
   },
   {
    "duration": 27,
    "start_time": "2021-07-12T21:25:37.804Z"
   },
   {
    "duration": 357,
    "start_time": "2021-07-12T21:25:37.833Z"
   },
   {
    "duration": 21,
    "start_time": "2021-07-12T21:25:38.193Z"
   },
   {
    "duration": 8,
    "start_time": "2021-07-12T21:25:38.217Z"
   },
   {
    "duration": 17,
    "start_time": "2021-07-12T21:25:38.227Z"
   },
   {
    "duration": 6,
    "start_time": "2021-07-12T21:25:38.246Z"
   },
   {
    "duration": 1526,
    "start_time": "2021-07-12T21:25:47.584Z"
   },
   {
    "duration": 3,
    "start_time": "2021-07-12T21:25:49.113Z"
   },
   {
    "duration": 53,
    "start_time": "2021-07-12T21:25:49.119Z"
   },
   {
    "duration": 43,
    "start_time": "2021-07-12T21:25:49.175Z"
   },
   {
    "duration": 15,
    "start_time": "2021-07-12T21:25:49.220Z"
   },
   {
    "duration": 12,
    "start_time": "2021-07-12T21:25:49.237Z"
   },
   {
    "duration": 58,
    "start_time": "2021-07-12T21:25:49.252Z"
   },
   {
    "duration": 4,
    "start_time": "2021-07-12T21:25:49.314Z"
   },
   {
    "duration": 31,
    "start_time": "2021-07-12T21:25:49.321Z"
   },
   {
    "duration": 10,
    "start_time": "2021-07-12T21:25:49.355Z"
   },
   {
    "duration": 42,
    "start_time": "2021-07-12T21:25:49.368Z"
   },
   {
    "duration": 24,
    "start_time": "2021-07-12T21:25:49.412Z"
   },
   {
    "duration": 11,
    "start_time": "2021-07-12T21:25:49.439Z"
   },
   {
    "duration": 8,
    "start_time": "2021-07-12T21:25:49.452Z"
   },
   {
    "duration": 13,
    "start_time": "2021-07-12T21:25:49.462Z"
   },
   {
    "duration": 53,
    "start_time": "2021-07-12T21:25:49.477Z"
   },
   {
    "duration": 7,
    "start_time": "2021-07-12T21:25:49.532Z"
   },
   {
    "duration": 15,
    "start_time": "2021-07-12T21:25:49.541Z"
   },
   {
    "duration": 72,
    "start_time": "2021-07-12T21:25:49.559Z"
   },
   {
    "duration": 656,
    "start_time": "2021-07-12T21:25:49.633Z"
   },
   {
    "duration": 44,
    "start_time": "2021-07-12T21:25:50.292Z"
   },
   {
    "duration": 600,
    "start_time": "2021-07-12T21:25:50.338Z"
   },
   {
    "duration": 34,
    "start_time": "2021-07-12T21:25:50.944Z"
   },
   {
    "duration": 445,
    "start_time": "2021-07-12T21:25:50.981Z"
   },
   {
    "duration": 450,
    "start_time": "2021-07-12T21:25:51.428Z"
   },
   {
    "duration": 451,
    "start_time": "2021-07-12T21:25:51.881Z"
   },
   {
    "duration": 520,
    "start_time": "2021-07-12T21:25:52.335Z"
   },
   {
    "duration": 428,
    "start_time": "2021-07-12T21:25:52.857Z"
   },
   {
    "duration": 433,
    "start_time": "2021-07-12T21:25:53.288Z"
   },
   {
    "duration": 658,
    "start_time": "2021-07-12T21:25:53.724Z"
   },
   {
    "duration": 53,
    "start_time": "2021-07-12T21:25:54.385Z"
   },
   {
    "duration": 24,
    "start_time": "2021-07-12T21:25:54.440Z"
   },
   {
    "duration": 468,
    "start_time": "2021-07-12T21:25:54.466Z"
   },
   {
    "duration": 56,
    "start_time": "2021-07-12T21:25:54.936Z"
   },
   {
    "duration": 735,
    "start_time": "2021-07-12T21:25:55.008Z"
   },
   {
    "duration": 14,
    "start_time": "2021-07-12T21:25:55.746Z"
   },
   {
    "duration": 225,
    "start_time": "2021-07-12T21:25:55.763Z"
   },
   {
    "duration": 24,
    "start_time": "2021-07-12T21:25:55.991Z"
   },
   {
    "duration": 7,
    "start_time": "2021-07-12T21:25:56.017Z"
   },
   {
    "duration": 4310,
    "start_time": "2021-07-12T21:25:56.027Z"
   },
   {
    "duration": 348,
    "start_time": "2021-07-12T21:26:00.340Z"
   },
   {
    "duration": 721,
    "start_time": "2021-07-12T21:26:00.691Z"
   },
   {
    "duration": 21,
    "start_time": "2021-07-12T21:26:01.415Z"
   },
   {
    "duration": 42,
    "start_time": "2021-07-12T21:26:01.439Z"
   },
   {
    "duration": 552,
    "start_time": "2021-07-12T21:26:01.483Z"
   },
   {
    "duration": 31,
    "start_time": "2021-07-12T21:26:02.037Z"
   },
   {
    "duration": 461,
    "start_time": "2021-07-12T21:26:02.070Z"
   },
   {
    "duration": 26,
    "start_time": "2021-07-12T21:26:02.533Z"
   },
   {
    "duration": 354,
    "start_time": "2021-07-12T21:26:02.561Z"
   },
   {
    "duration": 11,
    "start_time": "2021-07-12T21:26:02.918Z"
   },
   {
    "duration": 15,
    "start_time": "2021-07-12T21:26:02.932Z"
   },
   {
    "duration": 21,
    "start_time": "2021-07-12T21:26:02.949Z"
   },
   {
    "duration": 8,
    "start_time": "2021-07-12T21:26:02.972Z"
   },
   {
    "duration": 374,
    "start_time": "2021-07-13T07:52:40.964Z"
   },
   {
    "duration": 1527,
    "start_time": "2021-07-13T07:52:55.244Z"
   },
   {
    "duration": 3,
    "start_time": "2021-07-13T07:52:56.773Z"
   },
   {
    "duration": 49,
    "start_time": "2021-07-13T07:52:56.779Z"
   },
   {
    "duration": 37,
    "start_time": "2021-07-13T07:52:56.830Z"
   },
   {
    "duration": 14,
    "start_time": "2021-07-13T07:52:56.869Z"
   },
   {
    "duration": 4,
    "start_time": "2021-07-13T07:53:01.423Z"
   },
   {
    "duration": 18,
    "start_time": "2021-07-13T07:53:01.430Z"
   },
   {
    "duration": 54,
    "start_time": "2021-07-13T07:53:01.451Z"
   },
   {
    "duration": 54,
    "start_time": "2021-07-13T07:53:01.508Z"
   },
   {
    "duration": 28,
    "start_time": "2021-07-13T07:53:01.565Z"
   },
   {
    "duration": 19,
    "start_time": "2021-07-13T07:53:01.596Z"
   },
   {
    "duration": 454,
    "start_time": "2021-07-13T07:53:01.620Z"
   },
   {
    "duration": -763,
    "start_time": "2021-07-13T07:53:02.844Z"
   },
   {
    "duration": -800,
    "start_time": "2021-07-13T07:53:02.883Z"
   },
   {
    "duration": -801,
    "start_time": "2021-07-13T07:53:02.886Z"
   },
   {
    "duration": -902,
    "start_time": "2021-07-13T07:53:02.989Z"
   },
   {
    "duration": -903,
    "start_time": "2021-07-13T07:53:02.992Z"
   },
   {
    "duration": -905,
    "start_time": "2021-07-13T07:53:02.996Z"
   },
   {
    "duration": -947,
    "start_time": "2021-07-13T07:53:03.040Z"
   },
   {
    "duration": -949,
    "start_time": "2021-07-13T07:53:03.044Z"
   },
   {
    "duration": -951,
    "start_time": "2021-07-13T07:53:03.047Z"
   },
   {
    "duration": -952,
    "start_time": "2021-07-13T07:53:03.050Z"
   },
   {
    "duration": -954,
    "start_time": "2021-07-13T07:53:03.054Z"
   },
   {
    "duration": -956,
    "start_time": "2021-07-13T07:53:03.058Z"
   },
   {
    "duration": -959,
    "start_time": "2021-07-13T07:53:03.063Z"
   },
   {
    "duration": -962,
    "start_time": "2021-07-13T07:53:03.068Z"
   },
   {
    "duration": -1024,
    "start_time": "2021-07-13T07:53:03.132Z"
   },
   {
    "duration": -1061,
    "start_time": "2021-07-13T07:53:03.171Z"
   },
   {
    "duration": -1062,
    "start_time": "2021-07-13T07:53:03.174Z"
   },
   {
    "duration": -1062,
    "start_time": "2021-07-13T07:53:03.176Z"
   },
   {
    "duration": -1064,
    "start_time": "2021-07-13T07:53:03.179Z"
   },
   {
    "duration": -1066,
    "start_time": "2021-07-13T07:53:03.183Z"
   },
   {
    "duration": -1024,
    "start_time": "2021-07-13T07:53:03.187Z"
   },
   {
    "duration": -1026,
    "start_time": "2021-07-13T07:53:03.191Z"
   },
   {
    "duration": -1027,
    "start_time": "2021-07-13T07:53:03.194Z"
   },
   {
    "duration": -1029,
    "start_time": "2021-07-13T07:53:03.198Z"
   },
   {
    "duration": -1030,
    "start_time": "2021-07-13T07:53:03.201Z"
   },
   {
    "duration": -1031,
    "start_time": "2021-07-13T07:53:03.204Z"
   },
   {
    "duration": -1032,
    "start_time": "2021-07-13T07:53:03.207Z"
   },
   {
    "duration": -1129,
    "start_time": "2021-07-13T07:53:03.306Z"
   },
   {
    "duration": -1202,
    "start_time": "2021-07-13T07:53:03.381Z"
   },
   {
    "duration": -1220,
    "start_time": "2021-07-13T07:53:03.400Z"
   },
   {
    "duration": -1221,
    "start_time": "2021-07-13T07:53:03.403Z"
   },
   {
    "duration": -1222,
    "start_time": "2021-07-13T07:53:03.406Z"
   },
   {
    "duration": -1223,
    "start_time": "2021-07-13T07:53:03.409Z"
   },
   {
    "duration": -1224,
    "start_time": "2021-07-13T07:53:03.412Z"
   },
   {
    "duration": -1224,
    "start_time": "2021-07-13T07:53:03.414Z"
   },
   {
    "duration": -1226,
    "start_time": "2021-07-13T07:53:03.418Z"
   },
   {
    "duration": -1228,
    "start_time": "2021-07-13T07:53:03.422Z"
   },
   {
    "duration": -1230,
    "start_time": "2021-07-13T07:53:03.426Z"
   },
   {
    "duration": -1230,
    "start_time": "2021-07-13T07:53:03.428Z"
   },
   {
    "duration": -1231,
    "start_time": "2021-07-13T07:53:03.431Z"
   },
   {
    "duration": -1181,
    "start_time": "2021-07-13T07:53:03.443Z"
   },
   {
    "duration": -1183,
    "start_time": "2021-07-13T07:53:03.447Z"
   },
   {
    "duration": -1185,
    "start_time": "2021-07-13T07:53:03.451Z"
   },
   {
    "duration": -1187,
    "start_time": "2021-07-13T07:53:03.455Z"
   },
   {
    "duration": -1188,
    "start_time": "2021-07-13T07:53:03.458Z"
   },
   {
    "duration": -1190,
    "start_time": "2021-07-13T07:53:03.462Z"
   },
   {
    "duration": -1190,
    "start_time": "2021-07-13T07:53:03.464Z"
   },
   {
    "duration": 35,
    "start_time": "2021-07-13T07:53:51.760Z"
   },
   {
    "duration": 5,
    "start_time": "2021-07-13T07:53:55.305Z"
   },
   {
    "duration": 16,
    "start_time": "2021-07-13T07:53:55.317Z"
   },
   {
    "duration": 75,
    "start_time": "2021-07-13T07:53:55.336Z"
   },
   {
    "duration": 30,
    "start_time": "2021-07-13T07:53:55.414Z"
   },
   {
    "duration": 28,
    "start_time": "2021-07-13T07:53:55.446Z"
   },
   {
    "duration": 39,
    "start_time": "2021-07-13T07:53:55.477Z"
   },
   {
    "duration": 26,
    "start_time": "2021-07-13T07:53:55.518Z"
   },
   {
    "duration": 26,
    "start_time": "2021-07-13T07:53:55.563Z"
   },
   {
    "duration": 4,
    "start_time": "2021-07-13T07:53:55.593Z"
   },
   {
    "duration": 25,
    "start_time": "2021-07-13T07:53:55.600Z"
   },
   {
    "duration": 38,
    "start_time": "2021-07-13T07:53:55.628Z"
   },
   {
    "duration": 22,
    "start_time": "2021-07-13T07:53:55.670Z"
   },
   {
    "duration": 23,
    "start_time": "2021-07-13T07:53:55.694Z"
   },
   {
    "duration": 46,
    "start_time": "2021-07-13T07:53:55.720Z"
   },
   {
    "duration": 11,
    "start_time": "2021-07-13T07:53:55.769Z"
   },
   {
    "duration": 20,
    "start_time": "2021-07-13T07:53:55.784Z"
   },
   {
    "duration": 23,
    "start_time": "2021-07-13T07:53:55.808Z"
   },
   {
    "duration": 33,
    "start_time": "2021-07-13T07:53:55.833Z"
   },
   {
    "duration": 15,
    "start_time": "2021-07-13T07:53:55.869Z"
   },
   {
    "duration": 36,
    "start_time": "2021-07-13T07:53:55.888Z"
   },
   {
    "duration": 681,
    "start_time": "2021-07-13T07:53:55.927Z"
   },
   {
    "duration": 35,
    "start_time": "2021-07-13T07:53:56.610Z"
   },
   {
    "duration": 709,
    "start_time": "2021-07-13T07:53:56.662Z"
   },
   {
    "duration": 22,
    "start_time": "2021-07-13T07:53:57.377Z"
   },
   {
    "duration": 635,
    "start_time": "2021-07-13T07:53:57.404Z"
   },
   {
    "duration": 652,
    "start_time": "2021-07-13T07:53:58.042Z"
   },
   {
    "duration": 529,
    "start_time": "2021-07-13T07:53:58.697Z"
   },
   {
    "duration": 434,
    "start_time": "2021-07-13T07:53:59.229Z"
   },
   {
    "duration": 432,
    "start_time": "2021-07-13T07:53:59.665Z"
   },
   {
    "duration": 482,
    "start_time": "2021-07-13T07:54:00.099Z"
   },
   {
    "duration": 681,
    "start_time": "2021-07-13T07:54:00.583Z"
   },
   {
    "duration": 36,
    "start_time": "2021-07-13T07:54:01.266Z"
   },
   {
    "duration": 22,
    "start_time": "2021-07-13T07:54:01.305Z"
   },
   {
    "duration": 528,
    "start_time": "2021-07-13T07:54:01.329Z"
   },
   {
    "duration": 99,
    "start_time": "2021-07-13T07:54:01.863Z"
   },
   {
    "duration": 846,
    "start_time": "2021-07-13T07:54:01.966Z"
   },
   {
    "duration": 13,
    "start_time": "2021-07-13T07:54:02.814Z"
   },
   {
    "duration": 229,
    "start_time": "2021-07-13T07:54:02.830Z"
   },
   {
    "duration": 13,
    "start_time": "2021-07-13T07:54:03.063Z"
   },
   {
    "duration": 12,
    "start_time": "2021-07-13T07:54:03.079Z"
   },
   {
    "duration": 4963,
    "start_time": "2021-07-13T07:54:03.093Z"
   },
   {
    "duration": 362,
    "start_time": "2021-07-13T07:54:08.063Z"
   },
   {
    "duration": 884,
    "start_time": "2021-07-13T07:54:08.427Z"
   },
   {
    "duration": 21,
    "start_time": "2021-07-13T07:54:09.313Z"
   },
   {
    "duration": 53,
    "start_time": "2021-07-13T07:54:09.336Z"
   },
   {
    "duration": 541,
    "start_time": "2021-07-13T07:54:09.391Z"
   },
   {
    "duration": 62,
    "start_time": "2021-07-13T07:54:09.934Z"
   },
   {
    "duration": 631,
    "start_time": "2021-07-13T07:54:10.000Z"
   },
   {
    "duration": 38,
    "start_time": "2021-07-13T07:54:10.633Z"
   },
   {
    "duration": 344,
    "start_time": "2021-07-13T07:54:10.673Z"
   },
   {
    "duration": 13,
    "start_time": "2021-07-13T07:54:11.019Z"
   },
   {
    "duration": 29,
    "start_time": "2021-07-13T07:54:11.035Z"
   },
   {
    "duration": 39,
    "start_time": "2021-07-13T07:54:11.067Z"
   },
   {
    "duration": 11,
    "start_time": "2021-07-13T07:54:11.109Z"
   },
   {
    "duration": 20,
    "start_time": "2021-07-13T07:55:18.191Z"
   },
   {
    "duration": 21,
    "start_time": "2021-07-13T07:55:36.769Z"
   },
   {
    "duration": 20,
    "start_time": "2021-07-13T07:55:46.089Z"
   },
   {
    "duration": 5,
    "start_time": "2021-07-13T07:56:05.721Z"
   },
   {
    "duration": 18,
    "start_time": "2021-07-13T07:56:05.729Z"
   },
   {
    "duration": 51,
    "start_time": "2021-07-13T07:56:05.750Z"
   },
   {
    "duration": 29,
    "start_time": "2021-07-13T07:56:05.804Z"
   },
   {
    "duration": 26,
    "start_time": "2021-07-13T07:56:05.836Z"
   },
   {
    "duration": 12,
    "start_time": "2021-07-13T07:56:05.865Z"
   },
   {
    "duration": 21,
    "start_time": "2021-07-13T07:56:10.957Z"
   },
   {
    "duration": 20,
    "start_time": "2021-07-13T07:56:16.386Z"
   },
   {
    "duration": 21,
    "start_time": "2021-07-13T07:56:17.121Z"
   },
   {
    "duration": 21,
    "start_time": "2021-07-13T07:56:17.737Z"
   },
   {
    "duration": 351,
    "start_time": "2021-07-13T07:56:43.117Z"
   },
   {
    "duration": 332,
    "start_time": "2021-07-13T07:56:56.917Z"
   },
   {
    "duration": 19,
    "start_time": "2021-07-13T07:57:05.054Z"
   },
   {
    "duration": 4,
    "start_time": "2021-07-13T08:16:48.852Z"
   },
   {
    "duration": 6,
    "start_time": "2021-07-13T08:16:48.859Z"
   },
   {
    "duration": 51,
    "start_time": "2021-07-13T08:16:48.868Z"
   },
   {
    "duration": 27,
    "start_time": "2021-07-13T08:16:48.922Z"
   },
   {
    "duration": 13,
    "start_time": "2021-07-13T08:16:48.962Z"
   },
   {
    "duration": 10,
    "start_time": "2021-07-13T08:16:48.977Z"
   },
   {
    "duration": 71,
    "start_time": "2021-07-13T08:16:48.991Z"
   },
   {
    "duration": 26,
    "start_time": "2021-07-13T08:16:49.065Z"
   },
   {
    "duration": 4,
    "start_time": "2021-07-13T08:16:49.094Z"
   },
   {
    "duration": 22,
    "start_time": "2021-07-13T08:16:49.101Z"
   },
   {
    "duration": 41,
    "start_time": "2021-07-13T08:16:49.126Z"
   },
   {
    "duration": 20,
    "start_time": "2021-07-13T08:16:49.169Z"
   },
   {
    "duration": 25,
    "start_time": "2021-07-13T08:16:49.192Z"
   },
   {
    "duration": 12,
    "start_time": "2021-07-13T08:16:49.262Z"
   },
   {
    "duration": 12,
    "start_time": "2021-07-13T08:16:49.276Z"
   },
   {
    "duration": 321,
    "start_time": "2021-07-13T08:20:34.525Z"
   },
   {
    "duration": 338,
    "start_time": "2021-07-13T08:20:41.104Z"
   },
   {
    "duration": 661,
    "start_time": "2021-07-13T08:20:47.147Z"
   },
   {
    "duration": 720,
    "start_time": "2021-07-13T08:21:31.568Z"
   },
   {
    "duration": 664,
    "start_time": "2021-07-13T08:21:45.584Z"
   },
   {
    "duration": 307,
    "start_time": "2021-07-13T08:22:35.416Z"
   },
   {
    "duration": 4,
    "start_time": "2021-07-13T08:22:51.795Z"
   },
   {
    "duration": 15,
    "start_time": "2021-07-13T08:22:51.802Z"
   },
   {
    "duration": 50,
    "start_time": "2021-07-13T08:22:51.819Z"
   },
   {
    "duration": 31,
    "start_time": "2021-07-13T08:22:51.872Z"
   },
   {
    "duration": 16,
    "start_time": "2021-07-13T08:22:51.905Z"
   },
   {
    "duration": 50,
    "start_time": "2021-07-13T08:22:51.924Z"
   },
   {
    "duration": 23,
    "start_time": "2021-07-13T08:22:51.976Z"
   },
   {
    "duration": 73,
    "start_time": "2021-07-13T08:22:52.003Z"
   },
   {
    "duration": 4,
    "start_time": "2021-07-13T08:22:52.079Z"
   },
   {
    "duration": 41,
    "start_time": "2021-07-13T08:22:52.085Z"
   },
   {
    "duration": 34,
    "start_time": "2021-07-13T08:22:52.128Z"
   },
   {
    "duration": 19,
    "start_time": "2021-07-13T08:22:52.164Z"
   },
   {
    "duration": 25,
    "start_time": "2021-07-13T08:22:52.186Z"
   },
   {
    "duration": 11,
    "start_time": "2021-07-13T08:22:52.213Z"
   },
   {
    "duration": 42,
    "start_time": "2021-07-13T08:22:52.226Z"
   },
   {
    "duration": 17,
    "start_time": "2021-07-13T08:22:52.270Z"
   },
   {
    "duration": 21,
    "start_time": "2021-07-13T08:22:52.290Z"
   },
   {
    "duration": 6,
    "start_time": "2021-07-13T08:22:52.314Z"
   },
   {
    "duration": 13,
    "start_time": "2021-07-13T08:22:52.363Z"
   },
   {
    "duration": 39,
    "start_time": "2021-07-13T08:22:52.378Z"
   },
   {
    "duration": 101,
    "start_time": "2021-07-13T08:22:52.420Z"
   },
   {
    "duration": -1055,
    "start_time": "2021-07-13T08:22:53.580Z"
   },
   {
    "duration": -1072,
    "start_time": "2021-07-13T08:22:53.598Z"
   },
   {
    "duration": -1085,
    "start_time": "2021-07-13T08:22:53.613Z"
   },
   {
    "duration": -1093,
    "start_time": "2021-07-13T08:22:53.622Z"
   },
   {
    "duration": -1098,
    "start_time": "2021-07-13T08:22:53.628Z"
   },
   {
    "duration": -1101,
    "start_time": "2021-07-13T08:22:53.633Z"
   },
   {
    "duration": -1106,
    "start_time": "2021-07-13T08:22:53.639Z"
   },
   {
    "duration": -1110,
    "start_time": "2021-07-13T08:22:53.645Z"
   },
   {
    "duration": -1114,
    "start_time": "2021-07-13T08:22:53.650Z"
   },
   {
    "duration": -1120,
    "start_time": "2021-07-13T08:22:53.657Z"
   },
   {
    "duration": -1123,
    "start_time": "2021-07-13T08:22:53.662Z"
   },
   {
    "duration": -1129,
    "start_time": "2021-07-13T08:22:53.669Z"
   },
   {
    "duration": -1135,
    "start_time": "2021-07-13T08:22:53.676Z"
   },
   {
    "duration": -1137,
    "start_time": "2021-07-13T08:22:53.680Z"
   },
   {
    "duration": -1142,
    "start_time": "2021-07-13T08:22:53.686Z"
   },
   {
    "duration": -1157,
    "start_time": "2021-07-13T08:22:53.702Z"
   },
   {
    "duration": -1182,
    "start_time": "2021-07-13T08:22:53.729Z"
   },
   {
    "duration": -1185,
    "start_time": "2021-07-13T08:22:53.733Z"
   },
   {
    "duration": -1190,
    "start_time": "2021-07-13T08:22:53.739Z"
   },
   {
    "duration": -1195,
    "start_time": "2021-07-13T08:22:53.745Z"
   },
   {
    "duration": -1199,
    "start_time": "2021-07-13T08:22:53.750Z"
   },
   {
    "duration": -1204,
    "start_time": "2021-07-13T08:22:53.757Z"
   },
   {
    "duration": -1208,
    "start_time": "2021-07-13T08:22:53.762Z"
   },
   {
    "duration": -1213,
    "start_time": "2021-07-13T08:22:53.768Z"
   },
   {
    "duration": -1221,
    "start_time": "2021-07-13T08:22:53.777Z"
   },
   {
    "duration": -1225,
    "start_time": "2021-07-13T08:22:53.782Z"
   },
   {
    "duration": -1231,
    "start_time": "2021-07-13T08:22:53.789Z"
   },
   {
    "duration": -1234,
    "start_time": "2021-07-13T08:22:53.794Z"
   },
   {
    "duration": -1238,
    "start_time": "2021-07-13T08:22:53.799Z"
   },
   {
    "duration": -1243,
    "start_time": "2021-07-13T08:22:53.805Z"
   },
   {
    "duration": -1250,
    "start_time": "2021-07-13T08:22:53.813Z"
   },
   {
    "duration": -1253,
    "start_time": "2021-07-13T08:22:53.817Z"
   },
   {
    "duration": -1258,
    "start_time": "2021-07-13T08:22:53.823Z"
   },
   {
    "duration": 609,
    "start_time": "2021-07-13T08:23:21.746Z"
   },
   {
    "duration": 8159,
    "start_time": "2021-07-13T08:24:45.900Z"
   },
   {
    "duration": 615,
    "start_time": "2021-07-13T08:25:12.034Z"
   },
   {
    "duration": 701,
    "start_time": "2021-07-13T08:26:20.718Z"
   },
   {
    "duration": 617,
    "start_time": "2021-07-13T08:30:48.992Z"
   },
   {
    "duration": 735,
    "start_time": "2021-07-13T08:31:02.063Z"
   },
   {
    "duration": 635,
    "start_time": "2021-07-13T08:31:24.696Z"
   },
   {
    "duration": 671,
    "start_time": "2021-07-13T08:32:08.096Z"
   },
   {
    "duration": 6,
    "start_time": "2021-07-13T08:46:27.102Z"
   },
   {
    "duration": 5,
    "start_time": "2021-07-13T08:46:27.112Z"
   },
   {
    "duration": 50,
    "start_time": "2021-07-13T08:46:27.122Z"
   },
   {
    "duration": 32,
    "start_time": "2021-07-13T08:46:27.175Z"
   },
   {
    "duration": 57,
    "start_time": "2021-07-13T08:46:27.210Z"
   },
   {
    "duration": 14,
    "start_time": "2021-07-13T08:46:27.270Z"
   },
   {
    "duration": 24,
    "start_time": "2021-07-13T08:46:27.287Z"
   },
   {
    "duration": 62,
    "start_time": "2021-07-13T08:46:27.314Z"
   },
   {
    "duration": 3,
    "start_time": "2021-07-13T08:46:27.381Z"
   },
   {
    "duration": 36,
    "start_time": "2021-07-13T08:46:27.388Z"
   },
   {
    "duration": 43,
    "start_time": "2021-07-13T08:46:27.427Z"
   },
   {
    "duration": 19,
    "start_time": "2021-07-13T08:46:27.473Z"
   },
   {
    "duration": 24,
    "start_time": "2021-07-13T08:46:27.495Z"
   },
   {
    "duration": 11,
    "start_time": "2021-07-13T08:46:27.521Z"
   },
   {
    "duration": 31,
    "start_time": "2021-07-13T08:46:27.534Z"
   },
   {
    "duration": 17,
    "start_time": "2021-07-13T08:46:27.567Z"
   },
   {
    "duration": 26,
    "start_time": "2021-07-13T08:46:27.586Z"
   },
   {
    "duration": 7,
    "start_time": "2021-07-13T08:46:27.614Z"
   },
   {
    "duration": 39,
    "start_time": "2021-07-13T08:46:27.623Z"
   },
   {
    "duration": 38,
    "start_time": "2021-07-13T08:46:27.664Z"
   },
   {
    "duration": 693,
    "start_time": "2021-07-13T08:46:27.704Z"
   },
   {
    "duration": 37,
    "start_time": "2021-07-13T08:46:28.400Z"
   },
   {
    "duration": 775,
    "start_time": "2021-07-13T08:46:28.440Z"
   },
   {
    "duration": 23,
    "start_time": "2021-07-13T08:46:29.217Z"
   },
   {
    "duration": 447,
    "start_time": "2021-07-13T08:46:29.243Z"
   },
   {
    "duration": 634,
    "start_time": "2021-07-13T08:46:29.693Z"
   },
   {
    "duration": 439,
    "start_time": "2021-07-13T08:46:30.333Z"
   },
   {
    "duration": 473,
    "start_time": "2021-07-13T08:46:30.776Z"
   },
   {
    "duration": 447,
    "start_time": "2021-07-13T08:46:31.252Z"
   },
   {
    "duration": 439,
    "start_time": "2021-07-13T08:46:31.702Z"
   },
   {
    "duration": 692,
    "start_time": "2021-07-13T08:46:32.145Z"
   },
   {
    "duration": 50,
    "start_time": "2021-07-13T08:46:32.841Z"
   },
   {
    "duration": 20,
    "start_time": "2021-07-13T08:46:32.893Z"
   },
   {
    "duration": 473,
    "start_time": "2021-07-13T08:46:32.915Z"
   },
   {
    "duration": 72,
    "start_time": "2021-07-13T08:46:33.390Z"
   },
   {
    "duration": 745,
    "start_time": "2021-07-13T08:46:33.464Z"
   },
   {
    "duration": 14,
    "start_time": "2021-07-13T08:46:34.211Z"
   },
   {
    "duration": 236,
    "start_time": "2021-07-13T08:46:34.229Z"
   },
   {
    "duration": 14,
    "start_time": "2021-07-13T08:46:34.468Z"
   },
   {
    "duration": 9,
    "start_time": "2021-07-13T08:46:34.486Z"
   },
   {
    "duration": 5277,
    "start_time": "2021-07-13T08:46:34.498Z"
   },
   {
    "duration": 538,
    "start_time": "2021-07-13T08:46:39.778Z"
   },
   {
    "duration": 1078,
    "start_time": "2021-07-13T08:46:40.319Z"
   },
   {
    "duration": 29,
    "start_time": "2021-07-13T08:46:41.401Z"
   },
   {
    "duration": 59,
    "start_time": "2021-07-13T08:46:41.433Z"
   },
   {
    "duration": 873,
    "start_time": "2021-07-13T08:46:41.495Z"
   },
   {
    "duration": 32,
    "start_time": "2021-07-13T08:46:42.371Z"
   },
   {
    "duration": 479,
    "start_time": "2021-07-13T08:46:42.405Z"
   },
   {
    "duration": 32,
    "start_time": "2021-07-13T08:46:42.886Z"
   },
   {
    "duration": 369,
    "start_time": "2021-07-13T08:46:42.921Z"
   },
   {
    "duration": 11,
    "start_time": "2021-07-13T08:46:43.292Z"
   },
   {
    "duration": 17,
    "start_time": "2021-07-13T08:46:43.306Z"
   },
   {
    "duration": 40,
    "start_time": "2021-07-13T08:46:43.326Z"
   },
   {
    "duration": 6,
    "start_time": "2021-07-13T08:46:43.368Z"
   },
   {
    "duration": 36,
    "start_time": "2021-07-13T09:52:27.228Z"
   },
   {
    "duration": 5,
    "start_time": "2021-07-13T09:52:36.609Z"
   },
   {
    "duration": 9,
    "start_time": "2021-07-13T09:52:36.617Z"
   },
   {
    "duration": 52,
    "start_time": "2021-07-13T09:52:36.630Z"
   },
   {
    "duration": 30,
    "start_time": "2021-07-13T09:52:36.685Z"
   },
   {
    "duration": 15,
    "start_time": "2021-07-13T09:52:36.718Z"
   },
   {
    "duration": 12,
    "start_time": "2021-07-13T09:52:36.764Z"
   },
   {
    "duration": 20,
    "start_time": "2021-07-13T09:52:36.778Z"
   },
   {
    "duration": 29,
    "start_time": "2021-07-13T09:52:36.800Z"
   },
   {
    "duration": 30,
    "start_time": "2021-07-13T09:52:36.832Z"
   },
   {
    "duration": 24,
    "start_time": "2021-07-13T09:52:36.864Z"
   },
   {
    "duration": 13,
    "start_time": "2021-07-13T09:52:36.902Z"
   },
   {
    "duration": 27,
    "start_time": "2021-07-13T09:52:36.918Z"
   },
   {
    "duration": 26,
    "start_time": "2021-07-13T09:52:36.947Z"
   },
   {
    "duration": 12,
    "start_time": "2021-07-13T09:52:36.976Z"
   },
   {
    "duration": 8,
    "start_time": "2021-07-13T09:52:37.049Z"
   },
   {
    "duration": 28,
    "start_time": "2021-07-13T09:52:37.060Z"
   },
   {
    "duration": 56,
    "start_time": "2021-07-13T09:52:37.091Z"
   },
   {
    "duration": 7,
    "start_time": "2021-07-13T09:52:37.150Z"
   },
   {
    "duration": 31,
    "start_time": "2021-07-13T09:52:37.159Z"
   },
   {
    "duration": 43,
    "start_time": "2021-07-13T09:52:37.193Z"
   },
   {
    "duration": 824,
    "start_time": "2021-07-13T09:52:37.240Z"
   },
   {
    "duration": 37,
    "start_time": "2021-07-13T09:52:38.068Z"
   },
   {
    "duration": 630,
    "start_time": "2021-07-13T09:52:38.108Z"
   },
   {
    "duration": 34,
    "start_time": "2021-07-13T09:52:38.741Z"
   },
   {
    "duration": 460,
    "start_time": "2021-07-13T09:52:38.778Z"
   },
   {
    "duration": 445,
    "start_time": "2021-07-13T09:52:39.242Z"
   },
   {
    "duration": 475,
    "start_time": "2021-07-13T09:52:39.690Z"
   },
   {
    "duration": 546,
    "start_time": "2021-07-13T09:52:40.167Z"
   },
   {
    "duration": 424,
    "start_time": "2021-07-13T09:52:40.715Z"
   },
   {
    "duration": 423,
    "start_time": "2021-07-13T09:52:41.141Z"
   },
   {
    "duration": 659,
    "start_time": "2021-07-13T09:52:41.567Z"
   },
   {
    "duration": 47,
    "start_time": "2021-07-13T09:52:42.228Z"
   },
   {
    "duration": 21,
    "start_time": "2021-07-13T09:52:42.278Z"
   },
   {
    "duration": 415,
    "start_time": "2021-07-13T09:52:42.301Z"
   },
   {
    "duration": 52,
    "start_time": "2021-07-13T09:52:42.718Z"
   },
   {
    "duration": 760,
    "start_time": "2021-07-13T09:52:42.772Z"
   },
   {
    "duration": 12,
    "start_time": "2021-07-13T09:52:43.535Z"
   },
   {
    "duration": 256,
    "start_time": "2021-07-13T09:52:43.549Z"
   },
   {
    "duration": 10,
    "start_time": "2021-07-13T09:52:43.807Z"
   },
   {
    "duration": 8,
    "start_time": "2021-07-13T09:52:43.819Z"
   },
   {
    "duration": 35,
    "start_time": "2021-07-13T09:52:43.831Z"
   },
   {
    "duration": 334,
    "start_time": "2021-07-13T09:52:43.869Z"
   },
   {
    "duration": 684,
    "start_time": "2021-07-13T09:52:44.206Z"
   },
   {
    "duration": 18,
    "start_time": "2021-07-13T09:52:44.893Z"
   },
   {
    "duration": 53,
    "start_time": "2021-07-13T09:52:44.914Z"
   },
   {
    "duration": 416,
    "start_time": "2021-07-13T09:52:44.970Z"
   },
   {
    "duration": 44,
    "start_time": "2021-07-13T09:52:45.389Z"
   },
   {
    "duration": 669,
    "start_time": "2021-07-13T09:52:45.436Z"
   },
   {
    "duration": 33,
    "start_time": "2021-07-13T09:52:46.108Z"
   },
   {
    "duration": 473,
    "start_time": "2021-07-13T09:52:46.144Z"
   },
   {
    "duration": 15,
    "start_time": "2021-07-13T09:52:46.620Z"
   },
   {
    "duration": 24,
    "start_time": "2021-07-13T09:52:46.639Z"
   },
   {
    "duration": 11,
    "start_time": "2021-07-13T09:52:46.666Z"
   },
   {
    "duration": 8,
    "start_time": "2021-07-13T09:52:46.679Z"
   },
   {
    "duration": 411,
    "start_time": "2021-07-13T10:09:18.087Z"
   },
   {
    "duration": 438,
    "start_time": "2021-07-13T10:09:47.857Z"
   },
   {
    "duration": 421,
    "start_time": "2021-07-13T10:09:55.751Z"
   },
   {
    "duration": 420,
    "start_time": "2021-07-13T10:10:10.448Z"
   },
   {
    "duration": 544,
    "start_time": "2021-07-13T10:10:28.921Z"
   },
   {
    "duration": 416,
    "start_time": "2021-07-13T10:10:45.576Z"
   },
   {
    "duration": 427,
    "start_time": "2021-07-13T10:10:57.961Z"
   },
   {
    "duration": 625,
    "start_time": "2021-07-13T10:11:55.139Z"
   },
   {
    "duration": 22,
    "start_time": "2021-07-13T10:12:15.767Z"
   },
   {
    "duration": 4,
    "start_time": "2021-07-13T10:13:57.312Z"
   },
   {
    "duration": 28,
    "start_time": "2021-07-13T10:13:57.319Z"
   },
   {
    "duration": 92,
    "start_time": "2021-07-13T10:13:57.350Z"
   },
   {
    "duration": 34,
    "start_time": "2021-07-13T10:13:57.445Z"
   },
   {
    "duration": 37,
    "start_time": "2021-07-13T10:13:57.482Z"
   },
   {
    "duration": 48,
    "start_time": "2021-07-13T10:13:57.522Z"
   },
   {
    "duration": 29,
    "start_time": "2021-07-13T10:13:57.573Z"
   },
   {
    "duration": 38,
    "start_time": "2021-07-13T10:13:57.605Z"
   },
   {
    "duration": 5,
    "start_time": "2021-07-13T10:13:57.663Z"
   },
   {
    "duration": 29,
    "start_time": "2021-07-13T10:13:57.672Z"
   },
   {
    "duration": 26,
    "start_time": "2021-07-13T10:13:57.705Z"
   },
   {
    "duration": 35,
    "start_time": "2021-07-13T10:13:57.733Z"
   },
   {
    "duration": 43,
    "start_time": "2021-07-13T10:13:57.771Z"
   },
   {
    "duration": 18,
    "start_time": "2021-07-13T10:13:57.816Z"
   },
   {
    "duration": 13,
    "start_time": "2021-07-13T10:13:57.837Z"
   },
   {
    "duration": 40,
    "start_time": "2021-07-13T10:13:57.853Z"
   },
   {
    "duration": 41,
    "start_time": "2021-07-13T10:13:57.896Z"
   },
   {
    "duration": 15,
    "start_time": "2021-07-13T10:13:57.939Z"
   },
   {
    "duration": 21,
    "start_time": "2021-07-13T10:13:57.956Z"
   },
   {
    "duration": 51,
    "start_time": "2021-07-13T10:13:57.980Z"
   },
   {
    "duration": 642,
    "start_time": "2021-07-13T10:13:58.034Z"
   },
   {
    "duration": 40,
    "start_time": "2021-07-13T10:13:58.679Z"
   },
   {
    "duration": 625,
    "start_time": "2021-07-13T10:13:58.722Z"
   },
   {
    "duration": 34,
    "start_time": "2021-07-13T10:13:59.350Z"
   },
   {
    "duration": 409,
    "start_time": "2021-07-13T10:13:59.387Z"
   },
   {
    "duration": 455,
    "start_time": "2021-07-13T10:13:59.798Z"
   },
   {
    "duration": 525,
    "start_time": "2021-07-13T10:14:00.264Z"
   },
   {
    "duration": 600,
    "start_time": "2021-07-13T10:14:00.793Z"
   },
   {
    "duration": 555,
    "start_time": "2021-07-13T10:14:01.396Z"
   },
   {
    "duration": 425,
    "start_time": "2021-07-13T10:14:01.954Z"
   },
   {
    "duration": 648,
    "start_time": "2021-07-13T10:14:02.382Z"
   },
   {
    "duration": 54,
    "start_time": "2021-07-13T10:14:03.033Z"
   },
   {
    "duration": 30,
    "start_time": "2021-07-13T10:14:03.089Z"
   },
   {
    "duration": 414,
    "start_time": "2021-07-13T10:14:03.122Z"
   },
   {
    "duration": 49,
    "start_time": "2021-07-13T10:14:03.538Z"
   },
   {
    "duration": 646,
    "start_time": "2021-07-13T10:14:03.589Z"
   },
   {
    "duration": 25,
    "start_time": "2021-07-13T10:14:04.237Z"
   },
   {
    "duration": 255,
    "start_time": "2021-07-13T10:14:04.264Z"
   },
   {
    "duration": 10,
    "start_time": "2021-07-13T10:14:04.522Z"
   },
   {
    "duration": 27,
    "start_time": "2021-07-13T10:14:04.535Z"
   },
   {
    "duration": 31,
    "start_time": "2021-07-13T10:14:04.565Z"
   },
   {
    "duration": 325,
    "start_time": "2021-07-13T10:14:04.599Z"
   },
   {
    "duration": 689,
    "start_time": "2021-07-13T10:14:04.927Z"
   },
   {
    "duration": 19,
    "start_time": "2021-07-13T10:14:05.618Z"
   },
   {
    "duration": 48,
    "start_time": "2021-07-13T10:14:05.640Z"
   },
   {
    "duration": 420,
    "start_time": "2021-07-13T10:14:05.690Z"
   },
   {
    "duration": 32,
    "start_time": "2021-07-13T10:14:06.112Z"
   },
   {
    "duration": 668,
    "start_time": "2021-07-13T10:14:06.163Z"
   },
   {
    "duration": 47,
    "start_time": "2021-07-13T10:14:06.835Z"
   },
   {
    "duration": 456,
    "start_time": "2021-07-13T10:14:06.885Z"
   },
   {
    "duration": 23,
    "start_time": "2021-07-13T10:14:07.345Z"
   },
   {
    "duration": 9,
    "start_time": "2021-07-13T10:14:07.371Z"
   },
   {
    "duration": 23,
    "start_time": "2021-07-13T10:14:07.383Z"
   },
   {
    "duration": 8,
    "start_time": "2021-07-13T10:14:07.409Z"
   },
   {
    "duration": 19,
    "start_time": "2021-07-13T10:31:28.043Z"
   },
   {
    "duration": 791,
    "start_time": "2021-07-13T10:46:54.408Z"
   },
   {
    "duration": 788,
    "start_time": "2021-07-13T10:47:22.063Z"
   },
   {
    "duration": 598,
    "start_time": "2021-07-13T10:47:30.757Z"
   },
   {
    "duration": 764,
    "start_time": "2021-07-13T10:47:42.766Z"
   },
   {
    "duration": 231,
    "start_time": "2021-07-13T10:50:11.105Z"
   },
   {
    "duration": 5,
    "start_time": "2021-07-13T10:50:19.737Z"
   },
   {
    "duration": 11,
    "start_time": "2021-07-13T10:50:19.744Z"
   },
   {
    "duration": 49,
    "start_time": "2021-07-13T10:50:19.758Z"
   },
   {
    "duration": 28,
    "start_time": "2021-07-13T10:50:19.810Z"
   },
   {
    "duration": 31,
    "start_time": "2021-07-13T10:50:19.840Z"
   },
   {
    "duration": 13,
    "start_time": "2021-07-13T10:50:19.874Z"
   },
   {
    "duration": 24,
    "start_time": "2021-07-13T10:50:19.890Z"
   },
   {
    "duration": 60,
    "start_time": "2021-07-13T10:50:19.918Z"
   },
   {
    "duration": 4,
    "start_time": "2021-07-13T10:50:19.981Z"
   },
   {
    "duration": 28,
    "start_time": "2021-07-13T10:50:19.995Z"
   },
   {
    "duration": 22,
    "start_time": "2021-07-13T10:50:20.025Z"
   },
   {
    "duration": 18,
    "start_time": "2021-07-13T10:50:20.062Z"
   },
   {
    "duration": 24,
    "start_time": "2021-07-13T10:50:20.082Z"
   },
   {
    "duration": 10,
    "start_time": "2021-07-13T10:50:20.108Z"
   },
   {
    "duration": 41,
    "start_time": "2021-07-13T10:50:20.121Z"
   },
   {
    "duration": 11,
    "start_time": "2021-07-13T10:50:20.167Z"
   },
   {
    "duration": 23,
    "start_time": "2021-07-13T10:50:20.181Z"
   },
   {
    "duration": 38,
    "start_time": "2021-07-13T10:50:20.206Z"
   },
   {
    "duration": 36,
    "start_time": "2021-07-13T10:50:20.246Z"
   },
   {
    "duration": 55,
    "start_time": "2021-07-13T10:50:20.285Z"
   },
   {
    "duration": 637,
    "start_time": "2021-07-13T10:50:20.343Z"
   },
   {
    "duration": 35,
    "start_time": "2021-07-13T10:50:20.984Z"
   },
   {
    "duration": 618,
    "start_time": "2021-07-13T10:50:21.023Z"
   },
   {
    "duration": 32,
    "start_time": "2021-07-13T10:50:21.645Z"
   },
   {
    "duration": 421,
    "start_time": "2021-07-13T10:50:21.680Z"
   },
   {
    "duration": 435,
    "start_time": "2021-07-13T10:50:22.103Z"
   },
   {
    "duration": 417,
    "start_time": "2021-07-13T10:50:22.541Z"
   },
   {
    "duration": 438,
    "start_time": "2021-07-13T10:50:22.962Z"
   },
   {
    "duration": 427,
    "start_time": "2021-07-13T10:50:23.402Z"
   },
   {
    "duration": 430,
    "start_time": "2021-07-13T10:50:23.832Z"
   },
   {
    "duration": 649,
    "start_time": "2021-07-13T10:50:24.264Z"
   },
   {
    "duration": 46,
    "start_time": "2021-07-13T10:50:24.916Z"
   },
   {
    "duration": 21,
    "start_time": "2021-07-13T10:50:24.965Z"
   },
   {
    "duration": 419,
    "start_time": "2021-07-13T10:50:24.992Z"
   },
   {
    "duration": 56,
    "start_time": "2021-07-13T10:50:25.414Z"
   },
   {
    "duration": 579,
    "start_time": "2021-07-13T10:50:25.472Z"
   },
   {
    "duration": 18,
    "start_time": "2021-07-13T10:50:26.053Z"
   },
   {
    "duration": 245,
    "start_time": "2021-07-13T10:50:26.073Z"
   },
   {
    "duration": 12,
    "start_time": "2021-07-13T10:50:26.321Z"
   },
   {
    "duration": 26,
    "start_time": "2021-07-13T10:50:26.336Z"
   },
   {
    "duration": 4331,
    "start_time": "2021-07-13T10:50:26.365Z"
   },
   {
    "duration": 348,
    "start_time": "2021-07-13T10:50:30.698Z"
   },
   {
    "duration": 673,
    "start_time": "2021-07-13T10:50:31.048Z"
   },
   {
    "duration": 19,
    "start_time": "2021-07-13T10:50:31.724Z"
   },
   {
    "duration": 30,
    "start_time": "2021-07-13T10:50:31.762Z"
   },
   {
    "duration": 416,
    "start_time": "2021-07-13T10:50:31.794Z"
   },
   {
    "duration": 31,
    "start_time": "2021-07-13T10:50:32.213Z"
   },
   {
    "duration": 433,
    "start_time": "2021-07-13T10:50:32.263Z"
   },
   {
    "duration": 25,
    "start_time": "2021-07-13T10:50:32.699Z"
   },
   {
    "duration": 325,
    "start_time": "2021-07-13T10:50:32.726Z"
   },
   {
    "duration": 10,
    "start_time": "2021-07-13T10:50:33.062Z"
   },
   {
    "duration": 10,
    "start_time": "2021-07-13T10:50:33.074Z"
   },
   {
    "duration": 15,
    "start_time": "2021-07-13T10:50:33.086Z"
   },
   {
    "duration": 11,
    "start_time": "2021-07-13T10:50:33.103Z"
   },
   {
    "duration": 12,
    "start_time": "2021-07-13T11:49:00.367Z"
   },
   {
    "duration": 31,
    "start_time": "2021-07-13T11:49:34.903Z"
   },
   {
    "duration": 9,
    "start_time": "2021-07-13T12:25:37.745Z"
   },
   {
    "duration": 32,
    "start_time": "2021-07-13T12:25:50.968Z"
   },
   {
    "duration": 38,
    "start_time": "2021-07-13T12:27:41.902Z"
   },
   {
    "duration": 133,
    "start_time": "2021-07-13T12:38:31.952Z"
   },
   {
    "duration": 369,
    "start_time": "2021-07-13T12:38:51.841Z"
   },
   {
    "duration": 347,
    "start_time": "2021-07-13T12:39:17.169Z"
   },
   {
    "duration": 786,
    "start_time": "2021-07-13T12:39:29.338Z"
   },
   {
    "duration": 852,
    "start_time": "2021-07-13T12:39:55.193Z"
   },
   {
    "duration": 332,
    "start_time": "2021-07-13T12:40:56.573Z"
   },
   {
    "duration": 324,
    "start_time": "2021-07-13T12:41:04.964Z"
   },
   {
    "duration": 1090,
    "start_time": "2021-07-13T12:41:11.883Z"
   },
   {
    "duration": 881,
    "start_time": "2021-07-13T12:41:30.659Z"
   },
   {
    "duration": 34,
    "start_time": "2021-07-13T12:41:43.860Z"
   },
   {
    "duration": 309,
    "start_time": "2021-07-13T12:43:44.820Z"
   },
   {
    "duration": 830,
    "start_time": "2021-07-13T12:44:32.593Z"
   },
   {
    "duration": 471,
    "start_time": "2021-07-13T12:46:22.980Z"
   },
   {
    "duration": 361,
    "start_time": "2021-07-13T12:47:07.297Z"
   },
   {
    "duration": 459,
    "start_time": "2021-07-13T12:48:03.347Z"
   },
   {
    "duration": 322,
    "start_time": "2021-07-13T12:53:03.447Z"
   },
   {
    "duration": 106,
    "start_time": "2021-07-13T13:06:34.556Z"
   },
   {
    "duration": 98,
    "start_time": "2021-07-13T13:06:42.432Z"
   },
   {
    "duration": 902,
    "start_time": "2021-07-13T13:12:44.667Z"
   },
   {
    "duration": 659,
    "start_time": "2021-07-13T13:12:49.548Z"
   },
   {
    "duration": 8,
    "start_time": "2021-07-13T13:16:23.235Z"
   },
   {
    "duration": 4494,
    "start_time": "2021-07-13T13:16:28.570Z"
   },
   {
    "duration": 312,
    "start_time": "2021-07-13T13:17:30.372Z"
   },
   {
    "duration": 5,
    "start_time": "2021-07-13T13:18:02.639Z"
   },
   {
    "duration": 44,
    "start_time": "2021-07-13T13:18:02.646Z"
   },
   {
    "duration": 73,
    "start_time": "2021-07-13T13:18:02.694Z"
   },
   {
    "duration": 36,
    "start_time": "2021-07-13T13:18:02.770Z"
   },
   {
    "duration": 52,
    "start_time": "2021-07-13T13:18:02.809Z"
   },
   {
    "duration": 31,
    "start_time": "2021-07-13T13:18:02.865Z"
   },
   {
    "duration": 43,
    "start_time": "2021-07-13T13:18:02.899Z"
   },
   {
    "duration": 42,
    "start_time": "2021-07-13T13:18:02.948Z"
   },
   {
    "duration": 29,
    "start_time": "2021-07-13T13:18:02.994Z"
   },
   {
    "duration": 43,
    "start_time": "2021-07-13T13:18:03.026Z"
   },
   {
    "duration": 53,
    "start_time": "2021-07-13T13:18:03.072Z"
   },
   {
    "duration": 42,
    "start_time": "2021-07-13T13:18:03.128Z"
   },
   {
    "duration": 34,
    "start_time": "2021-07-13T13:18:03.173Z"
   },
   {
    "duration": 33,
    "start_time": "2021-07-13T13:18:03.210Z"
   },
   {
    "duration": 31,
    "start_time": "2021-07-13T13:18:03.246Z"
   },
   {
    "duration": 36,
    "start_time": "2021-07-13T13:18:03.280Z"
   },
   {
    "duration": 40,
    "start_time": "2021-07-13T13:18:03.318Z"
   },
   {
    "duration": 43,
    "start_time": "2021-07-13T13:18:03.361Z"
   },
   {
    "duration": 48,
    "start_time": "2021-07-13T13:18:03.407Z"
   },
   {
    "duration": 58,
    "start_time": "2021-07-13T13:18:03.457Z"
   },
   {
    "duration": 645,
    "start_time": "2021-07-13T13:18:03.517Z"
   },
   {
    "duration": 35,
    "start_time": "2021-07-13T13:18:04.164Z"
   },
   {
    "duration": 621,
    "start_time": "2021-07-13T13:18:04.206Z"
   },
   {
    "duration": 41,
    "start_time": "2021-07-13T13:18:04.831Z"
   },
   {
    "duration": 444,
    "start_time": "2021-07-13T13:18:04.875Z"
   },
   {
    "duration": 448,
    "start_time": "2021-07-13T13:18:05.322Z"
   },
   {
    "duration": 445,
    "start_time": "2021-07-13T13:18:05.773Z"
   },
   {
    "duration": 429,
    "start_time": "2021-07-13T13:18:06.220Z"
   },
   {
    "duration": 425,
    "start_time": "2021-07-13T13:18:06.652Z"
   },
   {
    "duration": 663,
    "start_time": "2021-07-13T13:18:07.080Z"
   },
   {
    "duration": 660,
    "start_time": "2021-07-13T13:18:07.745Z"
   },
   {
    "duration": 32,
    "start_time": "2021-07-13T13:18:08.408Z"
   },
   {
    "duration": 36,
    "start_time": "2021-07-13T13:18:08.442Z"
   },
   {
    "duration": 402,
    "start_time": "2021-07-13T13:18:08.480Z"
   },
   {
    "duration": 34,
    "start_time": "2021-07-13T13:18:08.885Z"
   },
   {
    "duration": 608,
    "start_time": "2021-07-13T13:18:08.922Z"
   },
   {
    "duration": 13,
    "start_time": "2021-07-13T13:18:09.532Z"
   },
   {
    "duration": 33,
    "start_time": "2021-07-13T13:18:09.547Z"
   },
   {
    "duration": 434,
    "start_time": "2021-07-13T13:18:09.583Z"
   },
   {
    "duration": 17,
    "start_time": "2021-07-13T13:18:10.020Z"
   },
   {
    "duration": 28,
    "start_time": "2021-07-13T13:18:10.040Z"
   },
   {
    "duration": 4115,
    "start_time": "2021-07-13T13:18:10.071Z"
   },
   {
    "duration": 332,
    "start_time": "2021-07-13T13:18:14.188Z"
   },
   {
    "duration": 678,
    "start_time": "2021-07-13T13:18:14.523Z"
   },
   {
    "duration": 19,
    "start_time": "2021-07-13T13:18:15.204Z"
   },
   {
    "duration": 49,
    "start_time": "2021-07-13T13:18:15.226Z"
   },
   {
    "duration": 422,
    "start_time": "2021-07-13T13:18:15.277Z"
   },
   {
    "duration": 30,
    "start_time": "2021-07-13T13:18:15.701Z"
   },
   {
    "duration": 548,
    "start_time": "2021-07-13T13:18:15.733Z"
   },
   {
    "duration": 25,
    "start_time": "2021-07-13T13:18:16.284Z"
   },
   {
    "duration": 325,
    "start_time": "2021-07-13T13:18:16.312Z"
   },
   {
    "duration": 11,
    "start_time": "2021-07-13T13:18:16.639Z"
   },
   {
    "duration": 24,
    "start_time": "2021-07-13T13:18:16.652Z"
   },
   {
    "duration": 29,
    "start_time": "2021-07-13T13:18:16.678Z"
   },
   {
    "duration": 32,
    "start_time": "2021-07-13T13:18:16.710Z"
   },
   {
    "duration": 385,
    "start_time": "2021-07-13T14:30:51.918Z"
   },
   {
    "duration": 339,
    "start_time": "2021-07-13T14:31:46.926Z"
   },
   {
    "duration": 8,
    "start_time": "2021-07-13T14:32:26.229Z"
   },
   {
    "duration": 5090,
    "start_time": "2021-07-13T14:32:27.938Z"
   },
   {
    "duration": 10,
    "start_time": "2021-07-13T14:52:47.900Z"
   },
   {
    "duration": 9,
    "start_time": "2021-07-13T14:54:20.507Z"
   },
   {
    "duration": 318,
    "start_time": "2021-07-13T14:54:25.304Z"
   },
   {
    "duration": 11,
    "start_time": "2021-07-13T14:54:27.950Z"
   },
   {
    "duration": 697,
    "start_time": "2021-07-13T14:56:51.096Z"
   },
   {
    "duration": 19,
    "start_time": "2021-07-13T14:57:39.329Z"
   },
   {
    "duration": 23,
    "start_time": "2021-07-13T14:58:37.369Z"
   },
   {
    "duration": 675,
    "start_time": "2021-07-13T15:03:07.671Z"
   },
   {
    "duration": 23,
    "start_time": "2021-07-13T15:03:11.816Z"
   },
   {
    "duration": 11,
    "start_time": "2021-07-13T15:40:59.279Z"
   },
   {
    "duration": 5,
    "start_time": "2021-07-13T15:41:27.630Z"
   },
   {
    "duration": 25,
    "start_time": "2021-07-13T15:41:32.638Z"
   },
   {
    "duration": 30,
    "start_time": "2021-07-13T15:45:57.133Z"
   },
   {
    "duration": 31,
    "start_time": "2021-07-13T15:52:04.654Z"
   },
   {
    "duration": 30,
    "start_time": "2021-07-13T15:52:21.823Z"
   },
   {
    "duration": 5,
    "start_time": "2021-07-13T15:53:47.417Z"
   },
   {
    "duration": 433,
    "start_time": "2021-07-13T17:40:43.274Z"
   },
   {
    "duration": 450,
    "start_time": "2021-07-13T17:41:45.904Z"
   },
   {
    "duration": 465,
    "start_time": "2021-07-13T17:42:17.600Z"
   },
   {
    "duration": 470,
    "start_time": "2021-07-13T17:42:49.023Z"
   },
   {
    "duration": 485,
    "start_time": "2021-07-13T17:45:36.925Z"
   },
   {
    "duration": 454,
    "start_time": "2021-07-13T17:46:16.485Z"
   },
   {
    "duration": 480,
    "start_time": "2021-07-13T17:46:29.075Z"
   },
   {
    "duration": 1049,
    "start_time": "2021-07-14T05:55:09.962Z"
   },
   {
    "duration": 2,
    "start_time": "2021-07-14T05:55:11.013Z"
   },
   {
    "duration": 37,
    "start_time": "2021-07-14T05:55:11.017Z"
   },
   {
    "duration": 19,
    "start_time": "2021-07-14T05:55:11.056Z"
   },
   {
    "duration": 17,
    "start_time": "2021-07-14T05:55:11.077Z"
   },
   {
    "duration": 7,
    "start_time": "2021-07-14T05:55:11.095Z"
   },
   {
    "duration": 13,
    "start_time": "2021-07-14T05:55:11.104Z"
   },
   {
    "duration": 13,
    "start_time": "2021-07-14T05:55:11.119Z"
   },
   {
    "duration": 2,
    "start_time": "2021-07-14T05:55:11.134Z"
   },
   {
    "duration": 12,
    "start_time": "2021-07-14T05:55:11.138Z"
   },
   {
    "duration": 5,
    "start_time": "2021-07-14T05:55:11.151Z"
   },
   {
    "duration": 39,
    "start_time": "2021-07-14T05:55:11.158Z"
   },
   {
    "duration": 15,
    "start_time": "2021-07-14T05:55:11.199Z"
   },
   {
    "duration": 7,
    "start_time": "2021-07-14T05:55:11.216Z"
   },
   {
    "duration": 7,
    "start_time": "2021-07-14T05:55:11.224Z"
   },
   {
    "duration": 12,
    "start_time": "2021-07-14T05:55:11.233Z"
   },
   {
    "duration": 19,
    "start_time": "2021-07-14T05:55:11.246Z"
   },
   {
    "duration": 4,
    "start_time": "2021-07-14T05:55:11.266Z"
   },
   {
    "duration": 24,
    "start_time": "2021-07-14T05:55:11.272Z"
   },
   {
    "duration": 26,
    "start_time": "2021-07-14T05:55:11.298Z"
   },
   {
    "duration": 345,
    "start_time": "2021-07-14T05:55:11.325Z"
   },
   {
    "duration": 29,
    "start_time": "2021-07-14T05:55:11.671Z"
   },
   {
    "duration": 304,
    "start_time": "2021-07-14T05:55:11.704Z"
   },
   {
    "duration": 13,
    "start_time": "2021-07-14T05:55:12.010Z"
   },
   {
    "duration": 215,
    "start_time": "2021-07-14T05:55:12.025Z"
   },
   {
    "duration": 227,
    "start_time": "2021-07-14T05:55:12.242Z"
   },
   {
    "duration": 215,
    "start_time": "2021-07-14T05:55:12.471Z"
   },
   {
    "duration": 277,
    "start_time": "2021-07-14T05:55:12.691Z"
   },
   {
    "duration": 211,
    "start_time": "2021-07-14T05:55:12.970Z"
   },
   {
    "duration": 209,
    "start_time": "2021-07-14T05:55:13.190Z"
   },
   {
    "duration": 328,
    "start_time": "2021-07-14T05:55:13.401Z"
   },
   {
    "duration": 18,
    "start_time": "2021-07-14T05:55:13.731Z"
   },
   {
    "duration": 11,
    "start_time": "2021-07-14T05:55:13.750Z"
   },
   {
    "duration": 212,
    "start_time": "2021-07-14T05:55:13.762Z"
   },
   {
    "duration": 24,
    "start_time": "2021-07-14T05:55:13.975Z"
   },
   {
    "duration": 383,
    "start_time": "2021-07-14T05:55:14.000Z"
   },
   {
    "duration": 12,
    "start_time": "2021-07-14T05:55:14.384Z"
   },
   {
    "duration": 24,
    "start_time": "2021-07-14T05:55:14.397Z"
   },
   {
    "duration": 191,
    "start_time": "2021-07-14T05:55:14.422Z"
   },
   {
    "duration": 8,
    "start_time": "2021-07-14T05:55:14.615Z"
   },
   {
    "duration": 5,
    "start_time": "2021-07-14T05:55:14.624Z"
   },
   {
    "duration": 2673,
    "start_time": "2021-07-14T05:55:14.631Z"
   },
   {
    "duration": 177,
    "start_time": "2021-07-14T05:55:17.306Z"
   },
   {
    "duration": 417,
    "start_time": "2021-07-14T05:55:17.485Z"
   },
   {
    "duration": 17,
    "start_time": "2021-07-14T05:55:17.903Z"
   },
   {
    "duration": 13,
    "start_time": "2021-07-14T05:55:17.921Z"
   },
   {
    "duration": 16,
    "start_time": "2021-07-14T05:55:17.936Z"
   },
   {
    "duration": 260,
    "start_time": "2021-07-14T05:55:17.953Z"
   },
   {
    "duration": 19,
    "start_time": "2021-07-14T05:55:18.214Z"
   },
   {
    "duration": 257,
    "start_time": "2021-07-14T05:55:18.234Z"
   },
   {
    "duration": 14,
    "start_time": "2021-07-14T05:55:18.492Z"
   },
   {
    "duration": 183,
    "start_time": "2021-07-14T05:55:18.508Z"
   },
   {
    "duration": 6,
    "start_time": "2021-07-14T05:55:18.693Z"
   },
   {
    "duration": 10,
    "start_time": "2021-07-14T05:55:18.701Z"
   },
   {
    "duration": 7,
    "start_time": "2021-07-14T05:55:18.712Z"
   },
   {
    "duration": 5,
    "start_time": "2021-07-14T05:55:18.720Z"
   },
   {
    "duration": 5,
    "start_time": "2021-07-18T08:36:12.672Z"
   },
   {
    "duration": 5,
    "start_time": "2021-08-21T19:24:11.387Z"
   },
   {
    "duration": 9,
    "start_time": "2021-08-21T19:24:11.394Z"
   },
   {
    "duration": 54,
    "start_time": "2021-08-21T19:24:11.406Z"
   },
   {
    "duration": 28,
    "start_time": "2021-08-21T19:24:11.463Z"
   },
   {
    "duration": 16,
    "start_time": "2021-08-21T19:24:11.494Z"
   },
   {
    "duration": 47,
    "start_time": "2021-08-21T19:24:11.513Z"
   },
   {
    "duration": 20,
    "start_time": "2021-08-21T19:24:11.564Z"
   },
   {
    "duration": 66,
    "start_time": "2021-08-21T19:24:11.587Z"
   },
   {
    "duration": 4,
    "start_time": "2021-08-21T19:24:11.656Z"
   },
   {
    "duration": 26,
    "start_time": "2021-08-21T19:24:11.662Z"
   },
   {
    "duration": 13,
    "start_time": "2021-08-21T19:24:11.691Z"
   },
   {
    "duration": 50,
    "start_time": "2021-08-21T19:24:11.706Z"
   },
   {
    "duration": 24,
    "start_time": "2021-08-21T19:24:11.758Z"
   },
   {
    "duration": 17,
    "start_time": "2021-08-21T19:24:11.784Z"
   },
   {
    "duration": 11,
    "start_time": "2021-08-21T19:24:11.804Z"
   },
   {
    "duration": 40,
    "start_time": "2021-08-21T19:24:11.817Z"
   },
   {
    "duration": 21,
    "start_time": "2021-08-21T19:24:11.860Z"
   },
   {
    "duration": 10,
    "start_time": "2021-08-21T19:24:11.884Z"
   },
   {
    "duration": 23,
    "start_time": "2021-08-21T19:24:11.899Z"
   },
   {
    "duration": 52,
    "start_time": "2021-08-21T19:24:11.927Z"
   },
   {
    "duration": 630,
    "start_time": "2021-08-21T19:24:11.982Z"
   },
   {
    "duration": 53,
    "start_time": "2021-08-21T19:24:12.614Z"
   },
   {
    "duration": 583,
    "start_time": "2021-08-21T19:24:12.671Z"
   },
   {
    "duration": 24,
    "start_time": "2021-08-21T19:24:13.257Z"
   },
   {
    "duration": 411,
    "start_time": "2021-08-21T19:24:13.284Z"
   },
   {
    "duration": 540,
    "start_time": "2021-08-21T19:24:13.698Z"
   },
   {
    "duration": 426,
    "start_time": "2021-08-21T19:24:14.241Z"
   },
   {
    "duration": 428,
    "start_time": "2021-08-21T19:24:14.669Z"
   },
   {
    "duration": 401,
    "start_time": "2021-08-21T19:24:15.100Z"
   },
   {
    "duration": 401,
    "start_time": "2021-08-21T19:24:15.504Z"
   },
   {
    "duration": 616,
    "start_time": "2021-08-21T19:24:15.908Z"
   },
   {
    "duration": 45,
    "start_time": "2021-08-21T19:24:16.527Z"
   },
   {
    "duration": 27,
    "start_time": "2021-08-21T19:24:16.575Z"
   },
   {
    "duration": 383,
    "start_time": "2021-08-21T19:24:16.605Z"
   },
   {
    "duration": 35,
    "start_time": "2021-08-21T19:24:16.990Z"
   },
   {
    "duration": 588,
    "start_time": "2021-08-21T19:24:17.028Z"
   },
   {
    "duration": 15,
    "start_time": "2021-08-21T19:24:17.618Z"
   },
   {
    "duration": 28,
    "start_time": "2021-08-21T19:24:17.635Z"
   },
   {
    "duration": 337,
    "start_time": "2021-08-21T19:24:17.665Z"
   },
   {
    "duration": 13,
    "start_time": "2021-08-21T19:24:18.005Z"
   },
   {
    "duration": 8,
    "start_time": "2021-08-21T19:24:18.021Z"
   },
   {
    "duration": 4281,
    "start_time": "2021-08-21T19:24:18.055Z"
   },
   {
    "duration": 326,
    "start_time": "2021-08-21T19:24:22.339Z"
   },
   {
    "duration": 660,
    "start_time": "2021-08-21T19:24:22.667Z"
   },
   {
    "duration": 40,
    "start_time": "2021-08-21T19:24:23.330Z"
   },
   {
    "duration": 21,
    "start_time": "2021-08-21T19:24:23.373Z"
   },
   {
    "duration": 63,
    "start_time": "2021-08-21T19:24:23.397Z"
   },
   {
    "duration": 448,
    "start_time": "2021-08-21T19:24:23.463Z"
   },
   {
    "duration": 50,
    "start_time": "2021-08-21T19:24:23.914Z"
   },
   {
    "duration": 511,
    "start_time": "2021-08-21T19:24:23.967Z"
   },
   {
    "duration": 25,
    "start_time": "2021-08-21T19:24:24.481Z"
   },
   {
    "duration": 358,
    "start_time": "2021-08-21T19:24:24.508Z"
   },
   {
    "duration": 10,
    "start_time": "2021-08-21T19:24:24.870Z"
   },
   {
    "duration": 14,
    "start_time": "2021-08-21T19:24:24.882Z"
   },
   {
    "duration": 12,
    "start_time": "2021-08-21T19:24:24.903Z"
   },
   {
    "duration": 38,
    "start_time": "2021-08-21T19:24:24.917Z"
   }
  ],
  "kernelspec": {
   "display_name": "Python 3",
   "language": "python",
   "name": "python3"
  },
  "language_info": {
   "codemirror_mode": {
    "name": "ipython",
    "version": 3
   },
   "file_extension": ".py",
   "mimetype": "text/x-python",
   "name": "python",
   "nbconvert_exporter": "python",
   "pygments_lexer": "ipython3",
   "version": "3.8.3"
  },
  "toc": {
   "base_numbering": 1,
   "nav_menu": {},
   "number_sections": true,
   "sideBar": true,
   "skip_h1_title": true,
   "title_cell": "Table of Contents",
   "title_sidebar": "Contents",
   "toc_cell": false,
   "toc_position": {
    "height": "calc(100% - 180px)",
    "left": "10px",
    "top": "150px",
    "width": "286.875px"
   },
   "toc_section_display": true,
   "toc_window_display": false
  }
 },
 "nbformat": 4,
 "nbformat_minor": 2
}
